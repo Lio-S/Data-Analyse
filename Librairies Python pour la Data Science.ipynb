{
 "cells": [
  {
   "cell_type": "markdown",
   "id": "1c992425",
   "metadata": {},
   "source": [
    "# **Bibliothèque Numpy > Numerical Python**"
   ]
  },
  {
   "cell_type": "code",
   "execution_count": 85,
   "id": "646e1806",
   "metadata": {},
   "outputs": [],
   "source": [
    "import numpy as np"
   ]
  },
  {
   "cell_type": "code",
   "execution_count": 86,
   "id": "0b856ea5",
   "metadata": {},
   "outputs": [],
   "source": [
    "revenus = [1800, 1500, 2200, 3000, 2172]"
   ]
  },
  {
   "cell_type": "code",
   "execution_count": 87,
   "id": "e8f72b3e",
   "metadata": {
    "scrolled": false
   },
   "outputs": [
    {
     "data": {
      "text/plain": [
       "2134.4"
      ]
     },
     "execution_count": 87,
     "metadata": {},
     "output_type": "execute_result"
    }
   ],
   "source": [
    "np.mean(revenus) # Moyenne"
   ]
  },
  {
   "cell_type": "code",
   "execution_count": 88,
   "id": "c4959ad7",
   "metadata": {},
   "outputs": [],
   "source": [
    "revenus_array = np.array(revenus) # Création d'un tableau numpy"
   ]
  },
  {
   "cell_type": "markdown",
   "id": "4a60d65c",
   "metadata": {},
   "source": [
    "### *Création de tableaux spécifiques, couramment utilisés :*\n",
    "#### np.zeros(n): \n",
    "Permet de créer un array **rempli de 0**, de n éléments ;\n",
    "#### np.ones(n) : \n",
    "Similaire en tous points à la fonction présentée ci-dessus, à la différence que l’array sera **rempli cette fois-ci de 1** ;\n",
    "#### np.arange(i, j, p)  : \n",
    "Permet de créer un array **rempli avec une séquence linéaire**, qui ira **de  i  à  j**, par pas de  p  ;\n",
    "#### np.linspace(i, j, n) : \n",
    "Permet de créer un array de  **n  valeurs espacées uniformément** entre  i  et  j."
   ]
  },
  {
   "cell_type": "code",
   "execution_count": 89,
   "id": "0f3ce908",
   "metadata": {},
   "outputs": [
    {
     "data": {
      "text/plain": [
       "dtype('int32')"
      ]
     },
     "execution_count": 89,
     "metadata": {},
     "output_type": "execute_result"
    }
   ],
   "source": [
    "revenus_array.dtype # Retourne le type des données d'un array_numpy"
   ]
  },
  {
   "cell_type": "code",
   "execution_count": 90,
   "id": "255b6f73",
   "metadata": {},
   "outputs": [],
   "source": [
    "revenus_array = revenus_array.astype(float) # Converti le type de donnée"
   ]
  },
  {
   "cell_type": "code",
   "execution_count": 91,
   "id": "e9199626",
   "metadata": {},
   "outputs": [
    {
     "name": "stdout",
     "output_type": "stream",
     "text": [
      "[1800. 1500. 2200. 3000. 2172.]\n"
     ]
    }
   ],
   "source": [
    "print(revenus_array)"
   ]
  },
  {
   "cell_type": "code",
   "execution_count": 92,
   "id": "1c7cb6da",
   "metadata": {},
   "outputs": [
    {
     "data": {
      "text/plain": [
       "dtype('float64')"
      ]
     },
     "execution_count": 92,
     "metadata": {},
     "output_type": "execute_result"
    }
   ],
   "source": [
    "revenus_array.dtype"
   ]
  },
  {
   "cell_type": "code",
   "execution_count": 106,
   "id": "a0c2c4d0",
   "metadata": {},
   "outputs": [],
   "source": [
    "revenus_array = np.int8(revenus_array)"
   ]
  },
  {
   "cell_type": "code",
   "execution_count": 107,
   "id": "8f03069b",
   "metadata": {},
   "outputs": [
    {
     "data": {
      "text/plain": [
       "dtype('int8')"
      ]
     },
     "execution_count": 107,
     "metadata": {},
     "output_type": "execute_result"
    }
   ],
   "source": [
    "revenus_array.dtype"
   ]
  },
  {
   "cell_type": "code",
   "execution_count": 108,
   "id": "a0848970",
   "metadata": {},
   "outputs": [
    {
     "data": {
      "text/plain": [
       "array([   8,  -36, -104,  -72,  124], dtype=int8)"
      ]
     },
     "execution_count": 108,
     "metadata": {},
     "output_type": "execute_result"
    }
   ],
   "source": [
    "revenus_array"
   ]
  },
  {
   "cell_type": "code",
   "execution_count": 113,
   "id": "1a745629",
   "metadata": {},
   "outputs": [],
   "source": [
    "revenus_array = np.single"
   ]
  },
  {
   "cell_type": "code",
   "execution_count": 99,
   "id": "6b558229",
   "metadata": {},
   "outputs": [
    {
     "data": {
      "text/plain": [
       "dtype('int32')"
      ]
     },
     "execution_count": 99,
     "metadata": {},
     "output_type": "execute_result"
    }
   ],
   "source": [
    "revenus_array"
   ]
  },
  {
   "cell_type": "code",
   "execution_count": 118,
   "id": "c5189c37",
   "metadata": {},
   "outputs": [],
   "source": [
    "revenus_array = np.array(revenus)"
   ]
  },
  {
   "cell_type": "code",
   "execution_count": 119,
   "id": "8bf72ca9",
   "metadata": {},
   "outputs": [
    {
     "data": {
      "text/plain": [
       "dtype('int32')"
      ]
     },
     "execution_count": 119,
     "metadata": {},
     "output_type": "execute_result"
    }
   ],
   "source": [
    "revenus_array.dtype"
   ]
  },
  {
   "cell_type": "code",
   "execution_count": 120,
   "id": "2a1ccf83",
   "metadata": {},
   "outputs": [
    {
     "data": {
      "text/plain": [
       "array([1800, 1500, 2200, 3000, 2172])"
      ]
     },
     "execution_count": 120,
     "metadata": {},
     "output_type": "execute_result"
    }
   ],
   "source": [
    "revenus_array"
   ]
  },
  {
   "cell_type": "code",
   "execution_count": 121,
   "id": "44aac978",
   "metadata": {},
   "outputs": [],
   "source": [
    "revenus_array = revenus_array.astype(float)"
   ]
  },
  {
   "cell_type": "code",
   "execution_count": 122,
   "id": "c8de171a",
   "metadata": {},
   "outputs": [
    {
     "data": {
      "text/plain": [
       "dtype('float64')"
      ]
     },
     "execution_count": 122,
     "metadata": {},
     "output_type": "execute_result"
    }
   ],
   "source": [
    "revenus_array.dtype"
   ]
  },
  {
   "cell_type": "code",
   "execution_count": 123,
   "id": "82a5d571",
   "metadata": {},
   "outputs": [
    {
     "data": {
      "text/plain": [
       "array([1800., 1500., 2200., 3000., 2172.])"
      ]
     },
     "execution_count": 123,
     "metadata": {},
     "output_type": "execute_result"
    }
   ],
   "source": [
    "revenus_array"
   ]
  },
  {
   "cell_type": "markdown",
   "id": "a1b1eec5",
   "metadata": {},
   "source": [
    "### Accédez à plusieurs éléments contigus :"
   ]
  },
  {
   "cell_type": "markdown",
   "id": "f9443a45",
   "metadata": {},
   "source": [
    "#### nom_array[i:j:p] , avec :\n",
    "         i  : l’indice du début ;\n",
    "         j  : l’indice de fin ;\n",
    "         p : le pas."
   ]
  },
  {
   "cell_type": "code",
   "execution_count": 124,
   "id": "b93088d8",
   "metadata": {},
   "outputs": [
    {
     "data": {
      "text/plain": [
       "array([2200., 3000.])"
      ]
     },
     "execution_count": 124,
     "metadata": {},
     "output_type": "execute_result"
    }
   ],
   "source": [
    "revenus_array[2:4]"
   ]
  },
  {
   "cell_type": "code",
   "execution_count": 125,
   "id": "ed24331c",
   "metadata": {},
   "outputs": [
    {
     "data": {
      "text/plain": [
       "array([1800., 1500.])"
      ]
     },
     "execution_count": 125,
     "metadata": {},
     "output_type": "execute_result"
    }
   ],
   "source": [
    "revenus_array[:2]"
   ]
  },
  {
   "cell_type": "code",
   "execution_count": 126,
   "id": "3dc3cd6f",
   "metadata": {},
   "outputs": [
    {
     "data": {
      "text/plain": [
       "array([1800., 2200., 2172.])"
      ]
     },
     "execution_count": 126,
     "metadata": {},
     "output_type": "execute_result"
    }
   ],
   "source": [
    "revenus_array[:len(revenus_array):2]"
   ]
  },
  {
   "cell_type": "code",
   "execution_count": 130,
   "id": "668106b0",
   "metadata": {},
   "outputs": [
    {
     "data": {
      "text/plain": [
       "array([2172., 3000., 2200., 1500., 1800.])"
      ]
     },
     "execution_count": 130,
     "metadata": {},
     "output_type": "execute_result"
    }
   ],
   "source": [
    "revenus_array[::-1]                        # Inversion Liste"
   ]
  },
  {
   "cell_type": "code",
   "execution_count": 131,
   "id": "c7125a0a",
   "metadata": {},
   "outputs": [
    {
     "data": {
      "text/plain": [
       "array([2200., 3000., 2172.])"
      ]
     },
     "execution_count": 131,
     "metadata": {},
     "output_type": "execute_result"
    }
   ],
   "source": [
    "revenus_array[revenus_array > 2000]        # Accès conditionnel"
   ]
  },
  {
   "cell_type": "code",
   "execution_count": 132,
   "id": "eb6c1add",
   "metadata": {},
   "outputs": [
    {
     "data": {
      "text/plain": [
       "array([1800., 1500., 2200., 3000., 2172.])"
      ]
     },
     "execution_count": 132,
     "metadata": {},
     "output_type": "execute_result"
    }
   ],
   "source": [
    "revenus_array"
   ]
  },
  {
   "cell_type": "code",
   "execution_count": 133,
   "id": "78e37fb1",
   "metadata": {},
   "outputs": [
    {
     "data": {
      "text/plain": [
       "array([2200., 2172.])"
      ]
     },
     "execution_count": 133,
     "metadata": {},
     "output_type": "execute_result"
    }
   ],
   "source": [
    "revenus_array[(revenus_array > 2000) & (revenus_array < 3000)]"
   ]
  },
  {
   "cell_type": "markdown",
   "id": "3137ccce",
   "metadata": {},
   "source": [
    "revenus_array[revenus_array > 2000] = 0 , remplace **tous les éléments supérieurs à 2 000** au sein de notre array **par 0**"
   ]
  },
  {
   "cell_type": "code",
   "execution_count": 134,
   "id": "e9533f2f",
   "metadata": {},
   "outputs": [
    {
     "data": {
      "text/plain": [
       "(5,)"
      ]
     },
     "execution_count": 134,
     "metadata": {},
     "output_type": "execute_result"
    }
   ],
   "source": [
    "revenus_array.shape"
   ]
  },
  {
   "cell_type": "code",
   "execution_count": 136,
   "id": "abb19d89",
   "metadata": {},
   "outputs": [
    {
     "data": {
      "text/plain": [
       "2134.4"
      ]
     },
     "execution_count": 136,
     "metadata": {},
     "output_type": "execute_result"
    }
   ],
   "source": [
    "# calculer la moyenne\n",
    "revenus_array.mean()"
   ]
  },
  {
   "cell_type": "code",
   "execution_count": 135,
   "id": "311a4558",
   "metadata": {
    "scrolled": true
   },
   "outputs": [
    {
     "data": {
      "text/plain": [
       "1500.0"
      ]
     },
     "execution_count": 135,
     "metadata": {},
     "output_type": "execute_result"
    }
   ],
   "source": [
    "# calculer le maximum (ou le minimum) :\n",
    "revenus_array.max()\n",
    "revenus_array.min()"
   ]
  },
  {
   "cell_type": "code",
   "execution_count": 137,
   "id": "2f32e91f",
   "metadata": {},
   "outputs": [
    {
     "data": {
      "text/plain": [
       "3"
      ]
     },
     "execution_count": 137,
     "metadata": {},
     "output_type": "execute_result"
    }
   ],
   "source": [
    "# accéder à l’indice de l’élement minimum (ou maximum) :\n",
    "revenus_array.argmin()\n",
    "revenus_array.argmax()"
   ]
  },
  {
   "cell_type": "code",
   "execution_count": 138,
   "id": "d9a53611",
   "metadata": {},
   "outputs": [
    {
     "data": {
      "text/plain": [
       "array([1800., 1500., 2200., 3000., 2172.])"
      ]
     },
     "execution_count": 138,
     "metadata": {},
     "output_type": "execute_result"
    }
   ],
   "source": [
    "revenus_array"
   ]
  },
  {
   "cell_type": "code",
   "execution_count": 139,
   "id": "fd7b34c4",
   "metadata": {},
   "outputs": [
    {
     "name": "stdout",
     "output_type": "stream",
     "text": [
      "[1500. 1800. 2172. 2200. 3000.]\n"
     ]
    }
   ],
   "source": [
    "# ordonner par ordre croissant :\n",
    "revenus_array.sort()\n",
    "print(revenus_array)"
   ]
  },
  {
   "cell_type": "code",
   "execution_count": 140,
   "id": "f64d723a",
   "metadata": {},
   "outputs": [
    {
     "data": {
      "text/plain": [
       "10672.0"
      ]
     },
     "execution_count": 140,
     "metadata": {},
     "output_type": "execute_result"
    }
   ],
   "source": [
    "# calculer la somme :\n",
    "revenus_array.sum()"
   ]
  },
  {
   "cell_type": "code",
   "execution_count": null,
   "id": "cd0e44c1",
   "metadata": {},
   "outputs": [],
   "source": []
  }
 ],
 "metadata": {
  "kernelspec": {
   "display_name": "Python 3 (ipykernel)",
   "language": "python",
   "name": "python3"
  },
  "language_info": {
   "codemirror_mode": {
    "name": "ipython",
    "version": 3
   },
   "file_extension": ".py",
   "mimetype": "text/x-python",
   "name": "python",
   "nbconvert_exporter": "python",
   "pygments_lexer": "ipython3",
   "version": "3.9.13"
  }
 },
 "nbformat": 4,
 "nbformat_minor": 5
}
