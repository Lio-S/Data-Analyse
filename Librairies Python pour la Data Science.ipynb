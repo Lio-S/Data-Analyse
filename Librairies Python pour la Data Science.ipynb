{
 "cells": [
  {
   "cell_type": "markdown",
   "id": "d078601f",
   "metadata": {},
   "source": [
    "# **Bibliothèque Numpy > Numerical Python**"
   ]
  },
  {
   "cell_type": "code",
   "execution_count": 85,
   "id": "646e1806",
   "metadata": {},
   "outputs": [],
   "source": [
    "import numpy as np"
   ]
  },
  {
   "cell_type": "code",
   "execution_count": 86,
   "id": "0b856ea5",
   "metadata": {},
   "outputs": [],
   "source": [
    "revenus = [1800, 1500, 2200, 3000, 2172]"
   ]
  },
  {
   "cell_type": "code",
   "execution_count": 87,
   "id": "e8f72b3e",
   "metadata": {
    "scrolled": false
   },
   "outputs": [
    {
     "data": {
      "text/plain": [
       "2134.4"
      ]
     },
     "execution_count": 87,
     "metadata": {},
     "output_type": "execute_result"
    }
   ],
   "source": [
    "np.mean(revenus) # Moyenne"
   ]
  },
  {
   "cell_type": "code",
   "execution_count": 88,
   "id": "c4959ad7",
   "metadata": {},
   "outputs": [],
   "source": [
    "revenus_array = np.array(revenus) # Création d'un tableau numpy"
   ]
  },
  {
   "cell_type": "markdown",
   "id": "4a60d65c",
   "metadata": {},
   "source": [
    "### *Création de tableaux spécifiques, couramment utilisés :*\n",
    "#### np.zeros(n): \n",
    "Permet de créer un array **rempli de 0**, de n éléments ;\n",
    "#### np.ones(n) : \n",
    "Similaire en tous points à la fonction présentée ci-dessus, à la différence que l’array sera **rempli cette fois-ci de 1** ;\n",
    "#### np.arange(i, j, p)  : \n",
    "Permet de créer un array **rempli avec une séquence linéaire**, qui ira **de  i  à  j**, par pas de  p  ;\n",
    "#### np.linspace(i, j, n) : \n",
    "Permet de créer un array de  **n  valeurs espacées uniformément** entre  i  et  j."
   ]
  },
  {
   "cell_type": "code",
   "execution_count": 89,
   "id": "0f3ce908",
   "metadata": {},
   "outputs": [
    {
     "data": {
      "text/plain": [
       "dtype('int32')"
      ]
     },
     "execution_count": 89,
     "metadata": {},
     "output_type": "execute_result"
    }
   ],
   "source": [
    "revenus_array.dtype # Retourne le type des données d'un array_numpy"
   ]
  },
  {
   "cell_type": "code",
   "execution_count": 90,
   "id": "255b6f73",
   "metadata": {},
   "outputs": [],
   "source": [
    "revenus_array = revenus_array.astype(float) # Converti le type de donnée"
   ]
  },
  {
   "cell_type": "code",
   "execution_count": 91,
   "id": "e9199626",
   "metadata": {},
   "outputs": [
    {
     "name": "stdout",
     "output_type": "stream",
     "text": [
      "[1800. 1500. 2200. 3000. 2172.]\n"
     ]
    }
   ],
   "source": [
    "print(revenus_array)"
   ]
  },
  {
   "cell_type": "code",
   "execution_count": 92,
   "id": "1c7cb6da",
   "metadata": {},
   "outputs": [
    {
     "data": {
      "text/plain": [
       "dtype('float64')"
      ]
     },
     "execution_count": 92,
     "metadata": {},
     "output_type": "execute_result"
    }
   ],
   "source": [
    "revenus_array.dtype"
   ]
  },
  {
   "cell_type": "code",
   "execution_count": 106,
   "id": "a0c2c4d0",
   "metadata": {},
   "outputs": [],
   "source": [
    "revenus_array = np.int8(revenus_array)"
   ]
  },
  {
   "cell_type": "code",
   "execution_count": 107,
   "id": "8f03069b",
   "metadata": {},
   "outputs": [
    {
     "data": {
      "text/plain": [
       "dtype('int8')"
      ]
     },
     "execution_count": 107,
     "metadata": {},
     "output_type": "execute_result"
    }
   ],
   "source": [
    "revenus_array.dtype"
   ]
  },
  {
   "cell_type": "code",
   "execution_count": 108,
   "id": "5bbf9e14",
   "metadata": {},
   "outputs": [
    {
     "data": {
      "text/plain": [
       "array([   8,  -36, -104,  -72,  124], dtype=int8)"
      ]
     },
     "execution_count": 108,
     "metadata": {},
     "output_type": "execute_result"
    }
   ],
   "source": [
    "revenus_array"
   ]
  },
  {
   "cell_type": "code",
   "execution_count": 113,
   "id": "1a745629",
   "metadata": {},
   "outputs": [],
   "source": [
    "revenus_array = np.single"
   ]
  },
  {
   "cell_type": "code",
   "execution_count": 99,
   "id": "6b558229",
   "metadata": {},
   "outputs": [
    {
     "data": {
      "text/plain": [
       "dtype('int32')"
      ]
     },
     "execution_count": 99,
     "metadata": {},
     "output_type": "execute_result"
    }
   ],
   "source": [
    "revenus_array"
   ]
  },
  {
   "cell_type": "code",
   "execution_count": 118,
   "id": "c5189c37",
   "metadata": {},
   "outputs": [],
   "source": [
    "revenus_array = np.array(revenus)"
   ]
  },
  {
   "cell_type": "code",
   "execution_count": 119,
   "id": "8bf72ca9",
   "metadata": {},
   "outputs": [
    {
     "data": {
      "text/plain": [
       "dtype('int32')"
      ]
     },
     "execution_count": 119,
     "metadata": {},
     "output_type": "execute_result"
    }
   ],
   "source": [
    "revenus_array.dtype"
   ]
  },
  {
   "cell_type": "code",
   "execution_count": 120,
   "id": "2a1ccf83",
   "metadata": {},
   "outputs": [
    {
     "data": {
      "text/plain": [
       "array([1800, 1500, 2200, 3000, 2172])"
      ]
     },
     "execution_count": 120,
     "metadata": {},
     "output_type": "execute_result"
    }
   ],
   "source": [
    "revenus_array"
   ]
  },
  {
   "cell_type": "code",
   "execution_count": 121,
   "id": "beaa5fdc",
   "metadata": {},
   "outputs": [],
   "source": [
    "revenus_array = revenus_array.astype(float)"
   ]
  },
  {
   "cell_type": "code",
   "execution_count": 122,
   "id": "d72fcf61",
   "metadata": {},
   "outputs": [
    {
     "data": {
      "text/plain": [
       "dtype('float64')"
      ]
     },
     "execution_count": 122,
     "metadata": {},
     "output_type": "execute_result"
    }
   ],
   "source": [
    "revenus_array.dtype"
   ]
  },
  {
   "cell_type": "code",
   "execution_count": 123,
   "id": "573a1d69",
   "metadata": {},
   "outputs": [
    {
     "data": {
      "text/plain": [
       "array([1800., 1500., 2200., 3000., 2172.])"
      ]
     },
     "execution_count": 123,
     "metadata": {},
     "output_type": "execute_result"
    }
   ],
   "source": [
    "revenus_array"
   ]
  },
  {
   "cell_type": "markdown",
   "id": "2caeb893",
   "metadata": {},
   "source": [
    "### Accédez à plusieurs éléments contigus :"
   ]
  },
  {
   "cell_type": "markdown",
   "id": "f9fec54d",
   "metadata": {},
   "source": [
    "#### nom_array[i:j:p] , avec :\n",
    "         i  : l’indice du début ;\n",
    "         j  : l’indice de fin ;\n",
    "         p : le pas."
   ]
  },
  {
   "cell_type": "code",
   "execution_count": 124,
   "id": "f41bff9b",
   "metadata": {},
   "outputs": [
    {
     "data": {
      "text/plain": [
       "array([2200., 3000.])"
      ]
     },
     "execution_count": 124,
     "metadata": {},
     "output_type": "execute_result"
    }
   ],
   "source": [
    "revenus_array[2:4]"
   ]
  },
  {
   "cell_type": "code",
   "execution_count": 125,
   "id": "91a55d12",
   "metadata": {},
   "outputs": [
    {
     "data": {
      "text/plain": [
       "array([1800., 1500.])"
      ]
     },
     "execution_count": 125,
     "metadata": {},
     "output_type": "execute_result"
    }
   ],
   "source": [
    "revenus_array[:2]"
   ]
  },
  {
   "cell_type": "code",
   "execution_count": 126,
   "id": "34eb8a5f",
   "metadata": {},
   "outputs": [
    {
     "data": {
      "text/plain": [
       "array([1800., 2200., 2172.])"
      ]
     },
     "execution_count": 126,
     "metadata": {},
     "output_type": "execute_result"
    }
   ],
   "source": [
    "revenus_array[:len(revenus_array):2]"
   ]
  },
  {
   "cell_type": "code",
   "execution_count": 130,
   "id": "627438b8",
   "metadata": {},
   "outputs": [
    {
     "data": {
      "text/plain": [
       "array([2172., 3000., 2200., 1500., 1800.])"
      ]
     },
     "execution_count": 130,
     "metadata": {},
     "output_type": "execute_result"
    }
   ],
   "source": [
    "revenus_array[::-1]                        # Inversion Liste"
   ]
  },
  {
   "cell_type": "code",
   "execution_count": 131,
   "id": "363a07f3",
   "metadata": {},
   "outputs": [
    {
     "data": {
      "text/plain": [
       "array([2200., 3000., 2172.])"
      ]
     },
     "execution_count": 131,
     "metadata": {},
     "output_type": "execute_result"
    }
   ],
   "source": [
    "revenus_array[revenus_array > 2000]        # Accès conditionnel"
   ]
  },
  {
   "cell_type": "code",
   "execution_count": 132,
   "id": "da197ea2",
   "metadata": {},
   "outputs": [
    {
     "data": {
      "text/plain": [
       "array([1800., 1500., 2200., 3000., 2172.])"
      ]
     },
     "execution_count": 132,
     "metadata": {},
     "output_type": "execute_result"
    }
   ],
   "source": [
    "revenus_array"
   ]
  },
  {
   "cell_type": "code",
   "execution_count": 133,
   "id": "72ab812a",
   "metadata": {},
   "outputs": [
    {
     "data": {
      "text/plain": [
       "array([2200., 2172.])"
      ]
     },
     "execution_count": 133,
     "metadata": {},
     "output_type": "execute_result"
    }
   ],
   "source": [
    "revenus_array[(revenus_array > 2000) & (revenus_array < 3000)]"
   ]
  },
  {
   "cell_type": "markdown",
   "id": "46ff94cd",
   "metadata": {},
   "source": [
    "revenus_array[revenus_array > 2000] = 0 , remplace **tous les éléments supérieurs à 2 000** au sein de notre array **par 0**"
   ]
  },
  {
   "cell_type": "code",
   "execution_count": 134,
   "id": "7875afe8",
   "metadata": {},
   "outputs": [
    {
     "data": {
      "text/plain": [
       "(5,)"
      ]
     },
     "execution_count": 134,
     "metadata": {},
     "output_type": "execute_result"
    }
   ],
   "source": [
    "revenus_array.shape"
   ]
  },
  {
   "cell_type": "code",
   "execution_count": 144,
   "id": "1f431acd",
   "metadata": {},
   "outputs": [
    {
     "data": {
      "text/plain": [
       "2134.4"
      ]
     },
     "execution_count": 144,
     "metadata": {},
     "output_type": "execute_result"
    }
   ],
   "source": [
    "# calculer la moyenne\n",
    "revenus_array.mean()"
   ]
  },
  {
   "cell_type": "code",
   "execution_count": 149,
   "id": "a04a6764",
   "metadata": {},
   "outputs": [
    {
     "name": "stdout",
     "output_type": "stream",
     "text": [
      "2134.4\n"
     ]
    }
   ],
   "source": [
    "# Calculer un arrondi (ici à une virgule)\n",
    "arrondi = round(revenus_array.mean(),1)\n",
    "print(arrondi)"
   ]
  },
  {
   "cell_type": "code",
   "execution_count": 135,
   "id": "84096234",
   "metadata": {
    "scrolled": true
   },
   "outputs": [
    {
     "data": {
      "text/plain": [
       "1500.0"
      ]
     },
     "execution_count": 135,
     "metadata": {},
     "output_type": "execute_result"
    }
   ],
   "source": [
    "# calculer le maximum (ou le minimum) :\n",
    "revenus_array.max()\n",
    "revenus_array.min()"
   ]
  },
  {
   "cell_type": "code",
   "execution_count": 137,
   "id": "25cf32b8",
   "metadata": {},
   "outputs": [
    {
     "data": {
      "text/plain": [
       "3"
      ]
     },
     "execution_count": 137,
     "metadata": {},
     "output_type": "execute_result"
    }
   ],
   "source": [
    "# accéder à l’indice de l’élement minimum (ou maximum) :\n",
    "revenus_array.argmin()\n",
    "revenus_array.argmax()"
   ]
  },
  {
   "cell_type": "code",
   "execution_count": 138,
   "id": "fab86a27",
   "metadata": {},
   "outputs": [
    {
     "data": {
      "text/plain": [
       "array([1800., 1500., 2200., 3000., 2172.])"
      ]
     },
     "execution_count": 138,
     "metadata": {},
     "output_type": "execute_result"
    }
   ],
   "source": [
    "revenus_array"
   ]
  },
  {
   "cell_type": "code",
   "execution_count": 139,
   "id": "b25e4c79",
   "metadata": {},
   "outputs": [
    {
     "name": "stdout",
     "output_type": "stream",
     "text": [
      "[1500. 1800. 2172. 2200. 3000.]\n"
     ]
    }
   ],
   "source": [
    "# ordonner par ordre croissant :\n",
    "revenus_array.sort()\n",
    "print(revenus_array)"
   ]
  },
  {
   "cell_type": "code",
   "execution_count": 140,
   "id": "ca4ae301",
   "metadata": {},
   "outputs": [
    {
     "data": {
      "text/plain": [
       "10672.0"
      ]
     },
     "execution_count": 140,
     "metadata": {},
     "output_type": "execute_result"
    }
   ],
   "source": [
    "# calculer la somme :\n",
    "revenus_array.sum()"
   ]
  },
  {
   "cell_type": "markdown",
   "id": "9f3210ba",
   "metadata": {},
   "source": [
    "### Tableaux Multidimensionnels:\n",
    "tab1 = np.array([[1, 2],\n",
    "    [3, 4],\n",
    "        [5, 6]]) > 3 lignes et 2 colonnes\n",
    "\n",
    "tab2 = np.array([[1, 2, 3],\n",
    "        [4, 5, 6]]) > 2 lignes et 3 colonnes"
   ]
  },
  {
   "cell_type": "code",
   "execution_count": 150,
   "id": "9f8adf7a",
   "metadata": {},
   "outputs": [
    {
     "data": {
      "text/plain": [
       "array([[7, 5, 5],\n",
       "       [1, 1, 8],\n",
       "       [6, 5, 2]])"
      ]
     },
     "execution_count": 150,
     "metadata": {},
     "output_type": "execute_result"
    }
   ],
   "source": [
    "# un tableau de 3x5 rempli de 1\n",
    "np.ones((3, 5))\n",
    "# un tableau de 4 lignes et de 4 colonnes contenant que des 0\n",
    "np.zeros((4, 4))\n",
    "# un tableau de 6x3 rempli de valeurs aléatoires comprises entre 0 et 1\n",
    "np.random.random((6, 3))\n",
    "# un tableau de 3x3 rempli de valeurs aléatoires entières, comprises entre 1 et 10\n",
    "np.random.randint(1, 10, size=(3, 3))"
   ]
  },
  {
   "cell_type": "code",
   "execution_count": 160,
   "id": "0fcdbfa0",
   "metadata": {},
   "outputs": [
    {
     "name": "stdout",
     "output_type": "stream",
     "text": [
      "A =  [[1 2]\n",
      " [3 4]]\n",
      "B =  [[ 5 10]\n",
      " [15 20]]\n",
      "A + B =  [[ 6 12]\n",
      " [18 24]]\n"
     ]
    }
   ],
   "source": [
    "# Calcul matriciel :\n",
    "A = np.array([[1, 2], [3, 4]])\n",
    "B = np.array([[5, 10], [15, 20]])\n",
    "C = np.array([[2, 4, 6], [8, 10, 12]])\n",
    "print(\"A = \",A)\n",
    "print(\"B = \",B)\n",
    "print(\"A + B = \",(A + B))"
   ]
  },
  {
   "cell_type": "markdown",
   "id": "15a29a7b",
   "metadata": {},
   "source": [
    "# Transformez vos données en tableaux\n",
    "\n",
    "Nous avons cette fois 10 clients avec trois informations à disposition sur chacun d’eux :\n",
    "- le revenu mensuel\n",
    "- l'âge du client\n",
    "- le nombre d’enfants à charge\n",
    "\n",
    "L’objectif va être de créer un tableau NumPy à partir de ces informations et de répondre aux différentes demandes formulées par notre service prêt en manipulant ce tableau avec les différentes techniques présentées tout au long de ce chapitre."
   ]
  },
  {
   "cell_type": "code",
   "execution_count": 161,
   "id": "abc6a57e",
   "metadata": {},
   "outputs": [],
   "source": [
    "import numpy as np"
   ]
  },
  {
   "cell_type": "code",
   "execution_count": 162,
   "id": "722d6bcd",
   "metadata": {},
   "outputs": [
    {
     "data": {
      "text/plain": [
       "[[1800, 21, 0],\n",
       " [1500, 54, 2],\n",
       " [2200, 28, 3],\n",
       " [3000, 37, 1],\n",
       " [2172, 37, 2],\n",
       " [5000, 32, 0],\n",
       " [1400, 23, 0],\n",
       " [1200, 25, 1],\n",
       " [1100, 19, 0],\n",
       " [1300, 31, 2]]"
      ]
     },
     "metadata": {},
     "output_type": "display_data"
    }
   ],
   "source": [
    "hugo = [1800, 21, 0]\n",
    "richard = [1500, 54, 2]\n",
    "emilie = [2200, 28, 3]\n",
    "pierre = [3000, 37, 1]\n",
    "paul = [2172, 37, 2]\n",
    "deborah = [5000, 32, 0]\n",
    "yohann = [1400, 23, 0]\n",
    "anne = [1200, 25, 1]\n",
    "thibault = [1100, 19, 0]\n",
    "emmanuel = [1300, 31, 2]\n",
    "\n",
    "tableau = [hugo, richard, emilie, pierre, paul, deborah,\n",
    "           yohann, anne, thibault, emmanuel]\n",
    "\n",
    "display(tableau)"
   ]
  },
  {
   "cell_type": "code",
   "execution_count": 164,
   "id": "e713b647",
   "metadata": {},
   "outputs": [],
   "source": [
    "data = np.array(tableau)"
   ]
  },
  {
   "cell_type": "code",
   "execution_count": 187,
   "id": "ac22a376",
   "metadata": {},
   "outputs": [
    {
     "name": "stdout",
     "output_type": "stream",
     "text": [
      "[2172   37    2]\n",
      "[2172   37    2]\n",
      "760.2\n"
     ]
    }
   ],
   "source": [
    "print(data[4])\n",
    "print(data[4,:])\n",
    "print(round(data[4,0]*0.35, 12))"
   ]
  },
  {
   "cell_type": "code",
   "execution_count": 172,
   "id": "b8a75e8c",
   "metadata": {},
   "outputs": [],
   "source": [
    "louise = [1900, 31, 1]"
   ]
  },
  {
   "cell_type": "code",
   "execution_count": 174,
   "id": "85a63ab7",
   "metadata": {},
   "outputs": [
    {
     "data": {
      "text/plain": [
       "array([[1800,   21,    0],\n",
       "       [1500,   54,    2],\n",
       "       [2200,   28,    3],\n",
       "       [3000,   37,    1],\n",
       "       [2172,   37,    2],\n",
       "       [5000,   32,    0],\n",
       "       [1400,   23,    0],\n",
       "       [1200,   25,    1],\n",
       "       [1100,   19,    0],\n",
       "       [1300,   31,    2],\n",
       "       [1900,   31,    1]])"
      ]
     },
     "execution_count": 174,
     "metadata": {},
     "output_type": "execute_result"
    }
   ],
   "source": [
    "np.vstack((data, louise))"
   ]
  },
  {
   "cell_type": "code",
   "execution_count": 176,
   "id": "60fb0d98",
   "metadata": {},
   "outputs": [
    {
     "name": "stdout",
     "output_type": "stream",
     "text": [
      "[1800 1500 2200 3000 2172 5000 1400 1200 1100 1300]\n"
     ]
    }
   ],
   "source": [
    "revenus = data[:,0]\n",
    "print(revenus)"
   ]
  },
  {
   "cell_type": "code",
   "execution_count": 198,
   "id": "43122868",
   "metadata": {},
   "outputs": [
    {
     "name": "stdout",
     "output_type": "stream",
     "text": [
      "[ 5.   5.5  6.   6.5  7.   7.5  8.   8.5  9.   9.5 10. ]\n",
      "[9.  9.5]\n",
      "10.0\n",
      "[5.5 6.  6.5 7.  7.5 8.  8.5 9.  9.5]\n",
      "[ 5.   5.5  6.   6.5  7.   7.5  8.   8.5  9.   9.5 10. ]\n"
     ]
    }
   ],
   "source": [
    "a = np.linspace(5, 10, 11)\n",
    "print(a)\n",
    "print(a[-3:-1])\n",
    "print(a[-1])\n",
    "print(a[1:-1])\n",
    "print(a[0:len(a)])"
   ]
  },
  {
   "cell_type": "code",
   "execution_count": 189,
   "id": "791ed83e",
   "metadata": {
    "scrolled": true
   },
   "outputs": [
    {
     "data": {
      "text/plain": [
       "array([ 6.,  8., 10.])"
      ]
     },
     "execution_count": 189,
     "metadata": {},
     "output_type": "execute_result"
    }
   ],
   "source": [
    "a[a % 2 == 0]"
   ]
  },
  {
   "cell_type": "markdown",
   "id": "d65dbdba",
   "metadata": {},
   "source": [
    "# **Panda**"
   ]
  },
  {
   "cell_type": "code",
   "execution_count": null,
   "id": "5286681d",
   "metadata": {},
   "outputs": [],
   "source": []
  }
 ],
 "metadata": {
  "kernelspec": {
   "display_name": "Python 3 (ipykernel)",
   "language": "python",
   "name": "python3"
  },
  "language_info": {
   "codemirror_mode": {
    "name": "ipython",
    "version": 3
   },
   "file_extension": ".py",
   "mimetype": "text/x-python",
   "name": "python",
   "nbconvert_exporter": "python",
   "pygments_lexer": "ipython3",
   "version": "3.9.13"
  }
 },
 "nbformat": 4,
 "nbformat_minor": 5
}
