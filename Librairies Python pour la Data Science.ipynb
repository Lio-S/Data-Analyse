{
 "cells": [
  {
   "cell_type": "code",
   "execution_count": 85,
   "id": "646e1806",
   "metadata": {},
   "outputs": [],
   "source": [
    "import numpy as np"
   ]
  },
  {
   "cell_type": "code",
   "execution_count": 86,
   "id": "0b856ea5",
   "metadata": {},
   "outputs": [],
   "source": [
    "revenus = [1800, 1500, 2200, 3000, 2172]"
   ]
  },
  {
   "cell_type": "code",
   "execution_count": 87,
   "id": "e8f72b3e",
   "metadata": {
    "scrolled": false
   },
   "outputs": [
    {
     "data": {
      "text/plain": [
       "2134.4"
      ]
     },
     "execution_count": 87,
     "metadata": {},
     "output_type": "execute_result"
    }
   ],
   "source": [
    "np.mean(revenus) # Moyenne"
   ]
  },
  {
   "cell_type": "code",
   "execution_count": 88,
   "id": "c4959ad7",
   "metadata": {},
   "outputs": [],
   "source": [
    "revenus_array = np.array(revenus) # Création d'un tableau numpy"
   ]
  },
  {
   "cell_type": "markdown",
   "id": "4a60d65c",
   "metadata": {},
   "source": [
    "### *Création de tableaux spécifiques, couramment utilisés :*\n",
    "#### np.zeros(n): \n",
    "Permet de créer un array **rempli de 0**, de n éléments ;\n",
    "#### np.ones(n) : \n",
    "Similaire en tous points à la fonction présentée ci-dessus, à la différence que l’array sera **rempli cette fois-ci de 1** ;\n",
    "#### np.arange(i, j, p)  : \n",
    "Permet de créer un array **rempli avec une séquence linéaire**, qui ira **de  i  à  j**, par pas de  p  ;\n",
    "#### np.linspace(i, j, n) : \n",
    "Permet de créer un array de  **n  valeurs espacées uniformément** entre  i  et  j."
   ]
  },
  {
   "cell_type": "code",
   "execution_count": 89,
   "id": "0f3ce908",
   "metadata": {},
   "outputs": [
    {
     "data": {
      "text/plain": [
       "dtype('int32')"
      ]
     },
     "execution_count": 89,
     "metadata": {},
     "output_type": "execute_result"
    }
   ],
   "source": [
    "revenus_array.dtype # Retourne le type des données d'un array_numpy"
   ]
  },
  {
   "cell_type": "code",
   "execution_count": 90,
   "id": "255b6f73",
   "metadata": {},
   "outputs": [],
   "source": [
    "revenus_array = revenus_array.astype(float) # Converti le type de donnée"
   ]
  },
  {
   "cell_type": "code",
   "execution_count": 91,
   "id": "e9199626",
   "metadata": {},
   "outputs": [
    {
     "name": "stdout",
     "output_type": "stream",
     "text": [
      "[1800. 1500. 2200. 3000. 2172.]\n"
     ]
    }
   ],
   "source": [
    "print(revenus_array)"
   ]
  },
  {
   "cell_type": "code",
   "execution_count": 92,
   "id": "1c7cb6da",
   "metadata": {},
   "outputs": [
    {
     "data": {
      "text/plain": [
       "dtype('float64')"
      ]
     },
     "execution_count": 92,
     "metadata": {},
     "output_type": "execute_result"
    }
   ],
   "source": [
    "revenus_array.dtype"
   ]
  },
  {
   "cell_type": "code",
   "execution_count": 106,
   "id": "a0c2c4d0",
   "metadata": {},
   "outputs": [],
   "source": [
    "revenus_array = np.int8(revenus_array)"
   ]
  },
  {
   "cell_type": "code",
   "execution_count": 107,
   "id": "8f03069b",
   "metadata": {},
   "outputs": [
    {
     "data": {
      "text/plain": [
       "dtype('int8')"
      ]
     },
     "execution_count": 107,
     "metadata": {},
     "output_type": "execute_result"
    }
   ],
   "source": [
    "revenus_array.dtype"
   ]
  },
  {
   "cell_type": "code",
   "execution_count": 108,
   "id": "382f0e21",
   "metadata": {},
   "outputs": [
    {
     "data": {
      "text/plain": [
       "array([   8,  -36, -104,  -72,  124], dtype=int8)"
      ]
     },
     "execution_count": 108,
     "metadata": {},
     "output_type": "execute_result"
    }
   ],
   "source": [
    "revenus_array"
   ]
  },
  {
   "cell_type": "code",
   "execution_count": 113,
   "id": "1a745629",
   "metadata": {},
   "outputs": [],
   "source": [
    "revenus_array = np.single"
   ]
  },
  {
   "cell_type": "code",
   "execution_count": 99,
   "id": "6b558229",
   "metadata": {},
   "outputs": [
    {
     "data": {
      "text/plain": [
       "dtype('int32')"
      ]
     },
     "execution_count": 99,
     "metadata": {},
     "output_type": "execute_result"
    }
   ],
   "source": [
    "revenus_array"
   ]
  },
  {
   "cell_type": "code",
   "execution_count": 118,
   "id": "c5189c37",
   "metadata": {},
   "outputs": [],
   "source": [
    "revenus_array = np.array(revenus)"
   ]
  },
  {
   "cell_type": "code",
   "execution_count": 119,
   "id": "8bf72ca9",
   "metadata": {},
   "outputs": [
    {
     "data": {
      "text/plain": [
       "dtype('int32')"
      ]
     },
     "execution_count": 119,
     "metadata": {},
     "output_type": "execute_result"
    }
   ],
   "source": [
    "revenus_array.dtype"
   ]
  },
  {
   "cell_type": "code",
   "execution_count": 120,
   "id": "2a1ccf83",
   "metadata": {},
   "outputs": [
    {
     "data": {
      "text/plain": [
       "array([1800, 1500, 2200, 3000, 2172])"
      ]
     },
     "execution_count": 120,
     "metadata": {},
     "output_type": "execute_result"
    }
   ],
   "source": [
    "revenus_array"
   ]
  },
  {
   "cell_type": "code",
   "execution_count": 121,
   "id": "11f5dccf",
   "metadata": {},
   "outputs": [],
   "source": [
    "revenus_array = revenus_array.astype(float)"
   ]
  },
  {
   "cell_type": "code",
   "execution_count": 122,
   "id": "decc6a5a",
   "metadata": {},
   "outputs": [
    {
     "data": {
      "text/plain": [
       "dtype('float64')"
      ]
     },
     "execution_count": 122,
     "metadata": {},
     "output_type": "execute_result"
    }
   ],
   "source": [
    "revenus_array.dtype"
   ]
  },
  {
   "cell_type": "code",
   "execution_count": 123,
   "id": "3273fcda",
   "metadata": {},
   "outputs": [
    {
     "data": {
      "text/plain": [
       "array([1800., 1500., 2200., 3000., 2172.])"
      ]
     },
     "execution_count": 123,
     "metadata": {},
     "output_type": "execute_result"
    }
   ],
   "source": [
    "revenus_array"
   ]
  },
  {
   "cell_type": "code",
   "execution_count": null,
   "id": "408ac1ce",
   "metadata": {},
   "outputs": [],
   "source": []
  }
 ],
 "metadata": {
  "kernelspec": {
   "display_name": "Python 3 (ipykernel)",
   "language": "python",
   "name": "python3"
  },
  "language_info": {
   "codemirror_mode": {
    "name": "ipython",
    "version": 3
   },
   "file_extension": ".py",
   "mimetype": "text/x-python",
   "name": "python",
   "nbconvert_exporter": "python",
   "pygments_lexer": "ipython3",
   "version": "3.9.13"
  }
 },
 "nbformat": 4,
 "nbformat_minor": 5
}
