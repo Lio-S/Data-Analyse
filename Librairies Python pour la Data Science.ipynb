{
 "cells": [
  {
   "cell_type": "markdown",
   "id": "d078601f",
   "metadata": {},
   "source": [
    "# **Bibliothèque Numpy > Numerical Python**"
   ]
  },
  {
   "cell_type": "code",
   "execution_count": 85,
   "id": "646e1806",
   "metadata": {},
   "outputs": [],
   "source": [
    "import numpy as np"
   ]
  },
  {
   "cell_type": "code",
   "execution_count": 86,
   "id": "0b856ea5",
   "metadata": {},
   "outputs": [],
   "source": [
    "revenus = [1800, 1500, 2200, 3000, 2172]"
   ]
  },
  {
   "cell_type": "code",
   "execution_count": 87,
   "id": "e8f72b3e",
   "metadata": {
    "scrolled": false
   },
   "outputs": [
    {
     "data": {
      "text/plain": [
       "2134.4"
      ]
     },
     "execution_count": 87,
     "metadata": {},
     "output_type": "execute_result"
    }
   ],
   "source": [
    "np.mean(revenus) # Moyenne"
   ]
  },
  {
   "cell_type": "code",
   "execution_count": 88,
   "id": "c4959ad7",
   "metadata": {},
   "outputs": [],
   "source": [
    "revenus_array = np.array(revenus) # Création d'un tableau numpy"
   ]
  },
  {
   "cell_type": "markdown",
   "id": "4a60d65c",
   "metadata": {},
   "source": [
    "### *Création de tableaux spécifiques, couramment utilisés :*\n",
    "#### np.zeros(n): \n",
    "Permet de créer un array **rempli de 0**, de n éléments ;\n",
    "#### np.ones(n) : \n",
    "Similaire en tous points à la fonction présentée ci-dessus, à la différence que l’array sera **rempli cette fois-ci de 1** ;\n",
    "#### np.arange(i, j, p)  : \n",
    "Permet de créer un array **rempli avec une séquence linéaire**, qui ira **de  i  à  j**, par pas de  p  ;\n",
    "#### np.linspace(i, j, n) : \n",
    "Permet de créer un array de  **n  valeurs espacées uniformément** entre  i  et  j."
   ]
  },
  {
   "cell_type": "code",
   "execution_count": 89,
   "id": "0f3ce908",
   "metadata": {},
   "outputs": [
    {
     "data": {
      "text/plain": [
       "dtype('int32')"
      ]
     },
     "execution_count": 89,
     "metadata": {},
     "output_type": "execute_result"
    }
   ],
   "source": [
    "revenus_array.dtype # Retourne le type des données d'un array_numpy"
   ]
  },
  {
   "cell_type": "code",
   "execution_count": 90,
   "id": "255b6f73",
   "metadata": {},
   "outputs": [],
   "source": [
    "revenus_array = revenus_array.astype(float) # Converti le type de donnée"
   ]
  },
  {
   "cell_type": "code",
   "execution_count": 91,
   "id": "e9199626",
   "metadata": {},
   "outputs": [
    {
     "name": "stdout",
     "output_type": "stream",
     "text": [
      "[1800. 1500. 2200. 3000. 2172.]\n"
     ]
    }
   ],
   "source": [
    "print(revenus_array)"
   ]
  },
  {
   "cell_type": "code",
   "execution_count": 92,
   "id": "1c7cb6da",
   "metadata": {},
   "outputs": [
    {
     "data": {
      "text/plain": [
       "dtype('float64')"
      ]
     },
     "execution_count": 92,
     "metadata": {},
     "output_type": "execute_result"
    }
   ],
   "source": [
    "revenus_array.dtype"
   ]
  },
  {
   "cell_type": "code",
   "execution_count": 106,
   "id": "a0c2c4d0",
   "metadata": {},
   "outputs": [],
   "source": [
    "revenus_array = np.int8(revenus_array)"
   ]
  },
  {
   "cell_type": "code",
   "execution_count": 107,
   "id": "8f03069b",
   "metadata": {},
   "outputs": [
    {
     "data": {
      "text/plain": [
       "dtype('int8')"
      ]
     },
     "execution_count": 107,
     "metadata": {},
     "output_type": "execute_result"
    }
   ],
   "source": [
    "revenus_array.dtype"
   ]
  },
  {
   "cell_type": "code",
   "execution_count": 108,
   "id": "5bbf9e14",
   "metadata": {},
   "outputs": [
    {
     "data": {
      "text/plain": [
       "array([   8,  -36, -104,  -72,  124], dtype=int8)"
      ]
     },
     "execution_count": 108,
     "metadata": {},
     "output_type": "execute_result"
    }
   ],
   "source": [
    "revenus_array"
   ]
  },
  {
   "cell_type": "code",
   "execution_count": 113,
   "id": "1a745629",
   "metadata": {},
   "outputs": [],
   "source": [
    "revenus_array = np.single"
   ]
  },
  {
   "cell_type": "code",
   "execution_count": 99,
   "id": "6b558229",
   "metadata": {},
   "outputs": [
    {
     "data": {
      "text/plain": [
       "dtype('int32')"
      ]
     },
     "execution_count": 99,
     "metadata": {},
     "output_type": "execute_result"
    }
   ],
   "source": [
    "revenus_array"
   ]
  },
  {
   "cell_type": "code",
   "execution_count": 118,
   "id": "c5189c37",
   "metadata": {},
   "outputs": [],
   "source": [
    "revenus_array = np.array(revenus)"
   ]
  },
  {
   "cell_type": "code",
   "execution_count": 119,
   "id": "8bf72ca9",
   "metadata": {},
   "outputs": [
    {
     "data": {
      "text/plain": [
       "dtype('int32')"
      ]
     },
     "execution_count": 119,
     "metadata": {},
     "output_type": "execute_result"
    }
   ],
   "source": [
    "revenus_array.dtype"
   ]
  },
  {
   "cell_type": "code",
   "execution_count": 120,
   "id": "2a1ccf83",
   "metadata": {},
   "outputs": [
    {
     "data": {
      "text/plain": [
       "array([1800, 1500, 2200, 3000, 2172])"
      ]
     },
     "execution_count": 120,
     "metadata": {},
     "output_type": "execute_result"
    }
   ],
   "source": [
    "revenus_array"
   ]
  },
  {
   "cell_type": "code",
   "execution_count": 121,
   "id": "beaa5fdc",
   "metadata": {},
   "outputs": [],
   "source": [
    "revenus_array = revenus_array.astype(float)"
   ]
  },
  {
   "cell_type": "code",
   "execution_count": 122,
   "id": "d72fcf61",
   "metadata": {},
   "outputs": [
    {
     "data": {
      "text/plain": [
       "dtype('float64')"
      ]
     },
     "execution_count": 122,
     "metadata": {},
     "output_type": "execute_result"
    }
   ],
   "source": [
    "revenus_array.dtype"
   ]
  },
  {
   "cell_type": "code",
   "execution_count": 123,
   "id": "573a1d69",
   "metadata": {},
   "outputs": [
    {
     "data": {
      "text/plain": [
       "array([1800., 1500., 2200., 3000., 2172.])"
      ]
     },
     "execution_count": 123,
     "metadata": {},
     "output_type": "execute_result"
    }
   ],
   "source": [
    "revenus_array"
   ]
  },
  {
   "cell_type": "markdown",
   "id": "2caeb893",
   "metadata": {},
   "source": [
    "### Accédez à plusieurs éléments contigus :"
   ]
  },
  {
   "cell_type": "markdown",
   "id": "f9fec54d",
   "metadata": {},
   "source": [
    "#### nom_array[i:j:p] , avec :\n",
    "         i  : l’indice du début ;\n",
    "         j  : l’indice de fin ;\n",
    "         p : le pas."
   ]
  },
  {
   "cell_type": "code",
   "execution_count": 124,
   "id": "f41bff9b",
   "metadata": {},
   "outputs": [
    {
     "data": {
      "text/plain": [
       "array([2200., 3000.])"
      ]
     },
     "execution_count": 124,
     "metadata": {},
     "output_type": "execute_result"
    }
   ],
   "source": [
    "revenus_array[2:4]"
   ]
  },
  {
   "cell_type": "code",
   "execution_count": 125,
   "id": "91a55d12",
   "metadata": {},
   "outputs": [
    {
     "data": {
      "text/plain": [
       "array([1800., 1500.])"
      ]
     },
     "execution_count": 125,
     "metadata": {},
     "output_type": "execute_result"
    }
   ],
   "source": [
    "revenus_array[:2]"
   ]
  },
  {
   "cell_type": "code",
   "execution_count": 126,
   "id": "34eb8a5f",
   "metadata": {},
   "outputs": [
    {
     "data": {
      "text/plain": [
       "array([1800., 2200., 2172.])"
      ]
     },
     "execution_count": 126,
     "metadata": {},
     "output_type": "execute_result"
    }
   ],
   "source": [
    "revenus_array[:len(revenus_array):2]"
   ]
  },
  {
   "cell_type": "code",
   "execution_count": 130,
   "id": "627438b8",
   "metadata": {},
   "outputs": [
    {
     "data": {
      "text/plain": [
       "array([2172., 3000., 2200., 1500., 1800.])"
      ]
     },
     "execution_count": 130,
     "metadata": {},
     "output_type": "execute_result"
    }
   ],
   "source": [
    "revenus_array[::-1]                        # Inversion Liste"
   ]
  },
  {
   "cell_type": "code",
   "execution_count": 131,
   "id": "363a07f3",
   "metadata": {},
   "outputs": [
    {
     "data": {
      "text/plain": [
       "array([2200., 3000., 2172.])"
      ]
     },
     "execution_count": 131,
     "metadata": {},
     "output_type": "execute_result"
    }
   ],
   "source": [
    "revenus_array[revenus_array > 2000]        # Accès conditionnel"
   ]
  },
  {
   "cell_type": "code",
   "execution_count": 132,
   "id": "da197ea2",
   "metadata": {},
   "outputs": [
    {
     "data": {
      "text/plain": [
       "array([1800., 1500., 2200., 3000., 2172.])"
      ]
     },
     "execution_count": 132,
     "metadata": {},
     "output_type": "execute_result"
    }
   ],
   "source": [
    "revenus_array"
   ]
  },
  {
   "cell_type": "code",
   "execution_count": 133,
   "id": "72ab812a",
   "metadata": {},
   "outputs": [
    {
     "data": {
      "text/plain": [
       "array([2200., 2172.])"
      ]
     },
     "execution_count": 133,
     "metadata": {},
     "output_type": "execute_result"
    }
   ],
   "source": [
    "revenus_array[(revenus_array > 2000) & (revenus_array < 3000)]"
   ]
  },
  {
   "cell_type": "markdown",
   "id": "46ff94cd",
   "metadata": {},
   "source": [
    "revenus_array[revenus_array > 2000] = 0 , remplace **tous les éléments supérieurs à 2 000** au sein de notre array **par 0**"
   ]
  },
  {
   "cell_type": "code",
   "execution_count": 134,
   "id": "7875afe8",
   "metadata": {},
   "outputs": [
    {
     "data": {
      "text/plain": [
       "(5,)"
      ]
     },
     "execution_count": 134,
     "metadata": {},
     "output_type": "execute_result"
    }
   ],
   "source": [
    "revenus_array.shape"
   ]
  },
  {
   "cell_type": "code",
   "execution_count": 144,
   "id": "1f431acd",
   "metadata": {},
   "outputs": [
    {
     "data": {
      "text/plain": [
       "2134.4"
      ]
     },
     "execution_count": 144,
     "metadata": {},
     "output_type": "execute_result"
    }
   ],
   "source": [
    "# calculer la moyenne\n",
    "revenus_array.mean()"
   ]
  },
  {
   "cell_type": "code",
   "execution_count": 149,
   "id": "a04a6764",
   "metadata": {},
   "outputs": [
    {
     "name": "stdout",
     "output_type": "stream",
     "text": [
      "2134.4\n"
     ]
    }
   ],
   "source": [
    "# Calculer un arrondi (ici à une virgule)\n",
    "arrondi = round(revenus_array.mean(),1)\n",
    "print(arrondi)"
   ]
  },
  {
   "cell_type": "code",
   "execution_count": 135,
   "id": "84096234",
   "metadata": {
    "scrolled": true
   },
   "outputs": [
    {
     "data": {
      "text/plain": [
       "1500.0"
      ]
     },
     "execution_count": 135,
     "metadata": {},
     "output_type": "execute_result"
    }
   ],
   "source": [
    "# calculer le maximum (ou le minimum) :\n",
    "revenus_array.max()\n",
    "revenus_array.min()"
   ]
  },
  {
   "cell_type": "code",
   "execution_count": 137,
   "id": "25cf32b8",
   "metadata": {},
   "outputs": [
    {
     "data": {
      "text/plain": [
       "3"
      ]
     },
     "execution_count": 137,
     "metadata": {},
     "output_type": "execute_result"
    }
   ],
   "source": [
    "# accéder à l’indice de l’élement minimum (ou maximum) :\n",
    "revenus_array.argmin()\n",
    "revenus_array.argmax()"
   ]
  },
  {
   "cell_type": "code",
   "execution_count": 138,
   "id": "fab86a27",
   "metadata": {},
   "outputs": [
    {
     "data": {
      "text/plain": [
       "array([1800., 1500., 2200., 3000., 2172.])"
      ]
     },
     "execution_count": 138,
     "metadata": {},
     "output_type": "execute_result"
    }
   ],
   "source": [
    "revenus_array"
   ]
  },
  {
   "cell_type": "code",
   "execution_count": 139,
   "id": "b25e4c79",
   "metadata": {},
   "outputs": [
    {
     "name": "stdout",
     "output_type": "stream",
     "text": [
      "[1500. 1800. 2172. 2200. 3000.]\n"
     ]
    }
   ],
   "source": [
    "# ordonner par ordre croissant :\n",
    "revenus_array.sort()\n",
    "print(revenus_array)"
   ]
  },
  {
   "cell_type": "code",
   "execution_count": 140,
   "id": "ca4ae301",
   "metadata": {},
   "outputs": [
    {
     "data": {
      "text/plain": [
       "10672.0"
      ]
     },
     "execution_count": 140,
     "metadata": {},
     "output_type": "execute_result"
    }
   ],
   "source": [
    "# calculer la somme :\n",
    "revenus_array.sum()"
   ]
  },
  {
   "cell_type": "markdown",
   "id": "9f3210ba",
   "metadata": {},
   "source": [
    "### Tableaux Multidimensionnels:\n",
    "tab1 = np.array([[1, 2],\n",
    "    [3, 4],\n",
    "        [5, 6]]) > 3 lignes et 2 colonnes\n",
    "\n",
    "tab2 = np.array([[1, 2, 3],\n",
    "        [4, 5, 6]]) > 2 lignes et 3 colonnes"
   ]
  },
  {
   "cell_type": "code",
   "execution_count": 150,
   "id": "9f8adf7a",
   "metadata": {},
   "outputs": [
    {
     "data": {
      "text/plain": [
       "array([[7, 5, 5],\n",
       "       [1, 1, 8],\n",
       "       [6, 5, 2]])"
      ]
     },
     "execution_count": 150,
     "metadata": {},
     "output_type": "execute_result"
    }
   ],
   "source": [
    "# un tableau de 3x5 rempli de 1\n",
    "np.ones((3, 5))\n",
    "# un tableau de 4 lignes et de 4 colonnes contenant que des 0\n",
    "np.zeros((4, 4))\n",
    "# un tableau de 6x3 rempli de valeurs aléatoires comprises entre 0 et 1\n",
    "np.random.random((6, 3))\n",
    "# un tableau de 3x3 rempli de valeurs aléatoires entières, comprises entre 1 et 10\n",
    "np.random.randint(1, 10, size=(3, 3))"
   ]
  },
  {
   "cell_type": "code",
   "execution_count": 160,
   "id": "0fcdbfa0",
   "metadata": {},
   "outputs": [
    {
     "name": "stdout",
     "output_type": "stream",
     "text": [
      "A =  [[1 2]\n",
      " [3 4]]\n",
      "B =  [[ 5 10]\n",
      " [15 20]]\n",
      "A + B =  [[ 6 12]\n",
      " [18 24]]\n"
     ]
    }
   ],
   "source": [
    "# Calcul matriciel :\n",
    "A = np.array([[1, 2], [3, 4]])\n",
    "B = np.array([[5, 10], [15, 20]])\n",
    "C = np.array([[2, 4, 6], [8, 10, 12]])\n",
    "print(\"A = \",A)\n",
    "print(\"B = \",B)\n",
    "print(\"A + B = \",(A + B))"
   ]
  },
  {
   "cell_type": "markdown",
   "id": "15a29a7b",
   "metadata": {},
   "source": [
    "# Transformez vos données en tableaux\n",
    "\n",
    "Nous avons cette fois 10 clients avec trois informations à disposition sur chacun d’eux :\n",
    "- le revenu mensuel\n",
    "- l'âge du client\n",
    "- le nombre d’enfants à charge\n",
    "\n",
    "L’objectif va être de créer un tableau NumPy à partir de ces informations et de répondre aux différentes demandes formulées par notre service prêt en manipulant ce tableau avec les différentes techniques présentées tout au long de ce chapitre."
   ]
  },
  {
   "cell_type": "code",
   "execution_count": 161,
   "id": "abc6a57e",
   "metadata": {},
   "outputs": [],
   "source": [
    "import numpy as np"
   ]
  },
  {
   "cell_type": "code",
   "execution_count": 162,
   "id": "722d6bcd",
   "metadata": {},
   "outputs": [
    {
     "data": {
      "text/plain": [
       "[[1800, 21, 0],\n",
       " [1500, 54, 2],\n",
       " [2200, 28, 3],\n",
       " [3000, 37, 1],\n",
       " [2172, 37, 2],\n",
       " [5000, 32, 0],\n",
       " [1400, 23, 0],\n",
       " [1200, 25, 1],\n",
       " [1100, 19, 0],\n",
       " [1300, 31, 2]]"
      ]
     },
     "metadata": {},
     "output_type": "display_data"
    }
   ],
   "source": [
    "hugo = [1800, 21, 0]\n",
    "richard = [1500, 54, 2]\n",
    "emilie = [2200, 28, 3]\n",
    "pierre = [3000, 37, 1]\n",
    "paul = [2172, 37, 2]\n",
    "deborah = [5000, 32, 0]\n",
    "yohann = [1400, 23, 0]\n",
    "anne = [1200, 25, 1]\n",
    "thibault = [1100, 19, 0]\n",
    "emmanuel = [1300, 31, 2]\n",
    "\n",
    "tableau = [hugo, richard, emilie, pierre, paul, deborah,\n",
    "           yohann, anne, thibault, emmanuel]\n",
    "\n",
    "display(tableau)"
   ]
  },
  {
   "cell_type": "code",
   "execution_count": 164,
   "id": "e713b647",
   "metadata": {},
   "outputs": [],
   "source": [
    "data = np.array(tableau)"
   ]
  },
  {
   "cell_type": "code",
   "execution_count": 187,
   "id": "ac22a376",
   "metadata": {},
   "outputs": [
    {
     "name": "stdout",
     "output_type": "stream",
     "text": [
      "[2172   37    2]\n",
      "[2172   37    2]\n",
      "760.2\n"
     ]
    }
   ],
   "source": [
    "print(data[4])\n",
    "print(data[4,:])\n",
    "print(round(data[4,0]*0.35, 12))"
   ]
  },
  {
   "cell_type": "code",
   "execution_count": 172,
   "id": "b8a75e8c",
   "metadata": {},
   "outputs": [],
   "source": [
    "louise = [1900, 31, 1]"
   ]
  },
  {
   "cell_type": "code",
   "execution_count": 174,
   "id": "85a63ab7",
   "metadata": {},
   "outputs": [
    {
     "data": {
      "text/plain": [
       "array([[1800,   21,    0],\n",
       "       [1500,   54,    2],\n",
       "       [2200,   28,    3],\n",
       "       [3000,   37,    1],\n",
       "       [2172,   37,    2],\n",
       "       [5000,   32,    0],\n",
       "       [1400,   23,    0],\n",
       "       [1200,   25,    1],\n",
       "       [1100,   19,    0],\n",
       "       [1300,   31,    2],\n",
       "       [1900,   31,    1]])"
      ]
     },
     "execution_count": 174,
     "metadata": {},
     "output_type": "execute_result"
    }
   ],
   "source": [
    "np.vstack((data, louise))"
   ]
  },
  {
   "cell_type": "code",
   "execution_count": 176,
   "id": "60fb0d98",
   "metadata": {},
   "outputs": [
    {
     "name": "stdout",
     "output_type": "stream",
     "text": [
      "[1800 1500 2200 3000 2172 5000 1400 1200 1100 1300]\n"
     ]
    }
   ],
   "source": [
    "revenus = data[:,0]\n",
    "print(revenus)"
   ]
  },
  {
   "cell_type": "code",
   "execution_count": 198,
   "id": "43122868",
   "metadata": {},
   "outputs": [
    {
     "name": "stdout",
     "output_type": "stream",
     "text": [
      "[ 5.   5.5  6.   6.5  7.   7.5  8.   8.5  9.   9.5 10. ]\n",
      "[9.  9.5]\n",
      "10.0\n",
      "[5.5 6.  6.5 7.  7.5 8.  8.5 9.  9.5]\n",
      "[ 5.   5.5  6.   6.5  7.   7.5  8.   8.5  9.   9.5 10. ]\n"
     ]
    }
   ],
   "source": [
    "a = np.linspace(5, 10, 11)\n",
    "print(a)\n",
    "print(a[-3:-1])\n",
    "print(a[-1])\n",
    "print(a[1:-1])\n",
    "print(a[0:len(a)])"
   ]
  },
  {
   "cell_type": "code",
   "execution_count": 189,
   "id": "791ed83e",
   "metadata": {
    "scrolled": true
   },
   "outputs": [
    {
     "data": {
      "text/plain": [
       "array([ 6.,  8., 10.])"
      ]
     },
     "execution_count": 189,
     "metadata": {},
     "output_type": "execute_result"
    }
   ],
   "source": [
    "a[a % 2 == 0]"
   ]
  },
  {
   "cell_type": "markdown",
   "id": "d65dbdba",
   "metadata": {},
   "source": [
    "# **Panda**"
   ]
  },
  {
   "cell_type": "markdown",
   "id": "f473043b",
   "metadata": {},
   "source": [
    "#### Le data frame est un objet Python permettant de représenter les données sous forme de tableau, \n",
    "où chaque colonne est explicitement nommée. Il reprend les mêmes paradigmes que l’array NumPy :\n",
    "chaque colonne peut naturellement être d’un type différent, mais une colonne ne peut contenir qu’un seul type !\n",
    "Cette organisation simplifie l’accès aux variables, et permet de nombreuses manipulations de données plus ou moins complexes."
   ]
  },
  {
   "cell_type": "code",
   "execution_count": 206,
   "id": "2d30d193",
   "metadata": {},
   "outputs": [],
   "source": [
    "import pandas as pd"
   ]
  },
  {
   "cell_type": "code",
   "execution_count": 212,
   "id": "ef0c6868",
   "metadata": {},
   "outputs": [
    {
     "data": {
      "text/html": [
       "<div>\n",
       "<style scoped>\n",
       "    .dataframe tbody tr th:only-of-type {\n",
       "        vertical-align: middle;\n",
       "    }\n",
       "\n",
       "    .dataframe tbody tr th {\n",
       "        vertical-align: top;\n",
       "    }\n",
       "\n",
       "    .dataframe thead th {\n",
       "        text-align: right;\n",
       "    }\n",
       "</style>\n",
       "<table border=\"1\" class=\"dataframe\">\n",
       "  <thead>\n",
       "    <tr style=\"text-align: right;\">\n",
       "      <th></th>\n",
       "      <th>identifiant</th>\n",
       "      <th>email</th>\n",
       "      <th>nom</th>\n",
       "      <th>genre</th>\n",
       "    </tr>\n",
       "  </thead>\n",
       "  <tbody>\n",
       "    <tr>\n",
       "      <th>0</th>\n",
       "      <td>0</td>\n",
       "      <td>LaurentDagenais@rhyta.com</td>\n",
       "      <td>Laurent Dagenais</td>\n",
       "      <td>M</td>\n",
       "    </tr>\n",
       "    <tr>\n",
       "      <th>1</th>\n",
       "      <td>1</td>\n",
       "      <td>GuyMarois@fleckens.hu</td>\n",
       "      <td>Guy Marois</td>\n",
       "      <td>M</td>\n",
       "    </tr>\n",
       "    <tr>\n",
       "      <th>2</th>\n",
       "      <td>2</td>\n",
       "      <td>BeaufortLesage@einrot.com</td>\n",
       "      <td>Beaufort Lesage</td>\n",
       "      <td>M</td>\n",
       "    </tr>\n",
       "    <tr>\n",
       "      <th>3</th>\n",
       "      <td>3</td>\n",
       "      <td>RussellDurand@armyspy.com</td>\n",
       "      <td>Russell Durand</td>\n",
       "      <td>M</td>\n",
       "    </tr>\n",
       "    <tr>\n",
       "      <th>4</th>\n",
       "      <td>4</td>\n",
       "      <td>AlexisRiel@rhyta.com</td>\n",
       "      <td>Alexis Riel</td>\n",
       "      <td>M</td>\n",
       "    </tr>\n",
       "    <tr>\n",
       "      <th>...</th>\n",
       "      <td>...</td>\n",
       "      <td>...</td>\n",
       "      <td>...</td>\n",
       "      <td>...</td>\n",
       "    </tr>\n",
       "    <tr>\n",
       "      <th>223</th>\n",
       "      <td>223</td>\n",
       "      <td>ClaudeDandonneau@jourrapide.com</td>\n",
       "      <td>Claude Dandonneau</td>\n",
       "      <td>F</td>\n",
       "    </tr>\n",
       "    <tr>\n",
       "      <th>224</th>\n",
       "      <td>224</td>\n",
       "      <td>ApollineMichaud@superrito.com</td>\n",
       "      <td>Apolline Michaud</td>\n",
       "      <td>F</td>\n",
       "    </tr>\n",
       "    <tr>\n",
       "      <th>225</th>\n",
       "      <td>225</td>\n",
       "      <td>PascalineBeaudry@rhyta.com</td>\n",
       "      <td>Pascaline Beaudry</td>\n",
       "      <td>F</td>\n",
       "    </tr>\n",
       "    <tr>\n",
       "      <th>226</th>\n",
       "      <td>226</td>\n",
       "      <td>FleurCaouette@jourrapide.com</td>\n",
       "      <td>Fleur Caouette</td>\n",
       "      <td>F</td>\n",
       "    </tr>\n",
       "    <tr>\n",
       "      <th>227</th>\n",
       "      <td>227</td>\n",
       "      <td>FrancisMasse@jourrapide.com</td>\n",
       "      <td>Francis Masse</td>\n",
       "      <td>M</td>\n",
       "    </tr>\n",
       "  </tbody>\n",
       "</table>\n",
       "<p>228 rows × 4 columns</p>\n",
       "</div>"
      ],
      "text/plain": [
       "     identifiant                            email                nom genre\n",
       "0              0        LaurentDagenais@rhyta.com   Laurent Dagenais     M\n",
       "1              1            GuyMarois@fleckens.hu         Guy Marois     M\n",
       "2              2        BeaufortLesage@einrot.com    Beaufort Lesage     M\n",
       "3              3        RussellDurand@armyspy.com     Russell Durand     M\n",
       "4              4             AlexisRiel@rhyta.com        Alexis Riel     M\n",
       "..           ...                              ...                ...   ...\n",
       "223          223  ClaudeDandonneau@jourrapide.com  Claude Dandonneau     F\n",
       "224          224    ApollineMichaud@superrito.com   Apolline Michaud     F\n",
       "225          225       PascalineBeaudry@rhyta.com  Pascaline Beaudry     F\n",
       "226          226     FleurCaouette@jourrapide.com     Fleur Caouette     F\n",
       "227          227      FrancisMasse@jourrapide.com      Francis Masse     M\n",
       "\n",
       "[228 rows x 4 columns]"
      ]
     },
     "execution_count": 212,
     "metadata": {},
     "output_type": "execute_result"
    }
   ],
   "source": [
    "data_csv = pd.read_csv('clients.csv')      #Afin de faciliter l'import, placer les fichier dans le même dossier que le projet\n",
    "data_csv\n",
    "# data_csv.head()             Permet de lire les cinq premières lignes d'un tableau (Il est également possible de préciser entre parenthèses le nombre de lignes à afficher, max 60)\n",
    "# data_csv.tail()             Permet de lire les cinq dernières lignes d'un tableau (Il est également possible de préciser entre parenthèses le nombre de lignes à afficher, max 60)"
   ]
  },
  {
   "cell_type": "code",
   "execution_count": 215,
   "id": "4c836ac5",
   "metadata": {},
   "outputs": [
    {
     "data": {
      "text/html": [
       "<div>\n",
       "<style scoped>\n",
       "    .dataframe tbody tr th:only-of-type {\n",
       "        vertical-align: middle;\n",
       "    }\n",
       "\n",
       "    .dataframe tbody tr th {\n",
       "        vertical-align: top;\n",
       "    }\n",
       "\n",
       "    .dataframe thead th {\n",
       "        text-align: right;\n",
       "    }\n",
       "</style>\n",
       "<table border=\"1\" class=\"dataframe\">\n",
       "  <thead>\n",
       "    <tr style=\"text-align: right;\">\n",
       "      <th></th>\n",
       "      <th>identifiant</th>\n",
       "      <th>email</th>\n",
       "      <th>nom</th>\n",
       "      <th>genre</th>\n",
       "    </tr>\n",
       "  </thead>\n",
       "  <tbody>\n",
       "    <tr>\n",
       "      <th>0</th>\n",
       "      <td>0</td>\n",
       "      <td>LaurentDagenais@rhyta.com</td>\n",
       "      <td>Laurent Dagenais</td>\n",
       "      <td>M</td>\n",
       "    </tr>\n",
       "    <tr>\n",
       "      <th>1</th>\n",
       "      <td>1</td>\n",
       "      <td>GuyMarois@fleckens.hu</td>\n",
       "      <td>Guy Marois</td>\n",
       "      <td>M</td>\n",
       "    </tr>\n",
       "    <tr>\n",
       "      <th>2</th>\n",
       "      <td>2</td>\n",
       "      <td>BeaufortLesage@einrot.com</td>\n",
       "      <td>Beaufort Lesage</td>\n",
       "      <td>M</td>\n",
       "    </tr>\n",
       "    <tr>\n",
       "      <th>3</th>\n",
       "      <td>3</td>\n",
       "      <td>RussellDurand@armyspy.com</td>\n",
       "      <td>Russell Durand</td>\n",
       "      <td>M</td>\n",
       "    </tr>\n",
       "    <tr>\n",
       "      <th>4</th>\n",
       "      <td>4</td>\n",
       "      <td>AlexisRiel@rhyta.com</td>\n",
       "      <td>Alexis Riel</td>\n",
       "      <td>M</td>\n",
       "    </tr>\n",
       "  </tbody>\n",
       "</table>\n",
       "</div>"
      ],
      "text/plain": [
       "   identifiant                      email               nom genre\n",
       "0            0  LaurentDagenais@rhyta.com  Laurent Dagenais     M\n",
       "1            1      GuyMarois@fleckens.hu        Guy Marois     M\n",
       "2            2  BeaufortLesage@einrot.com   Beaufort Lesage     M\n",
       "3            3  RussellDurand@armyspy.com    Russell Durand     M\n",
       "4            4       AlexisRiel@rhyta.com       Alexis Riel     M"
      ]
     },
     "execution_count": 215,
     "metadata": {},
     "output_type": "execute_result"
    }
   ],
   "source": [
    "data_json = pd.read_json('clients.json')\n",
    "data_json.head()"
   ]
  },
  {
   "cell_type": "code",
   "execution_count": 216,
   "id": "a514292d",
   "metadata": {},
   "outputs": [
    {
     "data": {
      "text/html": [
       "<div>\n",
       "<style scoped>\n",
       "    .dataframe tbody tr th:only-of-type {\n",
       "        vertical-align: middle;\n",
       "    }\n",
       "\n",
       "    .dataframe tbody tr th {\n",
       "        vertical-align: top;\n",
       "    }\n",
       "\n",
       "    .dataframe thead th {\n",
       "        text-align: right;\n",
       "    }\n",
       "</style>\n",
       "<table border=\"1\" class=\"dataframe\">\n",
       "  <thead>\n",
       "    <tr style=\"text-align: right;\">\n",
       "      <th></th>\n",
       "      <th>identifiant</th>\n",
       "      <th>email</th>\n",
       "      <th>nom</th>\n",
       "      <th>genre</th>\n",
       "    </tr>\n",
       "  </thead>\n",
       "  <tbody>\n",
       "    <tr>\n",
       "      <th>0</th>\n",
       "      <td>0</td>\n",
       "      <td>LaurentDagenais@rhyta.com</td>\n",
       "      <td>Laurent Dagenais</td>\n",
       "      <td>M</td>\n",
       "    </tr>\n",
       "    <tr>\n",
       "      <th>1</th>\n",
       "      <td>1</td>\n",
       "      <td>GuyMarois@fleckens.hu</td>\n",
       "      <td>Guy Marois</td>\n",
       "      <td>M</td>\n",
       "    </tr>\n",
       "    <tr>\n",
       "      <th>2</th>\n",
       "      <td>2</td>\n",
       "      <td>BeaufortLesage@einrot.com</td>\n",
       "      <td>Beaufort Lesage</td>\n",
       "      <td>M</td>\n",
       "    </tr>\n",
       "    <tr>\n",
       "      <th>3</th>\n",
       "      <td>3</td>\n",
       "      <td>RussellDurand@armyspy.com</td>\n",
       "      <td>Russell Durand</td>\n",
       "      <td>M</td>\n",
       "    </tr>\n",
       "    <tr>\n",
       "      <th>4</th>\n",
       "      <td>4</td>\n",
       "      <td>AlexisRiel@rhyta.com</td>\n",
       "      <td>Alexis Riel</td>\n",
       "      <td>M</td>\n",
       "    </tr>\n",
       "  </tbody>\n",
       "</table>\n",
       "</div>"
      ],
      "text/plain": [
       "   identifiant                      email               nom genre\n",
       "0            0  LaurentDagenais@rhyta.com  Laurent Dagenais     M\n",
       "1            1      GuyMarois@fleckens.hu        Guy Marois     M\n",
       "2            2  BeaufortLesage@einrot.com   Beaufort Lesage     M\n",
       "3            3  RussellDurand@armyspy.com    Russell Durand     M\n",
       "4            4       AlexisRiel@rhyta.com       Alexis Riel     M"
      ]
     },
     "execution_count": 216,
     "metadata": {},
     "output_type": "execute_result"
    }
   ],
   "source": [
    "data_excel = pd.read_excel('clients.xlsx')\n",
    "data_excel.head()"
   ]
  },
  {
   "cell_type": "code",
   "execution_count": 217,
   "id": "f3f94f55",
   "metadata": {},
   "outputs": [
    {
     "data": {
      "text/html": [
       "<div>\n",
       "<style scoped>\n",
       "    .dataframe tbody tr th:only-of-type {\n",
       "        vertical-align: middle;\n",
       "    }\n",
       "\n",
       "    .dataframe tbody tr th {\n",
       "        vertical-align: top;\n",
       "    }\n",
       "\n",
       "    .dataframe thead th {\n",
       "        text-align: right;\n",
       "    }\n",
       "</style>\n",
       "<table border=\"1\" class=\"dataframe\">\n",
       "  <thead>\n",
       "    <tr style=\"text-align: right;\">\n",
       "      <th></th>\n",
       "      <th>identifiant</th>\n",
       "      <th>email</th>\n",
       "      <th>nom</th>\n",
       "      <th>genre</th>\n",
       "    </tr>\n",
       "  </thead>\n",
       "  <tbody>\n",
       "    <tr>\n",
       "      <th>226</th>\n",
       "      <td>226</td>\n",
       "      <td>FleurCaouette@jourrapide.com</td>\n",
       "      <td>Fleur Caouette</td>\n",
       "      <td>F</td>\n",
       "    </tr>\n",
       "    <tr>\n",
       "      <th>227</th>\n",
       "      <td>227</td>\n",
       "      <td>FrancisMasse@jourrapide.com</td>\n",
       "      <td>Francis Masse</td>\n",
       "      <td>M</td>\n",
       "    </tr>\n",
       "  </tbody>\n",
       "</table>\n",
       "</div>"
      ],
      "text/plain": [
       "     identifiant                         email             nom genre\n",
       "226          226  FleurCaouette@jourrapide.com  Fleur Caouette     F\n",
       "227          227   FrancisMasse@jourrapide.com   Francis Masse     M"
      ]
     },
     "metadata": {},
     "output_type": "display_data"
    }
   ],
   "source": [
    "# afficher les 2 dernières lignes\n",
    "display(data_excel.tail(2))"
   ]
  },
  {
   "cell_type": "code",
   "execution_count": 219,
   "id": "7428919a",
   "metadata": {},
   "outputs": [
    {
     "data": {
      "text/html": [
       "<div>\n",
       "<style scoped>\n",
       "    .dataframe tbody tr th:only-of-type {\n",
       "        vertical-align: middle;\n",
       "    }\n",
       "\n",
       "    .dataframe tbody tr th {\n",
       "        vertical-align: top;\n",
       "    }\n",
       "\n",
       "    .dataframe thead th {\n",
       "        text-align: right;\n",
       "    }\n",
       "</style>\n",
       "<table border=\"1\" class=\"dataframe\">\n",
       "  <thead>\n",
       "    <tr style=\"text-align: right;\">\n",
       "      <th></th>\n",
       "      <th>identifiant</th>\n",
       "      <th>email</th>\n",
       "      <th>nom</th>\n",
       "      <th>genre</th>\n",
       "    </tr>\n",
       "  </thead>\n",
       "  <tbody>\n",
       "    <tr>\n",
       "      <th>0</th>\n",
       "      <td>0</td>\n",
       "      <td>LaurentDagenais@rhyta.com</td>\n",
       "      <td>Laurent Dagenais</td>\n",
       "      <td>M</td>\n",
       "    </tr>\n",
       "    <tr>\n",
       "      <th>1</th>\n",
       "      <td>1</td>\n",
       "      <td>GuyMarois@fleckens.hu</td>\n",
       "      <td>Guy Marois</td>\n",
       "      <td>M</td>\n",
       "    </tr>\n",
       "    <tr>\n",
       "      <th>2</th>\n",
       "      <td>2</td>\n",
       "      <td>BeaufortLesage@einrot.com</td>\n",
       "      <td>Beaufort Lesage</td>\n",
       "      <td>M</td>\n",
       "    </tr>\n",
       "    <tr>\n",
       "      <th>3</th>\n",
       "      <td>3</td>\n",
       "      <td>RussellDurand@armyspy.com</td>\n",
       "      <td>Russell Durand</td>\n",
       "      <td>M</td>\n",
       "    </tr>\n",
       "    <tr>\n",
       "      <th>4</th>\n",
       "      <td>4</td>\n",
       "      <td>AlexisRiel@rhyta.com</td>\n",
       "      <td>Alexis Riel</td>\n",
       "      <td>M</td>\n",
       "    </tr>\n",
       "    <tr>\n",
       "      <th>...</th>\n",
       "      <td>...</td>\n",
       "      <td>...</td>\n",
       "      <td>...</td>\n",
       "      <td>...</td>\n",
       "    </tr>\n",
       "    <tr>\n",
       "      <th>223</th>\n",
       "      <td>223</td>\n",
       "      <td>ClaudeDandonneau@jourrapide.com</td>\n",
       "      <td>Claude Dandonneau</td>\n",
       "      <td>F</td>\n",
       "    </tr>\n",
       "    <tr>\n",
       "      <th>224</th>\n",
       "      <td>224</td>\n",
       "      <td>ApollineMichaud@superrito.com</td>\n",
       "      <td>Apolline Michaud</td>\n",
       "      <td>F</td>\n",
       "    </tr>\n",
       "    <tr>\n",
       "      <th>225</th>\n",
       "      <td>225</td>\n",
       "      <td>PascalineBeaudry@rhyta.com</td>\n",
       "      <td>Pascaline Beaudry</td>\n",
       "      <td>F</td>\n",
       "    </tr>\n",
       "    <tr>\n",
       "      <th>226</th>\n",
       "      <td>226</td>\n",
       "      <td>FleurCaouette@jourrapide.com</td>\n",
       "      <td>Fleur Caouette</td>\n",
       "      <td>F</td>\n",
       "    </tr>\n",
       "    <tr>\n",
       "      <th>227</th>\n",
       "      <td>227</td>\n",
       "      <td>FrancisMasse@jourrapide.com</td>\n",
       "      <td>Francis Masse</td>\n",
       "      <td>M</td>\n",
       "    </tr>\n",
       "  </tbody>\n",
       "</table>\n",
       "<p>228 rows × 4 columns</p>\n",
       "</div>"
      ],
      "text/plain": [
       "     identifiant                            email                nom genre\n",
       "0              0        LaurentDagenais@rhyta.com   Laurent Dagenais     M\n",
       "1              1            GuyMarois@fleckens.hu         Guy Marois     M\n",
       "2              2        BeaufortLesage@einrot.com    Beaufort Lesage     M\n",
       "3              3        RussellDurand@armyspy.com     Russell Durand     M\n",
       "4              4             AlexisRiel@rhyta.com        Alexis Riel     M\n",
       "..           ...                              ...                ...   ...\n",
       "223          223  ClaudeDandonneau@jourrapide.com  Claude Dandonneau     F\n",
       "224          224    ApollineMichaud@superrito.com   Apolline Michaud     F\n",
       "225          225       PascalineBeaudry@rhyta.com  Pascaline Beaudry     F\n",
       "226          226     FleurCaouette@jourrapide.com     Fleur Caouette     F\n",
       "227          227      FrancisMasse@jourrapide.com      Francis Masse     M\n",
       "\n",
       "[228 rows x 4 columns]"
      ]
     },
     "metadata": {},
     "output_type": "display_data"
    }
   ],
   "source": [
    "# afficher les 5 premières et dernières lignes\n",
    "display(data_excel)"
   ]
  },
  {
   "cell_type": "code",
   "execution_count": 221,
   "id": "25c659ab",
   "metadata": {},
   "outputs": [
    {
     "name": "stdout",
     "output_type": "stream",
     "text": [
      "228\n",
      "4\n"
     ]
    }
   ],
   "source": [
    "dim = data_excel.shape\n",
    "print(dim[0]) # 228 >> Nombre de ligne\n",
    "print(dim[1]) # 4   >> Nombre de colonne"
   ]
  },
  {
   "cell_type": "code",
   "execution_count": 223,
   "id": "1253172e",
   "metadata": {},
   "outputs": [
    {
     "data": {
      "text/plain": [
       "identifiant     int64\n",
       "email          object\n",
       "nom            object\n",
       "genre          object\n",
       "dtype: object"
      ]
     },
     "execution_count": 223,
     "metadata": {},
     "output_type": "execute_result"
    }
   ],
   "source": [
    "data_excel.dtypes"
   ]
  },
  {
   "cell_type": "code",
   "execution_count": 224,
   "id": "353c4600",
   "metadata": {},
   "outputs": [
    {
     "data": {
      "text/plain": [
       "array([[0, 'LaurentDagenais@rhyta.com', 'Laurent Dagenais', 'M'],\n",
       "       [1, 'GuyMarois@fleckens.hu', 'Guy Marois', 'M'],\n",
       "       [2, 'BeaufortLesage@einrot.com', 'Beaufort Lesage', 'M'],\n",
       "       [3, 'RussellDurand@armyspy.com', 'Russell Durand', 'M'],\n",
       "       [4, 'AlexisRiel@rhyta.com', 'Alexis Riel', 'M'],\n",
       "       [5, 'LeonLapresse@cuvox.de', 'Leon Lapresse', 'M'],\n",
       "       [6, 'OrvilleRouthier@gustr.com', 'Orville Routhier', 'M'],\n",
       "       [7, 'AgramantPepin@dayrep.com', 'Agramant Pepin', 'M'],\n",
       "       [8, 'AiglentinaLambert@fleckens.hu', 'Aiglentina Lambert', 'F'],\n",
       "       [9, 'TheodoreClavet@teleworm.us', 'Theodore Clavet', 'M'],\n",
       "       [10, 'ByronLefebvre@jourrapide.com', 'Byron Lefebvre', 'M'],\n",
       "       [11, 'FlorusDevoe@einrot.com', 'Florus Devoe', 'M'],\n",
       "       [12, 'NormandArsenault@armyspy.com', 'Normand Arsenault', 'M'],\n",
       "       [13, 'AcelineHughes@jourrapide.com', 'Aceline Hughes', 'F'],\n",
       "       [14, 'GastonBrisette@superrito.com', 'Gaston Brisette', 'M'],\n",
       "       [15, 'AgateGrandbois@gustr.com', 'Agate Grandbois', 'F'],\n",
       "       [16, 'AgricanFoucault@jourrapide.com', 'Agrican Foucault', 'M'],\n",
       "       [17, 'PrunellaJosseaume@armyspy.com', 'Prunella Josseaume', 'F'],\n",
       "       [18, 'YseultCharest@armyspy.com', 'Yseult Charest', 'F'],\n",
       "       [19, 'DorotheeAupry@cuvox.de', 'Dorothee Aupry', 'F'],\n",
       "       [20, 'AmauryReault@teleworm.us', 'Amaury Reault', 'M'],\n",
       "       [21, 'GillesBeauchamps@superrito.com', 'Gilles Beauchamps', 'M'],\n",
       "       [22, 'FranckDumont@gustr.com', 'Franck Dumont', 'M'],\n",
       "       [23, 'DelmareLHeureux@dayrep.com', 'Delmare L Heureux', 'F'],\n",
       "       [24, 'AlphonseCantin@cuvox.de', 'Alphonse Cantin', 'M'],\n",
       "       [25, 'BlondelleRochon@gustr.com', 'Blondelle Rochon', 'F'],\n",
       "       [26, 'SavilleBernard@armyspy.com', 'Saville Bernard', 'M'],\n",
       "       [27, 'AnnetteJolicoeur@armyspy.com', 'Annette Jolicoeur', 'F'],\n",
       "       [28, 'BradamateMichel@armyspy.com', 'Bradamate Michel', 'F'],\n",
       "       [29, 'HilaireFrappier@armyspy.com', 'Hilaire Frappier', 'F'],\n",
       "       [30, 'MarieBriard@gustr.com', 'Marie Briard', 'F'],\n",
       "       [31, 'MadeleineBatard@superrito.com', 'Madeleine Batard', 'F'],\n",
       "       [32, 'ArberGarcia@dayrep.com', 'Arber Garcia', 'M'],\n",
       "       [33, 'SaberViens@superrito.com', 'Saber Viens', 'M'],\n",
       "       [34, 'ArnaudDubois@rhyta.com', 'Arnaud Dubois', 'M'],\n",
       "       [35, 'PryorBeauchamp@dayrep.com', 'Pryor Beauchamp', 'M'],\n",
       "       [36, 'AlphonsePotvin@armyspy.com', 'Alphonse Potvin', 'M'],\n",
       "       [37, 'FitzLafontaine@dayrep.com', 'Fitz Lafontaine', 'M'],\n",
       "       [38, 'DelmareLamothe@gustr.com', 'Delmare Lamothe', 'F'],\n",
       "       [39, 'DaisiBoileau@jourrapide.com', 'Daisi Boileau', 'F'],\n",
       "       [40, 'SomerPaquette@jourrapide.com', 'Somer Paquette', 'M'],\n",
       "       [41, 'OlivieCourtemanche@armyspy.com', 'Olivie Courtemanche', 'F'],\n",
       "       [42, 'GermainHughes@teleworm.us', 'Germain Hughes', 'M'],\n",
       "       [43, 'MorganaBellemare@superrito.com', 'Morgana Bellemare', 'F'],\n",
       "       [44, 'MerciMorin@gustr.com', 'Merci Morin', 'F'],\n",
       "       [45, 'VerneyBedard@dayrep.com', 'Verney Bedard', 'M'],\n",
       "       [46, 'IgnaceAudibert@armyspy.com', 'Ignace Audibert', 'M'],\n",
       "       [47, 'FranckBinet@superrito.com', 'Franck Binet', 'M'],\n",
       "       [48, 'SumnerRocheleau@einrot.com', 'Sumner Rocheleau', 'M'],\n",
       "       [49, 'AubertPatel@armyspy.com', 'Aubert Patel', 'M'],\n",
       "       [50, 'SumnerLaprise@superrito.com', 'Sumner Laprise', 'M'],\n",
       "       [51, 'MadeleineLeveille@dayrep.com', 'Madeleine Leveille', 'F'],\n",
       "       [52, 'BelisardaGuedry@dayrep.com', 'Belisarda Guedry', 'F'],\n",
       "       [53, 'ZurieTheberge@gustr.com', 'Zurie Theberge', 'F'],\n",
       "       [54, 'ErmengardiBousquet@dayrep.com', 'Ermengardi Bousquet', 'F'],\n",
       "       [55, 'FlorenceBeaudoin@einrot.com', 'Florence Beaudoin', 'F'],\n",
       "       [56, 'LeoneCrete@armyspy.com', 'Leone Crete', 'F'],\n",
       "       [57, 'SearlaitCote@superrito.com', 'Searlait Cote', 'F'],\n",
       "       [58, 'AlphonsineBourassa@cuvox.de', 'Alphonsine Bourassa', 'F'],\n",
       "       [59, 'DidianeDAubigne@einrot.com', 'Didiane D Aubigne', 'F'],\n",
       "       [60, 'EdouardLacroix@cuvox.de', 'Edouard Lacroix', 'M'],\n",
       "       [61, 'OdeletteCharron@superrito.com', 'Odelette Charron', 'F'],\n",
       "       [62, 'AleronBerard@rhyta.com', 'Aleron Berard', 'M'],\n",
       "       [63, 'SylvieDuranseau@einrot.com', 'Sylvie Duranseau', 'F'],\n",
       "       [64, 'YvetteDAvis@cuvox.de', 'Yvette D Avis', 'F'],\n",
       "       [65, 'SolaineLecuyer@dayrep.com', 'Solaine Lecuyer', 'F'],\n",
       "       [66, 'CourtlandDavid@cuvox.de', 'Courtland David', 'M'],\n",
       "       [67, 'PatienceCharbonneau@jourrapide.com', 'Patience Charbonneau',\n",
       "        'F'],\n",
       "       [68, 'EmmanuelLanctot@cuvox.de', 'Emmanuel Lanctot', 'M'],\n",
       "       [69, 'MusetteProvencher@armyspy.com', 'Musette Provencher', 'F'],\n",
       "       [70, 'MorganaMarchesseault@teleworm.us', 'Morgana Marchesseault',\n",
       "        'F'],\n",
       "       [71, 'ViolletteArnoux@cuvox.de', 'Viollette Arnoux', 'F'],\n",
       "       [72, 'SlainieGregoire@cuvox.de', 'Slainie Gregoire', 'F'],\n",
       "       [73, 'GarlandLagueux@rhyta.com', 'Garland Lagueux', 'F'],\n",
       "       [74, 'FerragusGrimard@cuvox.de', 'Ferragus Grimard', 'M'],\n",
       "       [75, 'JeanTollmache@einrot.com', 'Jean Tollmache', 'M'],\n",
       "       [76, 'LanceParent@teleworm.us', 'Lance Parent', 'M'],\n",
       "       [77, 'CheneyChaloux@cuvox.de', 'Cheney Chaloux', 'M'],\n",
       "       [78, 'PierpontLamarre@superrito.com', 'Pierpont Lamarre', 'M'],\n",
       "       [79, 'ComforteQuerry@superrito.com', 'Comforte Querry', 'F'],\n",
       "       [80, 'NadineMasson@teleworm.us', 'Nadine Masson', 'F'],\n",
       "       [81, 'FranceLaderoute@jourrapide.com', 'France Laderoute', 'F'],\n",
       "       [82, 'LothairBonenfant@dayrep.com', 'Lothair Bonenfant', 'M'],\n",
       "       [83, 'OlivieNorbert@cuvox.de', 'Olivie Norbert', 'F'],\n",
       "       [84, 'SomerMarleau@cuvox.de', 'Somer Marleau', 'M'],\n",
       "       [85, 'AstridJolicoeur@superrito.com', 'Astrid Jolicoeur', 'F'],\n",
       "       [86, 'OlivierGaillard@superrito.com', 'Olivier Gaillard', 'M'],\n",
       "       [87, 'PhilipPinneau@teleworm.us', 'Philip Pinneau', 'M'],\n",
       "       [88, 'AlexisLagrange@gustr.com', 'Alexis Lagrange', 'M'],\n",
       "       [89, 'HeloiseGregoire@dayrep.com', 'Heloise Gregoire', 'F'],\n",
       "       [90, 'DexterDavid@fleckens.hu', 'Dexter David', 'M'],\n",
       "       [91, 'JacquesMethot@cuvox.de', 'Jacques Methot', 'M'],\n",
       "       [92, 'AnceloteDesforges@cuvox.de', 'Ancelote Desforges', 'F'],\n",
       "       [93, 'JulietteOuellet@rhyta.com', 'Juliette Ouellet', 'F'],\n",
       "       [94, 'AvrilSylvain@superrito.com', 'Avril Sylvain', 'F'],\n",
       "       [95, 'RachellePlaisance@armyspy.com', 'Rachelle Plaisance', 'F'],\n",
       "       [96, 'BenjaminLabrie@fleckens.hu', 'Benjamin Labrie', 'M'],\n",
       "       [97, 'LaureBondy@superrito.com', 'Laure Bondy', 'F'],\n",
       "       [98, 'NatalieLeveille@rhyta.com', 'Natalie Leveille', 'F'],\n",
       "       [99, 'SydneyGuibord@superrito.com', 'Sydney Guibord', 'F'],\n",
       "       [100, 'ZdenekVadnais@superrito.com', 'Zdenek Vadnais', 'M'],\n",
       "       [101, 'LoyalQuenneville@superrito.com', 'Loyal Quenneville', 'M'],\n",
       "       [102, 'ErnestTachel@cuvox.de', 'Ernest Tachel', 'M'],\n",
       "       [103, 'MatthieuPouchard@teleworm.us', 'Matthieu Pouchard', 'M'],\n",
       "       [104, 'SearlasArtois@rhyta.com', 'Searlas Artois', 'M'],\n",
       "       [105, 'ArnoLeBatelier@einrot.com', 'Arno Le Batelier', 'M'],\n",
       "       [106, 'EstellePoisson@jourrapide.com', 'Estelle Poisson', 'F'],\n",
       "       [107, 'HarcourtCharpentier@cuvox.de', 'Harcourt Charpentier', 'M'],\n",
       "       [108, 'CrescentLavallee@armyspy.com', 'Crescent Lavallee', 'F'],\n",
       "       [109, 'EugeniaVadeboncoeur@cuvox.de', 'Eugenia Vadeboncoeur', 'F'],\n",
       "       [110, 'GenevreLabrie@cuvox.de', 'Genevre Labrie', 'F'],\n",
       "       [111, 'NormandCote@dayrep.com', 'Normand Cote', 'M'],\n",
       "       [112, 'ZoeLeclair@gustr.com', 'Zoe Leclair', 'F'],\n",
       "       [113, 'PhillipaPerrault@einrot.com', 'Phillipa Perrault', 'F'],\n",
       "       [114, 'EliseDesrosiers@jourrapide.com', 'Elise Desrosiers', 'F'],\n",
       "       [115, 'RussellRochon@superrito.com', 'Russell Rochon', 'M'],\n",
       "       [116, 'BeldaLauzier@armyspy.com', 'Belda Lauzier', 'F'],\n",
       "       [117, 'AlphonsineSacre@einrot.com', 'Alphonsine Sacre', 'F'],\n",
       "       [118, 'AubineLabelle@cuvox.de', 'Aubine Labelle', 'F'],\n",
       "       [119, 'EmileVadnais@rhyta.com', 'Emile Vadnais', 'M'],\n",
       "       [120, 'ArienneCantin@superrito.com', 'Arienne Cantin', 'F'],\n",
       "       [121, 'JacquesMarcheterre@einrot.com', 'Jacques Marcheterre', 'M'],\n",
       "       [122, 'EliotDupuis@gustr.com', 'Eliot Dupuis', 'M'],\n",
       "       [123, 'ArthurPlante@jourrapide.com', 'Arthur Plante', 'M'],\n",
       "       [124, 'SacripantLabrie@armyspy.com', 'Sacripant Labrie', 'M'],\n",
       "       [125, 'SibylaLizotte@cuvox.de', 'Sibyla Lizotte', 'F'],\n",
       "       [126, 'ChristianLaberge@armyspy.com', 'Christian Laberge', 'M'],\n",
       "       [127, 'VickDavid@gustr.com', 'Vick David', 'M'],\n",
       "       [128, 'ComforteCloutier@einrot.com', 'Comforte Cloutier', 'F'],\n",
       "       [129, 'ClaudeGalarneau@armyspy.com', 'Claude Galarneau', 'M'],\n",
       "       [130, 'ElisePerrault@superrito.com', 'Elise Perrault', 'F'],\n",
       "       [131, 'LoringRocheleau@cuvox.de', 'Loring Rocheleau', 'M'],\n",
       "       [132, 'MathildeSansouci@superrito.com', 'Mathilde Sansouci', 'F'],\n",
       "       [133, 'AmaurySirois@superrito.com', 'Amaury Sirois', 'M'],\n",
       "       [134, 'ChristelleLandry@jourrapide.com', 'Christelle Landry', 'F'],\n",
       "       [135, 'AdelaideBrousse@gustr.com', 'Adelaide Brousse', 'F'],\n",
       "       [136, 'BriceFaure@einrot.com', 'Brice Faure', 'M'],\n",
       "       [137, 'AlaineHervieux@rhyta.com', 'Alaine Hervieux', 'F'],\n",
       "       [138, 'LanceCroteau@einrot.com', 'Lance Croteau', 'M'],\n",
       "       [139, 'AurelieBazinet@dayrep.com', 'Aurelie Bazinet', 'F'],\n",
       "       [140, 'AstolphoVeronneau@teleworm.us', 'Astolpho Veronneau', 'M'],\n",
       "       [141, 'JolieDeblois@armyspy.com', 'Jolie Deblois', 'F'],\n",
       "       [142, 'MireilleParenteau@superrito.com', 'Mireille Parenteau',\n",
       "        'F'],\n",
       "       [143, 'ToussaintBrodeur@rhyta.com', 'Toussaint Brodeur', 'M'],\n",
       "       [144, 'PorterSimard@armyspy.com', 'Porter Simard', 'M'],\n",
       "       [145, 'JeromedeLaunay@fleckens.hu', 'Jeromede Launay', 'M'],\n",
       "       [146, 'LowellPatel@rhyta.com', 'Lowell Patel', 'M'],\n",
       "       [147, 'GarlandMarcheterre@fleckens.hu', 'Garland Marcheterre',\n",
       "        'F'],\n",
       "       [148, 'OlivierAube@armyspy.com', 'Olivier Aube', 'M'],\n",
       "       [149, 'FrontinoBrian@einrot.com', 'Frontino Brian', 'M'],\n",
       "       [150, 'RochMireault@gustr.com', 'Roch Mireault', 'M'],\n",
       "       [151, 'NathalieCormier@cuvox.de', 'Nathalie Cormier', 'F'],\n",
       "       [152, 'VallisMainville@gustr.com', 'Vallis Mainville', 'M'],\n",
       "       [153, 'DanielleNeufville@teleworm.us', 'Danielle Neufville', 'F'],\n",
       "       [154, 'AllyrianeRacine@gustr.com', 'Allyriane Racine', 'F'],\n",
       "       [155, 'PierpontFlamand@fleckens.hu', 'Pierpont Flamand', 'M'],\n",
       "       [156, 'DanielHuot@rhyta.com', 'Daniel Huot', 'M'],\n",
       "       [157, 'HughPoisson@fleckens.hu', 'Hugh Poisson', 'M'],\n",
       "       [158, 'YoletteMoreau@dayrep.com', 'Yolette Moreau', 'F'],\n",
       "       [159, 'GasparReault@dayrep.com', 'Gaspar Reault', 'M'],\n",
       "       [160, 'DelitBisaillon@teleworm.us', 'Delit Bisaillon', 'F'],\n",
       "       [161, 'ManonDastous@armyspy.com', 'Manon Dastous', 'F'],\n",
       "       [162, 'LoyalFouquet@armyspy.com', 'Loyal Fouquet', 'M'],\n",
       "       [163, 'ApollineLaframboise@teleworm.us', 'Apolline Laframboise',\n",
       "        'F'],\n",
       "       [164, 'OrielMiron@jourrapide.com', 'Oriel Miron', 'F'],\n",
       "       [165, 'LianeLaGarde@cuvox.de', 'Liane La Garde', 'F'],\n",
       "       [166, 'AnastasieCroteau@rhyta.com', 'Anastasie Croteau', 'F'],\n",
       "       [167, 'VerneyCourse@armyspy.com', 'Verney Course', 'M'],\n",
       "       [168, 'VoletaAdler@armyspy.com', 'Voleta Adler', 'F'],\n",
       "       [169, 'PlattParent@jourrapide.com', 'Platt Parent', 'M'],\n",
       "       [170, 'BlondelleAilleboust@gustr.com', 'Blondelle Ailleboust',\n",
       "        'F'],\n",
       "       [171, 'AurelieDesnoyer@armyspy.com', 'Aurelie Desnoyer', 'F'],\n",
       "       [172, 'AvelaineGadbois@dayrep.com', 'Avelaine Gadbois', 'F'],\n",
       "       [173, 'BriceGrondin@fleckens.hu', 'Brice Grondin', 'M'],\n",
       "       [174, 'ZacharieDuplessis@rhyta.com', 'Zacharie Duplessis', 'M'],\n",
       "       [175, 'OgierGervais@gustr.com', 'Ogier Gervais', 'M'],\n",
       "       [176, 'FusbertaRancourt@rhyta.com', 'Fusberta Rancourt', 'F'],\n",
       "       [177, 'CamilleLaurent@superrito.com', 'Camille Laurent', 'F'],\n",
       "       [178, 'CeriseMontminy@dayrep.com', 'Cerise Montminy', 'F'],\n",
       "       [179, 'JosetteRiquier@armyspy.com', 'Josette Riquier', 'F'],\n",
       "       [180, 'AgnesBriard@cuvox.de', 'Agnes Briard', 'F'],\n",
       "       [181, 'AvrilRocheleau@fleckens.hu', 'Avril Rocheleau', 'F'],\n",
       "       [182, 'BenoitGauvin@teleworm.us', 'Benoit Gauvin', 'M'],\n",
       "       [183, 'HeloiseMarcil@fleckens.hu', 'Heloise Marcil', 'F'],\n",
       "       [184, 'RolandDupont@einrot.com', 'Roland Dupont', 'M'],\n",
       "       [185, 'SolaineLabrecque@fleckens.hu', 'Solaine Labrecque', 'F'],\n",
       "       [186, 'JulieBeauchemin@teleworm.us', 'Julie Beauchemin', 'F'],\n",
       "       [187, 'KarelDandonneau@dayrep.com', 'Karel Dandonneau', 'M'],\n",
       "       [188, 'PaienBeauchesne@rhyta.com', 'Paien Beauchesne', 'M'],\n",
       "       [189, 'AdeleClavette@cuvox.de', 'Adele Clavette', 'F'],\n",
       "       [190, 'LotyeJodion@fleckens.hu', 'Lotye Jodion', 'F'],\n",
       "       [191, 'AmaranteLacroix@fleckens.hu', 'Amarante Lacroix', 'F'],\n",
       "       [192, 'XarlesCaisse@jourrapide.com', 'Xarles Caisse', 'M'],\n",
       "       [193, 'LealaLemelin@dayrep.com', 'Leala Lemelin', 'F'],\n",
       "       [194, 'ChantalLamoureux@jourrapide.com', 'Chantal Lamoureux', 'F'],\n",
       "       [195, 'NinetteAdler@superrito.com', 'Ninette Adler', 'F'],\n",
       "       [196, 'EmmanuelleLabrie@einrot.com', 'Emmanuelle Labrie', 'F'],\n",
       "       [197, 'HuonDeLaRonde@rhyta.com', 'Huon De La Ronde', 'M'],\n",
       "       [198, 'SimoneSt-Pierre@jourrapide.com', 'Simone St- Pierre', 'F'],\n",
       "       [199, 'PeverellMazuret@dayrep.com', 'Peverell Mazuret', 'M'],\n",
       "       [200, 'LorrainePaulet@einrot.com', 'Lorraine Paulet', 'F'],\n",
       "       [201, 'DemiLazure@cuvox.de', 'Demi Lazure', 'F'],\n",
       "       [202, 'AgramantGrandpre@rhyta.com', 'Agramant Grandpre', 'M'],\n",
       "       [203, 'ClothildeBerie@teleworm.us', 'Clothilde Berie', 'F'],\n",
       "       [204, 'AimeMarseau@dayrep.com', 'Aime Marseau', 'M'],\n",
       "       [205, 'RogerDeLaRonde@gustr.com', 'Roger De La Ronde', 'M'],\n",
       "       [206, 'AiglentinaMarcheterre@superrito.com',\n",
       "        'Aiglentina Marcheterre', 'F'],\n",
       "       [207, 'NoemiLaisne@rhyta.com', 'Noemi Laisne', 'F'],\n",
       "       [208, 'DenisPatenaude@einrot.com', 'Denis Patenaude', 'M'],\n",
       "       [209, 'JulienBeriault@rhyta.com', 'Julien Beriault', 'M'],\n",
       "       [210, 'MartheQuerry@einrot.com', 'Marthe Querry', 'F'],\n",
       "       [211, 'ParfaitBedard@armyspy.com', 'Parfait Bedard', 'M'],\n",
       "       [212, 'MandelBarteaux@gustr.com', 'Mandel Barteaux', 'M'],\n",
       "       [213, 'PauletteLemaitre@fleckens.hu', 'Paulette Lemaitre', 'F'],\n",
       "       [214, 'YoletteLanoie@dayrep.com', 'Yolette Lanoie', 'F'],\n",
       "       [215, 'LucilleBaron@superrito.com', 'Lucille Baron', 'F'],\n",
       "       [216, 'ChappellSarrazin@rhyta.com', 'Chappell Sarrazin', 'M'],\n",
       "       [217, 'GanoHetu@fleckens.hu', 'Gano Hetu', 'M'],\n",
       "       [218, 'MinetteRoy@fleckens.hu', 'Minette Roy', 'F'],\n",
       "       [219, 'RoslynChalifour@cuvox.de', 'Roslyn Chalifour', 'M'],\n",
       "       [220, 'KarelBazinet@einrot.com', 'Karel Bazinet', 'M'],\n",
       "       [221, 'JosetteBordeleau@einrot.com', 'Josette Bordeleau', 'F'],\n",
       "       [222, 'LangleyCaron@armyspy.com', 'Langley Caron', 'M'],\n",
       "       [223, 'ClaudeDandonneau@jourrapide.com', 'Claude Dandonneau', 'F'],\n",
       "       [224, 'ApollineMichaud@superrito.com', 'Apolline Michaud', 'F'],\n",
       "       [225, 'PascalineBeaudry@rhyta.com', 'Pascaline Beaudry', 'F'],\n",
       "       [226, 'FleurCaouette@jourrapide.com', 'Fleur Caouette', 'F'],\n",
       "       [227, 'FrancisMasse@jourrapide.com', 'Francis Masse', 'M']],\n",
       "      dtype=object)"
      ]
     },
     "metadata": {},
     "output_type": "display_data"
    }
   ],
   "source": [
    "clients_array = data_excel.values\n",
    "display(clients_array)"
   ]
  },
  {
   "cell_type": "code",
   "execution_count": null,
   "id": "c86549b8",
   "metadata": {},
   "outputs": [],
   "source": []
  }
 ],
 "metadata": {
  "kernelspec": {
   "display_name": "Python 3 (ipykernel)",
   "language": "python",
   "name": "python3"
  },
  "language_info": {
   "codemirror_mode": {
    "name": "ipython",
    "version": 3
   },
   "file_extension": ".py",
   "mimetype": "text/x-python",
   "name": "python",
   "nbconvert_exporter": "python",
   "pygments_lexer": "ipython3",
   "version": "3.9.13"
  }
 },
 "nbformat": 4,
 "nbformat_minor": 5
}
