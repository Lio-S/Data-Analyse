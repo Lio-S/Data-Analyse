{
 "cells": [
  {
   "cell_type": "code",
   "execution_count": 1,
   "id": "2c5cb6ac",
   "metadata": {},
   "outputs": [
    {
     "name": "stdout",
     "output_type": "stream",
     "text": [
      "Bijour!\n"
     ]
    }
   ],
   "source": [
    "print('Bijour!')"
   ]
  },
  {
   "cell_type": "markdown",
   "id": "8476e5cb",
   "metadata": {},
   "source": [
    "#**Première Journée** ***Python***\n",
    "\n",
    "Jeudi 22/12/2022 "
   ]
  },
  {
   "cell_type": "markdown",
   "id": "6955c15b",
   "metadata": {},
   "source": [
    "##**Premiers exercices**"
   ]
  },
  {
   "cell_type": "code",
   "execution_count": 2,
   "id": "7fd4529e",
   "metadata": {},
   "outputs": [],
   "source": [
    "compteCourant = 500"
   ]
  },
  {
   "cell_type": "code",
   "execution_count": 3,
   "id": "ea3fba0e",
   "metadata": {},
   "outputs": [],
   "source": [
    "compteEpargne = 1000"
   ]
  },
  {
   "cell_type": "code",
   "execution_count": 2,
   "id": "6ff34f6a",
   "metadata": {},
   "outputs": [],
   "source": [
    "Division = 0"
   ]
  },
  {
   "cell_type": "code",
   "execution_count": 3,
   "id": "be1f918e",
   "metadata": {},
   "outputs": [
    {
     "name": "stdout",
     "output_type": "stream",
     "text": [
      "0\n"
     ]
    }
   ],
   "source": [
    "print(Division)"
   ]
  },
  {
   "cell_type": "code",
   "execution_count": 4,
   "id": "5d992ecd",
   "metadata": {},
   "outputs": [],
   "source": [
    "Division = compteEpargne/compteCourant"
   ]
  },
  {
   "cell_type": "code",
   "execution_count": 5,
   "id": "dc78743d",
   "metadata": {},
   "outputs": [
    {
     "name": "stdout",
     "output_type": "stream",
     "text": [
      "2.0\n"
     ]
    }
   ],
   "source": [
    "print(Division)"
   ]
  },
  {
   "cell_type": "markdown",
   "id": "1ae9bce2",
   "metadata": {},
   "source": [
    "# Première Journée Python\n",
    "\n",
    "## Jeudi 22/12/2022\n",
    "\n",
    "## Premiers exercices\n"
   ]
  },
  {
   "cell_type": "markdown",
   "id": "c5ace822",
   "metadata": {},
   "source": [
    "# Première Journée Python\n",
    "\n",
    "**Deuxième**\n",
    "\n",
    "## Jeudi 22/12/2022\n",
    "\n",
    "*Vendredi 06/01/2023*\n",
    "## Premiers exercices\n",
    "14h"
   ]
  },
  {
   "cell_type": "markdown",
   "id": "5a079651",
   "metadata": {},
   "source": [
    "# Test Modulo décimal"
   ]
  },
  {
   "cell_type": "code",
   "execution_count": 7,
   "id": "0f446939",
   "metadata": {},
   "outputs": [],
   "source": [
    "moduloDec = 25%2.2"
   ]
  },
  {
   "cell_type": "code",
   "execution_count": 8,
   "id": "c0aab64c",
   "metadata": {},
   "outputs": [
    {
     "name": "stdout",
     "output_type": "stream",
     "text": [
      "0.799999999999998\n"
     ]
    }
   ],
   "source": [
    "print(moduloDec)"
   ]
  },
  {
   "cell_type": "code",
   "execution_count": 9,
   "id": "fe87067f",
   "metadata": {},
   "outputs": [
    {
     "name": "stdout",
     "output_type": "stream",
     "text": [
      "<class 'float'>\n"
     ]
    }
   ],
   "source": [
    "print(type(moduloDec))"
   ]
  },
  {
   "cell_type": "code",
   "execution_count": 12,
   "id": "b4044ec0",
   "metadata": {
    "scrolled": true
   },
   "outputs": [
    {
     "name": "stdout",
     "output_type": "stream",
     "text": [
      "2.0000000000000018\n"
     ]
    }
   ],
   "source": [
    "print(25%2.3)"
   ]
  },
  {
   "cell_type": "code",
   "execution_count": 11,
   "id": "172e2469",
   "metadata": {},
   "outputs": [
    {
     "name": "stdout",
     "output_type": "stream",
     "text": [
      "10.0\n"
     ]
    }
   ],
   "source": [
    "print(25//2.3)"
   ]
  },
  {
   "cell_type": "code",
   "execution_count": 12,
   "id": "23c88a00",
   "metadata": {},
   "outputs": [
    {
     "data": {
      "text/plain": [
       "4"
      ]
     },
     "execution_count": 12,
     "metadata": {},
     "output_type": "execute_result"
    }
   ],
   "source": [
    "2**2"
   ]
  },
  {
   "cell_type": "code",
   "execution_count": 14,
   "id": "43bdd814",
   "metadata": {
    "scrolled": true
   },
   "outputs": [],
   "source": [
    "c=25%2.3"
   ]
  },
  {
   "cell_type": "code",
   "execution_count": 15,
   "id": "009e119f",
   "metadata": {},
   "outputs": [
    {
     "name": "stdout",
     "output_type": "stream",
     "text": [
      "0.799999999999998\n",
      "2.0000000000000018\n"
     ]
    }
   ],
   "source": [
    "print(moduloDec)\n",
    "print(c)"
   ]
  },
  {
   "cell_type": "code",
   "execution_count": 16,
   "id": "9fa2f1fd",
   "metadata": {},
   "outputs": [
    {
     "name": "stdout",
     "output_type": "stream",
     "text": [
      "0.799999999999998\n",
      "0\n"
     ]
    }
   ],
   "source": [
    "print(moduloDec)\n",
    "moduloDec = int(moduloDec)\n",
    "print(moduloDec)"
   ]
  },
  {
   "cell_type": "code",
   "execution_count": 10,
   "id": "aabfc940",
   "metadata": {},
   "outputs": [
    {
     "name": "stdout",
     "output_type": "stream",
     "text": [
      "Hello world !\n"
     ]
    }
   ],
   "source": [
    "a = \"Hello World !\"\n",
    "print(a.capitalize())"
   ]
  },
  {
   "cell_type": "code",
   "execution_count": 11,
   "id": "69c2a544",
   "metadata": {},
   "outputs": [
    {
     "name": "stdout",
     "output_type": "stream",
     "text": [
      "Hello World !\n"
     ]
    }
   ],
   "source": [
    "print(a)"
   ]
  },
  {
   "cell_type": "code",
   "execution_count": 9,
   "id": "c02a1e3f",
   "metadata": {},
   "outputs": [
    {
     "data": {
      "text/plain": [
       "'hello world !'"
      ]
     },
     "execution_count": 9,
     "metadata": {},
     "output_type": "execute_result"
    }
   ],
   "source": [
    "a.lower()"
   ]
  },
  {
   "cell_type": "code",
   "execution_count": 10,
   "id": "aadcb96b",
   "metadata": {},
   "outputs": [
    {
     "data": {
      "text/plain": [
       "2"
      ]
     },
     "execution_count": 10,
     "metadata": {},
     "output_type": "execute_result"
    }
   ],
   "source": [
    "a.find(\"l\")"
   ]
  },
  {
   "cell_type": "code",
   "execution_count": 3,
   "id": "a9900b69",
   "metadata": {},
   "outputs": [],
   "source": [
    "b=5"
   ]
  },
  {
   "cell_type": "code",
   "execution_count": 4,
   "id": "1a30df7d",
   "metadata": {},
   "outputs": [],
   "source": [
    "b*=10"
   ]
  },
  {
   "cell_type": "code",
   "execution_count": 31,
   "id": "76431cec",
   "metadata": {},
   "outputs": [
    {
     "name": "stdout",
     "output_type": "stream",
     "text": [
      "50\n"
     ]
    }
   ],
   "source": [
    "print(b)"
   ]
  },
  {
   "cell_type": "code",
   "execution_count": 2,
   "id": "665a9749",
   "metadata": {},
   "outputs": [],
   "source": [
    "def calculPerimetre(cote1, cote2, cote3):\n",
    "    perimetre = cote1 + cote2 + cote3\n",
    "    return perimetre"
   ]
  },
  {
   "cell_type": "code",
   "execution_count": 5,
   "id": "7687d0de",
   "metadata": {},
   "outputs": [
    {
     "name": "stdout",
     "output_type": "stream",
     "text": [
      "Le périmetre de mon premier triangle est :13 :et celle de mon second est :24\n"
     ]
    }
   ],
   "source": [
    "perimetre1 = calculPerimetre(6, 4, 3)\n",
    "perimetre2 = calculPerimetre(10, 3, 11)\n",
    "\n",
    "print(\"Le périmetre de mon premier triangle est\",perimetre1,\"et celle de mon second est\",perimetre2,sep=' :')"
   ]
  },
  {
   "cell_type": "code",
   "execution_count": 11,
   "id": "94e04ed9",
   "metadata": {},
   "outputs": [
    {
     "name": "stdout",
     "output_type": "stream",
     "text": [
      "Help on built-in function print in module builtins:\n",
      "\n",
      "print(...)\n",
      "    print(value, ..., sep=' ', end='\\n', file=sys.stdout, flush=False)\n",
      "    \n",
      "    Prints the values to a stream, or to sys.stdout by default.\n",
      "    Optional keyword arguments:\n",
      "    file:  a file-like object (stream); defaults to the current sys.stdout.\n",
      "    sep:   string inserted between values, default a space.\n",
      "    end:   string appended after the last value, default a newline.\n",
      "    flush: whether to forcibly flush the stream.\n",
      "\n"
     ]
    }
   ],
   "source": [
    "help(print)"
   ]
  },
  {
   "cell_type": "code",
   "execution_count": 6,
   "id": "da5f7315",
   "metadata": {},
   "outputs": [
    {
     "name": "stdout",
     "output_type": "stream",
     "text": [
      "['Luc Martin', 'Lucas Anderson']\n"
     ]
    }
   ],
   "source": [
    "nomClient = ['Georges Dupont', 'Luc Martin', 'Lucas Anderson', 'Alexandre Petit']\n",
    "\n",
    "print(nomClient[1:3])"
   ]
  },
  {
   "cell_type": "code",
   "execution_count": 13,
   "id": "3e02c801",
   "metadata": {},
   "outputs": [
    {
     "name": "stdout",
     "output_type": "stream",
     "text": [
      "['Luc Martin', 'Lucas Anderson']\n"
     ]
    }
   ],
   "source": [
    "nomClient = ['Georges Dupont', 'Luc Martin', 'Lucas Anderson', 'Alexandre Petit']\n",
    "\n",
    "print(nomClient[-3:-1])"
   ]
  },
  {
   "cell_type": "code",
   "execution_count": 23,
   "id": "9c996998",
   "metadata": {},
   "outputs": [
    {
     "name": "stdout",
     "output_type": "stream",
     "text": [
      "Help on list object:\n",
      "\n",
      "class list(object)\n",
      " |  list(iterable=(), /)\n",
      " |  \n",
      " |  Built-in mutable sequence.\n",
      " |  \n",
      " |  If no argument is given, the constructor creates a new empty list.\n",
      " |  The argument must be an iterable if specified.\n",
      " |  \n",
      " |  Methods defined here:\n",
      " |  \n",
      " |  __add__(self, value, /)\n",
      " |      Return self+value.\n",
      " |  \n",
      " |  __contains__(self, key, /)\n",
      " |      Return key in self.\n",
      " |  \n",
      " |  __delitem__(self, key, /)\n",
      " |      Delete self[key].\n",
      " |  \n",
      " |  __eq__(self, value, /)\n",
      " |      Return self==value.\n",
      " |  \n",
      " |  __ge__(self, value, /)\n",
      " |      Return self>=value.\n",
      " |  \n",
      " |  __getattribute__(self, name, /)\n",
      " |      Return getattr(self, name).\n",
      " |  \n",
      " |  __getitem__(...)\n",
      " |      x.__getitem__(y) <==> x[y]\n",
      " |  \n",
      " |  __gt__(self, value, /)\n",
      " |      Return self>value.\n",
      " |  \n",
      " |  __iadd__(self, value, /)\n",
      " |      Implement self+=value.\n",
      " |  \n",
      " |  __imul__(self, value, /)\n",
      " |      Implement self*=value.\n",
      " |  \n",
      " |  __init__(self, /, *args, **kwargs)\n",
      " |      Initialize self.  See help(type(self)) for accurate signature.\n",
      " |  \n",
      " |  __iter__(self, /)\n",
      " |      Implement iter(self).\n",
      " |  \n",
      " |  __le__(self, value, /)\n",
      " |      Return self<=value.\n",
      " |  \n",
      " |  __len__(self, /)\n",
      " |      Return len(self).\n",
      " |  \n",
      " |  __lt__(self, value, /)\n",
      " |      Return self<value.\n",
      " |  \n",
      " |  __mul__(self, value, /)\n",
      " |      Return self*value.\n",
      " |  \n",
      " |  __ne__(self, value, /)\n",
      " |      Return self!=value.\n",
      " |  \n",
      " |  __repr__(self, /)\n",
      " |      Return repr(self).\n",
      " |  \n",
      " |  __reversed__(self, /)\n",
      " |      Return a reverse iterator over the list.\n",
      " |  \n",
      " |  __rmul__(self, value, /)\n",
      " |      Return value*self.\n",
      " |  \n",
      " |  __setitem__(self, key, value, /)\n",
      " |      Set self[key] to value.\n",
      " |  \n",
      " |  __sizeof__(self, /)\n",
      " |      Return the size of the list in memory, in bytes.\n",
      " |  \n",
      " |  append(self, object, /)\n",
      " |      Append object to the end of the list.\n",
      " |  \n",
      " |  clear(self, /)\n",
      " |      Remove all items from list.\n",
      " |  \n",
      " |  copy(self, /)\n",
      " |      Return a shallow copy of the list.\n",
      " |  \n",
      " |  count(self, value, /)\n",
      " |      Return number of occurrences of value.\n",
      " |  \n",
      " |  extend(self, iterable, /)\n",
      " |      Extend list by appending elements from the iterable.\n",
      " |  \n",
      " |  index(self, value, start=0, stop=9223372036854775807, /)\n",
      " |      Return first index of value.\n",
      " |      \n",
      " |      Raises ValueError if the value is not present.\n",
      " |  \n",
      " |  insert(self, index, object, /)\n",
      " |      Insert object before index.\n",
      " |  \n",
      " |  pop(self, index=-1, /)\n",
      " |      Remove and return item at index (default last).\n",
      " |      \n",
      " |      Raises IndexError if list is empty or index is out of range.\n",
      " |  \n",
      " |  remove(self, value, /)\n",
      " |      Remove first occurrence of value.\n",
      " |      \n",
      " |      Raises ValueError if the value is not present.\n",
      " |  \n",
      " |  reverse(self, /)\n",
      " |      Reverse *IN PLACE*.\n",
      " |  \n",
      " |  sort(self, /, *, key=None, reverse=False)\n",
      " |      Sort the list in ascending order and return None.\n",
      " |      \n",
      " |      The sort is in-place (i.e. the list itself is modified) and stable (i.e. the\n",
      " |      order of two equal elements is maintained).\n",
      " |      \n",
      " |      If a key function is given, apply it once to each list item and sort them,\n",
      " |      ascending or descending, according to their function values.\n",
      " |      \n",
      " |      The reverse flag can be set to sort in descending order.\n",
      " |  \n",
      " |  ----------------------------------------------------------------------\n",
      " |  Class methods defined here:\n",
      " |  \n",
      " |  __class_getitem__(...) from builtins.type\n",
      " |      See PEP 585\n",
      " |  \n",
      " |  ----------------------------------------------------------------------\n",
      " |  Static methods defined here:\n",
      " |  \n",
      " |  __new__(*args, **kwargs) from builtins.type\n",
      " |      Create and return a new object.  See help(type) for accurate signature.\n",
      " |  \n",
      " |  ----------------------------------------------------------------------\n",
      " |  Data and other attributes defined here:\n",
      " |  \n",
      " |  __hash__ = None\n",
      "\n"
     ]
    }
   ],
   "source": [
    "help(nomClient)"
   ]
  },
  {
   "cell_type": "code",
   "execution_count": 38,
   "id": "e23a2432",
   "metadata": {},
   "outputs": [
    {
     "name": "stdout",
     "output_type": "stream",
     "text": [
      "['Lucas Anderson']\n",
      "Alexandre Petit\n",
      "Alexandre Petit\n"
     ]
    }
   ],
   "source": [
    "nomClient = ['Georges Dupont', 'Luc Martin', 'Lucas Anderson', 'Alexandre Petit']\n",
    "\n",
    "print(nomClient[-2:-1])\n",
    "print(nomClient[len(nomClient)-1])\n",
    "print(nomClient[-1])"
   ]
  },
  {
   "cell_type": "markdown",
   "id": "c67c56b0",
   "metadata": {},
   "source": [
    "# Commentaires:\n",
    "#### liste = []\n",
    "#### liste.append(7) # -> [7]\n",
    "#### liste.append(5) # -> [7, 5]\n",
    "#### liste.insert(1,12) # [7, 12, 5]\n",
    "#### liste[0] = 4 # -> [4, 12, 5]\n",
    "#### liste.remove(12) # [4, 5]\n",
    "#### liste.index(5) # affiche 1\n",
    "#### liste.extend([1, 2, 3]) # [4, 5, 1, 2, 3]\n",
    "#### del liste[3] # [4, 5, 1, 3]"
   ]
  },
  {
   "cell_type": "code",
   "execution_count": 38,
   "id": "a44b37e5",
   "metadata": {},
   "outputs": [
    {
     "name": "stdout",
     "output_type": "stream",
     "text": [
      "Quel est votre nom ?\n",
      "J ai demandé quel est votre nom ?\n"
     ]
    }
   ],
   "source": [
    "nom = input('Quel est votre nom ?')\n",
    "if len(nom)>0 :\n",
    "    print('Salut '+ nom+ '!' )\n",
    "else:\n",
    "    print('J ai demandé quel est votre nom', '',sep=' !')"
   ]
  },
  {
   "cell_type": "markdown",
   "id": "a07df5cc",
   "metadata": {},
   "source": [
    "# Dictionnaires"
   ]
  },
  {
   "cell_type": "code",
   "execution_count": 17,
   "id": "5bcb7e0c",
   "metadata": {
    "scrolled": false
   },
   "outputs": [
    {
     "name": "stdout",
     "output_type": "stream",
     "text": [
      "150\n",
      "1000\n"
     ]
    },
    {
     "data": {
      "text/plain": [
       "150"
      ]
     },
     "execution_count": 17,
     "metadata": {},
     "output_type": "execute_result"
    }
   ],
   "source": [
    "\n",
    "comptes = {\"Georges Dupont\": 10000, \"Luc Martin\": 150, \"Lucas Anderson\": 300, \"Alexandre Petit\": 1800.74}\n",
    "print(comptes[\"Luc Martin\"]) # -> 150\n",
    "comptes['Georges Dupont'] -= 2000 # je soustrais 2000 au compte de Georges\n",
    "comptes['Cyril Andreje'] = 1000 # j'ajoute un nouvel individu dans mon dictionnaire\n",
    "print(comptes['Cyril Andreje']) # j'affiche la valeur du compte de Cyril\n",
    "comptes.pop('Luc Martin') # supprime Luc Martin de notre dictionnaire"
   ]
  },
  {
   "cell_type": "code",
   "execution_count": 19,
   "id": "376fa863",
   "metadata": {},
   "outputs": [
    {
     "name": "stdout",
     "output_type": "stream",
     "text": [
      "Help on built-in function pop:\n",
      "\n",
      "pop(...) method of builtins.dict instance\n",
      "    D.pop(k[,d]) -> v, remove specified key and return the corresponding value.\n",
      "    \n",
      "    If key is not found, default is returned if given, otherwise KeyError is raised\n",
      "\n"
     ]
    }
   ],
   "source": [
    "help (comptes.pop)"
   ]
  },
  {
   "cell_type": "markdown",
   "id": "adf3cc1f",
   "metadata": {},
   "source": [
    "# Tuple\n",
    "## On peut accéder à une valeur ou la modifier via la même notation qu’avec les listes."
   ]
  },
  {
   "cell_type": "code",
   "execution_count": 41,
   "id": "3ce0ffa6",
   "metadata": {},
   "outputs": [
    {
     "name": "stdout",
     "output_type": "stream",
     "text": [
      "2\n",
      "b\n",
      "1\n",
      "pomme\n"
     ]
    }
   ],
   "source": [
    "mon_tuple = (1, 2, 3, 'a', 'b')\n",
    "## ils peuvent servir :\n",
    "  #  lorsque l'on veut s'assurer que les données ne soient pas modifiées au sein du programme ;\n",
    "  #  à retourner plusieurs valeurs au sein d'une fonction. En effet, nous n'avons pas abordé ce point lorsque nous avons parlé \n",
    "  #  des fonctions, mais il est possible de retourner plusieurs valeurs... avec un tuple ! ;\n",
    "  #  à déclarer plusieurs variables en une ligne.\n",
    "print(mon_tuple[1]) # -> 2\n",
    "print(mon_tuple[4]) # -> 'b'\n",
    "\n",
    "a, b = (1, 'pomme')\n",
    "print(a) # -> 1\n",
    "print(b) # -> 'pomme'"
   ]
  },
  {
   "cell_type": "markdown",
   "id": "285ee22d",
   "metadata": {},
   "source": [
    "## Opérateur **In**"
   ]
  },
  {
   "cell_type": "code",
   "execution_count": 40,
   "id": "3001eb4d",
   "metadata": {},
   "outputs": [
    {
     "data": {
      "text/plain": [
       "False"
      ]
     },
     "execution_count": 40,
     "metadata": {},
     "output_type": "execute_result"
    }
   ],
   "source": [
    "maListe = [4, 2, 3, 2, 10]\n",
    "maListeDeString = [\"a\", \"b\", \"c\", \"d\"]\n",
    "monString = \"La météo est vraiment bien aujourd'hui !\"\n",
    "\n",
    "4 in maListe # True\n",
    "0 in maListe # False\n",
    "0 in maListeDeString # False\n",
    "\"c\" in maListeDeString # True\n",
    "\"e\" in maListeDeString # False\n",
    "\"météo\" in monString # True\n",
    "\"vraiment\" in monString # True\n",
    "\"pluie ?\" in monString # False"
   ]
  },
  {
   "cell_type": "code",
   "execution_count": 39,
   "id": "5d25a1bd",
   "metadata": {},
   "outputs": [
    {
     "ename": "SyntaxError",
     "evalue": "invalid syntax (1534462968.py, line 3)",
     "output_type": "error",
     "traceback": [
      "\u001b[1;36m  Cell \u001b[1;32mIn[39], line 3\u001b[1;36m\u001b[0m\n\u001b[1;33m    elif condition2:\u001b[0m\n\u001b[1;37m    ^\u001b[0m\n\u001b[1;31mSyntaxError\u001b[0m\u001b[1;31m:\u001b[0m invalid syntax\n"
     ]
    }
   ],
   "source": [
    "if condition1: \n",
    "    # instructions\n",
    "    elif condition2:\n",
    "    # instructions\n",
    "else:\n",
    "    # instructions"
   ]
  },
  {
   "cell_type": "code",
   "execution_count": 70,
   "id": "b81c618f",
   "metadata": {},
   "outputs": [],
   "source": [
    "monString = \"Eléments\""
   ]
  },
  {
   "cell_type": "code",
   "execution_count": 123,
   "id": "ab3d1ab6",
   "metadata": {},
   "outputs": [
    {
     "name": "stdout",
     "output_type": "stream",
     "text": [
      "E\n",
      "l\n",
      "é\n",
      "m\n",
      "e\n",
      "n\n",
      "t\n",
      "s\n",
      "8 Caractères\n"
     ]
    }
   ],
   "source": [
    "iCount=0\n",
    "for i in monString :\n",
    "        iCount+= 1\n",
    "        print(i)\n",
    "        if len(monString)<=iCount :\n",
    "                print(str(iCount) + \" Caractères\")"
   ]
  },
  {
   "cell_type": "code",
   "execution_count": 117,
   "id": "0f4f4cdb",
   "metadata": {},
   "outputs": [
    {
     "name": "stdout",
     "output_type": "stream",
     "text": [
      "8\n",
      "Eléments\n"
     ]
    }
   ],
   "source": [
    "print(len(monString))\n",
    "print((monString))"
   ]
  },
  {
   "cell_type": "code",
   "execution_count": 131,
   "id": "0c8b42c9",
   "metadata": {},
   "outputs": [
    {
     "data": {
      "text/plain": [
       "str"
      ]
     },
     "execution_count": 131,
     "metadata": {},
     "output_type": "execute_result"
    }
   ],
   "source": [
    "type(monString)"
   ]
  },
  {
   "cell_type": "code",
   "execution_count": 134,
   "id": "2e3857f7",
   "metadata": {},
   "outputs": [
    {
     "name": "stdout",
     "output_type": "stream",
     "text": [
      "Help on class str in module builtins:\n",
      "\n",
      "class str(object)\n",
      " |  str(object='') -> str\n",
      " |  str(bytes_or_buffer[, encoding[, errors]]) -> str\n",
      " |  \n",
      " |  Create a new string object from the given object. If encoding or\n",
      " |  errors is specified, then the object must expose a data buffer\n",
      " |  that will be decoded using the given encoding and error handler.\n",
      " |  Otherwise, returns the result of object.__str__() (if defined)\n",
      " |  or repr(object).\n",
      " |  encoding defaults to sys.getdefaultencoding().\n",
      " |  errors defaults to 'strict'.\n",
      " |  \n",
      " |  Methods defined here:\n",
      " |  \n",
      " |  __add__(self, value, /)\n",
      " |      Return self+value.\n",
      " |  \n",
      " |  __contains__(self, key, /)\n",
      " |      Return key in self.\n",
      " |  \n",
      " |  __eq__(self, value, /)\n",
      " |      Return self==value.\n",
      " |  \n",
      " |  __format__(self, format_spec, /)\n",
      " |      Return a formatted version of the string as described by format_spec.\n",
      " |  \n",
      " |  __ge__(self, value, /)\n",
      " |      Return self>=value.\n",
      " |  \n",
      " |  __getattribute__(self, name, /)\n",
      " |      Return getattr(self, name).\n",
      " |  \n",
      " |  __getitem__(self, key, /)\n",
      " |      Return self[key].\n",
      " |  \n",
      " |  __getnewargs__(...)\n",
      " |  \n",
      " |  __gt__(self, value, /)\n",
      " |      Return self>value.\n",
      " |  \n",
      " |  __hash__(self, /)\n",
      " |      Return hash(self).\n",
      " |  \n",
      " |  __iter__(self, /)\n",
      " |      Implement iter(self).\n",
      " |  \n",
      " |  __le__(self, value, /)\n",
      " |      Return self<=value.\n",
      " |  \n",
      " |  __len__(self, /)\n",
      " |      Return len(self).\n",
      " |  \n",
      " |  __lt__(self, value, /)\n",
      " |      Return self<value.\n",
      " |  \n",
      " |  __mod__(self, value, /)\n",
      " |      Return self%value.\n",
      " |  \n",
      " |  __mul__(self, value, /)\n",
      " |      Return self*value.\n",
      " |  \n",
      " |  __ne__(self, value, /)\n",
      " |      Return self!=value.\n",
      " |  \n",
      " |  __repr__(self, /)\n",
      " |      Return repr(self).\n",
      " |  \n",
      " |  __rmod__(self, value, /)\n",
      " |      Return value%self.\n",
      " |  \n",
      " |  __rmul__(self, value, /)\n",
      " |      Return value*self.\n",
      " |  \n",
      " |  __sizeof__(self, /)\n",
      " |      Return the size of the string in memory, in bytes.\n",
      " |  \n",
      " |  __str__(self, /)\n",
      " |      Return str(self).\n",
      " |  \n",
      " |  capitalize(self, /)\n",
      " |      Return a capitalized version of the string.\n",
      " |      \n",
      " |      More specifically, make the first character have upper case and the rest lower\n",
      " |      case.\n",
      " |  \n",
      " |  casefold(self, /)\n",
      " |      Return a version of the string suitable for caseless comparisons.\n",
      " |  \n",
      " |  center(self, width, fillchar=' ', /)\n",
      " |      Return a centered string of length width.\n",
      " |      \n",
      " |      Padding is done using the specified fill character (default is a space).\n",
      " |  \n",
      " |  count(...)\n",
      " |      S.count(sub[, start[, end]]) -> int\n",
      " |      \n",
      " |      Return the number of non-overlapping occurrences of substring sub in\n",
      " |      string S[start:end].  Optional arguments start and end are\n",
      " |      interpreted as in slice notation.\n",
      " |  \n",
      " |  encode(self, /, encoding='utf-8', errors='strict')\n",
      " |      Encode the string using the codec registered for encoding.\n",
      " |      \n",
      " |      encoding\n",
      " |        The encoding in which to encode the string.\n",
      " |      errors\n",
      " |        The error handling scheme to use for encoding errors.\n",
      " |        The default is 'strict' meaning that encoding errors raise a\n",
      " |        UnicodeEncodeError.  Other possible values are 'ignore', 'replace' and\n",
      " |        'xmlcharrefreplace' as well as any other name registered with\n",
      " |        codecs.register_error that can handle UnicodeEncodeErrors.\n",
      " |  \n",
      " |  endswith(...)\n",
      " |      S.endswith(suffix[, start[, end]]) -> bool\n",
      " |      \n",
      " |      Return True if S ends with the specified suffix, False otherwise.\n",
      " |      With optional start, test S beginning at that position.\n",
      " |      With optional end, stop comparing S at that position.\n",
      " |      suffix can also be a tuple of strings to try.\n",
      " |  \n",
      " |  expandtabs(self, /, tabsize=8)\n",
      " |      Return a copy where all tab characters are expanded using spaces.\n",
      " |      \n",
      " |      If tabsize is not given, a tab size of 8 characters is assumed.\n",
      " |  \n",
      " |  find(...)\n",
      " |      S.find(sub[, start[, end]]) -> int\n",
      " |      \n",
      " |      Return the lowest index in S where substring sub is found,\n",
      " |      such that sub is contained within S[start:end].  Optional\n",
      " |      arguments start and end are interpreted as in slice notation.\n",
      " |      \n",
      " |      Return -1 on failure.\n",
      " |  \n",
      " |  format(...)\n",
      " |      S.format(*args, **kwargs) -> str\n",
      " |      \n",
      " |      Return a formatted version of S, using substitutions from args and kwargs.\n",
      " |      The substitutions are identified by braces ('{' and '}').\n",
      " |  \n",
      " |  format_map(...)\n",
      " |      S.format_map(mapping) -> str\n",
      " |      \n",
      " |      Return a formatted version of S, using substitutions from mapping.\n",
      " |      The substitutions are identified by braces ('{' and '}').\n",
      " |  \n",
      " |  index(...)\n",
      " |      S.index(sub[, start[, end]]) -> int\n",
      " |      \n",
      " |      Return the lowest index in S where substring sub is found,\n",
      " |      such that sub is contained within S[start:end].  Optional\n",
      " |      arguments start and end are interpreted as in slice notation.\n",
      " |      \n",
      " |      Raises ValueError when the substring is not found.\n",
      " |  \n",
      " |  isalnum(self, /)\n",
      " |      Return True if the string is an alpha-numeric string, False otherwise.\n",
      " |      \n",
      " |      A string is alpha-numeric if all characters in the string are alpha-numeric and\n",
      " |      there is at least one character in the string.\n",
      " |  \n",
      " |  isalpha(self, /)\n",
      " |      Return True if the string is an alphabetic string, False otherwise.\n",
      " |      \n",
      " |      A string is alphabetic if all characters in the string are alphabetic and there\n",
      " |      is at least one character in the string.\n",
      " |  \n",
      " |  isascii(self, /)\n",
      " |      Return True if all characters in the string are ASCII, False otherwise.\n",
      " |      \n",
      " |      ASCII characters have code points in the range U+0000-U+007F.\n",
      " |      Empty string is ASCII too.\n",
      " |  \n",
      " |  isdecimal(self, /)\n",
      " |      Return True if the string is a decimal string, False otherwise.\n",
      " |      \n",
      " |      A string is a decimal string if all characters in the string are decimal and\n",
      " |      there is at least one character in the string.\n",
      " |  \n",
      " |  isdigit(self, /)\n",
      " |      Return True if the string is a digit string, False otherwise.\n",
      " |      \n",
      " |      A string is a digit string if all characters in the string are digits and there\n",
      " |      is at least one character in the string.\n",
      " |  \n",
      " |  isidentifier(self, /)\n",
      " |      Return True if the string is a valid Python identifier, False otherwise.\n",
      " |      \n",
      " |      Call keyword.iskeyword(s) to test whether string s is a reserved identifier,\n",
      " |      such as \"def\" or \"class\".\n",
      " |  \n",
      " |  islower(self, /)\n",
      " |      Return True if the string is a lowercase string, False otherwise.\n",
      " |      \n",
      " |      A string is lowercase if all cased characters in the string are lowercase and\n",
      " |      there is at least one cased character in the string.\n",
      " |  \n",
      " |  isnumeric(self, /)\n",
      " |      Return True if the string is a numeric string, False otherwise.\n",
      " |      \n",
      " |      A string is numeric if all characters in the string are numeric and there is at\n",
      " |      least one character in the string.\n",
      " |  \n",
      " |  isprintable(self, /)\n",
      " |      Return True if the string is printable, False otherwise.\n",
      " |      \n",
      " |      A string is printable if all of its characters are considered printable in\n",
      " |      repr() or if it is empty.\n",
      " |  \n",
      " |  isspace(self, /)\n",
      " |      Return True if the string is a whitespace string, False otherwise.\n",
      " |      \n",
      " |      A string is whitespace if all characters in the string are whitespace and there\n",
      " |      is at least one character in the string.\n",
      " |  \n",
      " |  istitle(self, /)\n",
      " |      Return True if the string is a title-cased string, False otherwise.\n",
      " |      \n",
      " |      In a title-cased string, upper- and title-case characters may only\n",
      " |      follow uncased characters and lowercase characters only cased ones.\n",
      " |  \n",
      " |  isupper(self, /)\n",
      " |      Return True if the string is an uppercase string, False otherwise.\n",
      " |      \n",
      " |      A string is uppercase if all cased characters in the string are uppercase and\n",
      " |      there is at least one cased character in the string.\n",
      " |  \n",
      " |  join(self, iterable, /)\n",
      " |      Concatenate any number of strings.\n",
      " |      \n",
      " |      The string whose method is called is inserted in between each given string.\n",
      " |      The result is returned as a new string.\n",
      " |      \n",
      " |      Example: '.'.join(['ab', 'pq', 'rs']) -> 'ab.pq.rs'\n",
      " |  \n",
      " |  ljust(self, width, fillchar=' ', /)\n",
      " |      Return a left-justified string of length width.\n",
      " |      \n",
      " |      Padding is done using the specified fill character (default is a space).\n",
      " |  \n",
      " |  lower(self, /)\n",
      " |      Return a copy of the string converted to lowercase.\n",
      " |  \n",
      " |  lstrip(self, chars=None, /)\n",
      " |      Return a copy of the string with leading whitespace removed.\n",
      " |      \n",
      " |      If chars is given and not None, remove characters in chars instead.\n",
      " |  \n",
      " |  partition(self, sep, /)\n",
      " |      Partition the string into three parts using the given separator.\n",
      " |      \n",
      " |      This will search for the separator in the string.  If the separator is found,\n",
      " |      returns a 3-tuple containing the part before the separator, the separator\n",
      " |      itself, and the part after it.\n",
      " |      \n",
      " |      If the separator is not found, returns a 3-tuple containing the original string\n",
      " |      and two empty strings.\n",
      " |  \n",
      " |  removeprefix(self, prefix, /)\n",
      " |      Return a str with the given prefix string removed if present.\n",
      " |      \n",
      " |      If the string starts with the prefix string, return string[len(prefix):].\n",
      " |      Otherwise, return a copy of the original string.\n",
      " |  \n",
      " |  removesuffix(self, suffix, /)\n",
      " |      Return a str with the given suffix string removed if present.\n",
      " |      \n",
      " |      If the string ends with the suffix string and that suffix is not empty,\n",
      " |      return string[:-len(suffix)]. Otherwise, return a copy of the original\n",
      " |      string.\n",
      " |  \n",
      " |  replace(self, old, new, count=-1, /)\n",
      " |      Return a copy with all occurrences of substring old replaced by new.\n",
      " |      \n",
      " |        count\n",
      " |          Maximum number of occurrences to replace.\n",
      " |          -1 (the default value) means replace all occurrences.\n",
      " |      \n",
      " |      If the optional argument count is given, only the first count occurrences are\n",
      " |      replaced.\n",
      " |  \n",
      " |  rfind(...)\n",
      " |      S.rfind(sub[, start[, end]]) -> int\n",
      " |      \n",
      " |      Return the highest index in S where substring sub is found,\n",
      " |      such that sub is contained within S[start:end].  Optional\n",
      " |      arguments start and end are interpreted as in slice notation.\n",
      " |      \n",
      " |      Return -1 on failure.\n",
      " |  \n",
      " |  rindex(...)\n",
      " |      S.rindex(sub[, start[, end]]) -> int\n",
      " |      \n",
      " |      Return the highest index in S where substring sub is found,\n",
      " |      such that sub is contained within S[start:end].  Optional\n",
      " |      arguments start and end are interpreted as in slice notation.\n",
      " |      \n",
      " |      Raises ValueError when the substring is not found.\n",
      " |  \n",
      " |  rjust(self, width, fillchar=' ', /)\n",
      " |      Return a right-justified string of length width.\n",
      " |      \n",
      " |      Padding is done using the specified fill character (default is a space).\n",
      " |  \n",
      " |  rpartition(self, sep, /)\n",
      " |      Partition the string into three parts using the given separator.\n",
      " |      \n",
      " |      This will search for the separator in the string, starting at the end. If\n",
      " |      the separator is found, returns a 3-tuple containing the part before the\n",
      " |      separator, the separator itself, and the part after it.\n",
      " |      \n",
      " |      If the separator is not found, returns a 3-tuple containing two empty strings\n",
      " |      and the original string.\n",
      " |  \n",
      " |  rsplit(self, /, sep=None, maxsplit=-1)\n",
      " |      Return a list of the words in the string, using sep as the delimiter string.\n",
      " |      \n",
      " |        sep\n",
      " |          The delimiter according which to split the string.\n",
      " |          None (the default value) means split according to any whitespace,\n",
      " |          and discard empty strings from the result.\n",
      " |        maxsplit\n",
      " |          Maximum number of splits to do.\n",
      " |          -1 (the default value) means no limit.\n",
      " |      \n",
      " |      Splits are done starting at the end of the string and working to the front.\n",
      " |  \n",
      " |  rstrip(self, chars=None, /)\n",
      " |      Return a copy of the string with trailing whitespace removed.\n",
      " |      \n",
      " |      If chars is given and not None, remove characters in chars instead.\n",
      " |  \n",
      " |  split(self, /, sep=None, maxsplit=-1)\n",
      " |      Return a list of the words in the string, using sep as the delimiter string.\n",
      " |      \n",
      " |      sep\n",
      " |        The delimiter according which to split the string.\n",
      " |        None (the default value) means split according to any whitespace,\n",
      " |        and discard empty strings from the result.\n",
      " |      maxsplit\n",
      " |        Maximum number of splits to do.\n",
      " |        -1 (the default value) means no limit.\n",
      " |  \n",
      " |  splitlines(self, /, keepends=False)\n",
      " |      Return a list of the lines in the string, breaking at line boundaries.\n",
      " |      \n",
      " |      Line breaks are not included in the resulting list unless keepends is given and\n",
      " |      true.\n",
      " |  \n",
      " |  startswith(...)\n",
      " |      S.startswith(prefix[, start[, end]]) -> bool\n",
      " |      \n",
      " |      Return True if S starts with the specified prefix, False otherwise.\n",
      " |      With optional start, test S beginning at that position.\n",
      " |      With optional end, stop comparing S at that position.\n",
      " |      prefix can also be a tuple of strings to try.\n",
      " |  \n",
      " |  strip(self, chars=None, /)\n",
      " |      Return a copy of the string with leading and trailing whitespace removed.\n",
      " |      \n",
      " |      If chars is given and not None, remove characters in chars instead.\n",
      " |  \n",
      " |  swapcase(self, /)\n",
      " |      Convert uppercase characters to lowercase and lowercase characters to uppercase.\n",
      " |  \n",
      " |  title(self, /)\n",
      " |      Return a version of the string where each word is titlecased.\n",
      " |      \n",
      " |      More specifically, words start with uppercased characters and all remaining\n",
      " |      cased characters have lower case.\n",
      " |  \n",
      " |  translate(self, table, /)\n",
      " |      Replace each character in the string using the given translation table.\n",
      " |      \n",
      " |        table\n",
      " |          Translation table, which must be a mapping of Unicode ordinals to\n",
      " |          Unicode ordinals, strings, or None.\n",
      " |      \n",
      " |      The table must implement lookup/indexing via __getitem__, for instance a\n",
      " |      dictionary or list.  If this operation raises LookupError, the character is\n",
      " |      left untouched.  Characters mapped to None are deleted.\n",
      " |  \n",
      " |  upper(self, /)\n",
      " |      Return a copy of the string converted to uppercase.\n",
      " |  \n",
      " |  zfill(self, width, /)\n",
      " |      Pad a numeric string with zeros on the left, to fill a field of the given width.\n",
      " |      \n",
      " |      The string is never truncated.\n",
      " |  \n",
      " |  ----------------------------------------------------------------------\n",
      " |  Static methods defined here:\n",
      " |  \n",
      " |  __new__(*args, **kwargs) from builtins.type\n",
      " |      Create and return a new object.  See help(type) for accurate signature.\n",
      " |  \n",
      " |  maketrans(...)\n",
      " |      Return a translation table usable for str.translate().\n",
      " |      \n",
      " |      If there is only one argument, it must be a dictionary mapping Unicode\n",
      " |      ordinals (integers) or characters to Unicode ordinals, strings or None.\n",
      " |      Character keys will be then converted to ordinals.\n",
      " |      If there are two arguments, they must be strings of equal length, and\n",
      " |      in the resulting dictionary, each character in x will be mapped to the\n",
      " |      character at the same position in y. If there is a third argument, it\n",
      " |      must be a string, whose characters will be mapped to None in the result.\n",
      "\n"
     ]
    }
   ],
   "source": [
    "help(str)"
   ]
  },
  {
   "cell_type": "markdown",
   "id": "e625aac8",
   "metadata": {},
   "source": [
    "## range(début, fin, pas), qui va générer une liste de nombres selon trois paramètres :\n",
    "\n",
    "    début  : le premier nombre de la  séquence;\n",
    "\n",
    "    fin  : correspond au dernier nombre de la séquence non inclus. La fonction va générer des nombres de  début  à  fin- 1;\n",
    "\n",
    "    pas  : le pas entre chaque nombre généré."
   ]
  },
  {
   "cell_type": "code",
   "execution_count": 49,
   "id": "7270c346",
   "metadata": {},
   "outputs": [
    {
     "name": "stdout",
     "output_type": "stream",
     "text": [
      "0\n",
      "1\n",
      "2\n",
      "3\n",
      "4\n",
      "0\n",
      "1\n",
      "2\n",
      "3\n",
      "4\n",
      "0\n",
      "1\n",
      "2\n",
      "3\n",
      "4\n",
      "0\n",
      "2\n",
      "4\n"
     ]
    }
   ],
   "source": [
    "for i in range(0, 5, 1):\n",
    "    print(i) # -> affiche de 0 à 4 par pas de 1 (fin - 1)\n",
    "    \n",
    "for i in range(0, 5):\n",
    "    print(i) # -> affiche de 0 à 4 également (le pas par défaut est 1)\n",
    "    \n",
    "for i in range(5):\n",
    "    print(i) # -> affiche de 0 à 4 également (le début par défaut est 0)\n",
    "\n",
    "for i in range(0, 5, 2):\n",
    "    print(i) # -> affiche 0, 2 puis 4"
   ]
  },
  {
   "cell_type": "code",
   "execution_count": 52,
   "id": "91368248",
   "metadata": {},
   "outputs": [
    {
     "name": "stdout",
     "output_type": "stream",
     "text": [
      "0\n",
      "i != 2 & i != 5\n",
      "1\n",
      "i != 2 & i != 5\n",
      "2\n",
      "Cas spécial\n",
      "3\n",
      "i != 2 & i != 5\n",
      "4\n",
      "i != 2 & i != 5\n",
      "5\n",
      "Cas spécial\n",
      "6\n",
      "i != 2 & i != 5\n",
      "7\n",
      "i != 2 & i != 5\n",
      "8\n",
      "i != 2 & i != 5\n",
      "9\n",
      "i != 2 & i != 5\n"
     ]
    }
   ],
   "source": [
    "for i in range(10):\n",
    "    # instructions réalisées à chaque itération\n",
    "    print(i)\n",
    "    if (i == 2) or (i == 5):\n",
    "        print(\"Cas spécial\")\n",
    "        continue \n",
    "    # instructions non exécutées si i == 2 or 5 \n",
    "    print(\"i != 2 & i != 5\")\n"
   ]
  },
  {
   "cell_type": "code",
   "execution_count": 55,
   "id": "f3bca284",
   "metadata": {},
   "outputs": [
    {
     "name": "stdout",
     "output_type": "stream",
     "text": [
      "yeah !\n"
     ]
    }
   ],
   "source": [
    "d = {'a': 0, 'b': 1, 'c': 0}\n",
    "\n",
    "\n",
    "if d['a'] > 0:\n",
    "\n",
    "    print('yeah !')\n",
    "\n",
    "elif d['b'] > 0:\n",
    "\n",
    "    print('yeah !')\n",
    "\n",
    "elif d['c'] > 0:\n",
    "\n",
    "    print('ok')\n",
    "\n",
    "elif d['d'] > 0:\n",
    "\n",
    "    print('ok')\n",
    "\n",
    "else:\n",
    "\n",
    "    print('not ok')"
   ]
  },
  {
   "cell_type": "code",
   "execution_count": 135,
   "id": "e0e562e4",
   "metadata": {},
   "outputs": [
    {
     "name": "stdout",
     "output_type": "stream",
     "text": [
      "corge\n",
      "qux\n",
      "baz\n",
      "Done.\n"
     ]
    }
   ],
   "source": [
    "a = ['foo', 'bar', 'baz', 'qux', 'corge']\n",
    "\n",
    "\n",
    "while a:\n",
    "\n",
    "    if len(a) < 3:\n",
    "\n",
    "        break\n",
    "\n",
    "    print(a.pop())\n",
    "\n",
    "print('Done.')"
   ]
  },
  {
   "cell_type": "code",
   "execution_count": 137,
   "id": "37919b09",
   "metadata": {},
   "outputs": [
    {
     "name": "stdout",
     "output_type": "stream",
     "text": [
      "['foo', 'bar']\n"
     ]
    }
   ],
   "source": [
    "print(a)"
   ]
  },
  {
   "cell_type": "code",
   "execution_count": 136,
   "id": "29fdbf9d",
   "metadata": {},
   "outputs": [
    {
     "name": "stdout",
     "output_type": "stream",
     "text": [
      "1\n",
      "2\n",
      "4\n"
     ]
    }
   ],
   "source": [
    "if 'bar' in {'foo': 1, 'bar': 2, 'baz': 3}:\n",
    "\n",
    "    print(1)\n",
    "\n",
    "    print(2)\n",
    "\n",
    "    if 'a' in 'qux':\n",
    "\n",
    "        print(3)\n",
    "\n",
    "print(4)"
   ]
  },
  {
   "cell_type": "markdown",
   "id": "cad3498f",
   "metadata": {},
   "source": [
    "# ***Modules***"
   ]
  },
  {
   "cell_type": "code",
   "execution_count": 138,
   "id": "8e047435",
   "metadata": {},
   "outputs": [
    {
     "name": "stdout",
     "output_type": "stream",
     "text": [
      "Help on package math2:\n",
      "\n",
      "NAME\n",
      "    math2\n",
      "\n",
      "PACKAGE CONTENTS\n",
      "    analysis (package)\n",
      "    calc\n",
      "    consts\n",
      "    econ (package)\n",
      "    enums\n",
      "    linalg (package)\n",
      "    misc\n",
      "    ntheory (package)\n",
      "    stats (package)\n",
      "    tests (package)\n",
      "    typing\n",
      "    utils\n",
      "\n",
      "FILE\n",
      "    c:\\users\\zelion\\anaconda3\\lib\\site-packages\\math2\\__init__.py\n",
      "\n",
      "\n"
     ]
    }
   ],
   "source": [
    "import math2\n",
    "math=math2\n",
    "help(math)"
   ]
  },
  {
   "cell_type": "code",
   "execution_count": 151,
   "id": "093c698b",
   "metadata": {},
   "outputs": [],
   "source": [
    "import geometry as geo # on peut maintenant accéder à geo.aire() ou geo.pi"
   ]
  },
  {
   "cell_type": "code",
   "execution_count": 156,
   "id": "b432f9d9",
   "metadata": {},
   "outputs": [
    {
     "ename": "ImportError",
     "evalue": "cannot import name 'pi' from 'geometry' (C:\\Users\\ZElion\\anaconda3\\lib\\site-packages\\geometry\\__init__.py)",
     "output_type": "error",
     "traceback": [
      "\u001b[1;31m---------------------------------------------------------------------------\u001b[0m",
      "\u001b[1;31mImportError\u001b[0m                               Traceback (most recent call last)",
      "Cell \u001b[1;32mIn[156], line 1\u001b[0m\n\u001b[1;32m----> 1\u001b[0m \u001b[38;5;28;01mfrom\u001b[39;00m \u001b[38;5;21;01mgeometry\u001b[39;00m \u001b[38;5;28;01mimport\u001b[39;00m pi\n\u001b[0;32m      2\u001b[0m \u001b[38;5;28mprint\u001b[39m(pi)\n",
      "\u001b[1;31mImportError\u001b[0m: cannot import name 'pi' from 'geometry' (C:\\Users\\ZElion\\anaconda3\\lib\\site-packages\\geometry\\__init__.py)"
     ]
    }
   ],
   "source": [
    "from geometry import pi\n",
    "print(pi) # -> 3.14159265359"
   ]
  },
  {
   "cell_type": "code",
   "execution_count": 157,
   "id": "15a94788",
   "metadata": {},
   "outputs": [
    {
     "ename": "NameError",
     "evalue": "name 'geometry' is not defined",
     "output_type": "error",
     "traceback": [
      "\u001b[1;31m---------------------------------------------------------------------------\u001b[0m",
      "\u001b[1;31mNameError\u001b[0m                                 Traceback (most recent call last)",
      "Cell \u001b[1;32mIn[157], line 4\u001b[0m\n\u001b[0;32m      1\u001b[0m \u001b[38;5;66;03m#car = geometry.rectangle(4)\u001b[39;00m\n\u001b[0;32m      2\u001b[0m \u001b[38;5;66;03m#tri = geometry.triangle(3, 6, 5)\u001b[39;00m\n\u001b[1;32m----> 4\u001b[0m \u001b[38;5;28mprint\u001b[39m(\u001b[43mgeometry\u001b[49m\u001b[38;5;241m.\u001b[39mpi) \u001b[38;5;66;03m# -> 3.14159265359\u001b[39;00m\n\u001b[0;32m      6\u001b[0m geometry\u001b[38;5;241m.\u001b[39maire(car)\n",
      "\u001b[1;31mNameError\u001b[0m: name 'geometry' is not defined"
     ]
    }
   ],
   "source": [
    "#car = geometry.rectangle(4)\n",
    "#tri = geometry.triangle(3, 6, 5)\n",
    "\n",
    "print(geometry.pi) # -> 3.14159265359\n",
    "\n",
    "geometry.aire(car) # -> 16"
   ]
  },
  {
   "cell_type": "markdown",
   "id": "f7f7c8df",
   "metadata": {},
   "source": [
    "# Installation package"
   ]
  },
  {
   "cell_type": "markdown",
   "id": "292fb4c6",
   "metadata": {},
   "source": [
    "## C:\\Users\\ZElion>python -m pip install geometry\n",
    " Collecting geometry\n",
    " \n",
    "  Downloading Geometry-0.0.23-py3-none-any.whl (36 kB)\n",
    "  \n",
    " Installing collected packages: geometry\n",
    " \n",
    " Successfully installed geometry-0.0.23"
   ]
  },
  {
   "cell_type": "code",
   "execution_count": 150,
   "id": "03c5c357",
   "metadata": {
    "scrolled": false
   },
   "outputs": [
    {
     "ename": "ModuleNotFoundError",
     "evalue": "No module named 'geometry.variables'",
     "output_type": "error",
     "traceback": [
      "\u001b[1;31m---------------------------------------------------------------------------\u001b[0m",
      "\u001b[1;31mModuleNotFoundError\u001b[0m                       Traceback (most recent call last)",
      "Cell \u001b[1;32mIn[150], line 1\u001b[0m\n\u001b[1;32m----> 1\u001b[0m \u001b[38;5;28;01mimport\u001b[39;00m \u001b[38;5;21;01mgeometry\u001b[39;00m\u001b[38;5;21;01m.\u001b[39;00m\u001b[38;5;21;01mvariables\u001b[39;00m \u001b[38;5;28;01mas\u001b[39;00m \u001b[38;5;21;01mvar\u001b[39;00m \u001b[38;5;66;03m# importer uniquement ce qui est défini dans variables.py\u001b[39;00m\n\u001b[0;32m      3\u001b[0m \u001b[38;5;28mprint\u001b[39m(var\u001b[38;5;241m.\u001b[39mpi)\n",
      "\u001b[1;31mModuleNotFoundError\u001b[0m: No module named 'geometry.variables'"
     ]
    }
   ],
   "source": [
    "import geometry.variables as var # importer uniquement ce qui est défini dans variables.py\n",
    "\n",
    "print(var.pi) # -> 3.1415..."
   ]
  },
  {
   "cell_type": "code",
   "execution_count": 3,
   "id": "3c49371c",
   "metadata": {},
   "outputs": [],
   "source": [
    "import random"
   ]
  },
  {
   "cell_type": "code",
   "execution_count": 14,
   "id": "bc24e54d",
   "metadata": {},
   "outputs": [
    {
     "data": {
      "text/plain": [
       "4.0"
      ]
     },
     "execution_count": 14,
     "metadata": {},
     "output_type": "execute_result"
    }
   ],
   "source": [
    "import numpy as np #Package très utile !\n",
    "np.sqrt(16) # -> 4.0"
   ]
  },
  {
   "cell_type": "markdown",
   "id": "c2208228",
   "metadata": {},
   "source": [
    "## random.random: génère entre 0 et 1 exclu"
   ]
  },
  {
   "cell_type": "code",
   "execution_count": 21,
   "id": "d3d7bbbf",
   "metadata": {
    "scrolled": true
   },
   "outputs": [
    {
     "name": "stdout",
     "output_type": "stream",
     "text": [
      "0.07829523237217462\n",
      "0.24152205931820103\n",
      "0.8393659875928269\n"
     ]
    }
   ],
   "source": [
    "for i in range(3):\n",
    "    print(random.random())"
   ]
  },
  {
   "cell_type": "code",
   "execution_count": 30,
   "id": "b238ca37",
   "metadata": {},
   "outputs": [
    {
     "name": "stdout",
     "output_type": "stream",
     "text": [
      "Exemple de la fonction uniform :\n",
      "6.7777869444188195\n",
      "5.28500663609562\n",
      "6.864352571341495\n",
      "_______________\n",
      "Exemple de la fonction randint :\n",
      "10\n",
      "9\n",
      "7\n"
     ]
    }
   ],
   "source": [
    "print('Exemple de la fonction uniform :')\n",
    "for i in range(3):\n",
    "    print(random.uniform(5,10))\n",
    "print('_______________')\n",
    "print('Exemple de la fonction randint :')\n",
    "for i in range(3):\n",
    "    print(random.randint(5,10))"
   ]
  },
  {
   "cell_type": "markdown",
   "id": "a0852f1f",
   "metadata": {},
   "source": [
    "# Générez un nombre aléatoire selon une distribution donnée\n",
    "## Loi normale (est l’une des lois de probabilité les plus adaptées pour modéliser des phénomènes naturels issus de plusieurs événements aléatoires)\n",
    "    gauss(moyenne, écart-type)"
   ]
  },
  {
   "cell_type": "code",
   "execution_count": 32,
   "id": "0caf2c10",
   "metadata": {},
   "outputs": [
    {
     "name": "stdout",
     "output_type": "stream",
     "text": [
      "6.213081908391138\n",
      "5.607890004449989\n",
      "5.046867227797086\n",
      "3.5873543027457124\n",
      "6.664850793985598\n",
      "5.215814136496228\n",
      "5.64301598607329\n",
      "6.463421135234521\n",
      "6.404252359482513\n",
      "5.799858570247702\n"
     ]
    }
   ],
   "source": [
    "for i in range(10):\n",
    "    print(random.gauss(5,1))"
   ]
  },
  {
   "cell_type": "markdown",
   "id": "a66e8625",
   "metadata": {},
   "source": [
    "# Choisir aléatoirement dans une liste : sous-échantillonnage"
   ]
  },
  {
   "cell_type": "markdown",
   "id": "5be39908",
   "metadata": {},
   "source": [
    "# Echantillon avec remise"
   ]
  },
  {
   "cell_type": "code",
   "execution_count": 4,
   "id": "cc26a3df",
   "metadata": {
    "scrolled": true
   },
   "outputs": [
    {
     "name": "stdout",
     "output_type": "stream",
     "text": [
      "three\n",
      "one\n",
      "five\n"
     ]
    }
   ],
   "source": [
    "liste=['one','two','three','four','five']\n",
    "for i in range(3):\n",
    "    print(random.choice(liste))"
   ]
  },
  {
   "cell_type": "code",
   "execution_count": 5,
   "id": "fab1ebb2",
   "metadata": {},
   "outputs": [
    {
     "name": "stdout",
     "output_type": "stream",
     "text": [
      "['five', 'two']\n",
      "['five', 'two', 'three']\n"
     ]
    }
   ],
   "source": [
    "print(random.choices(liste, k=2))\n",
    "print(random.choices(liste, k=3))"
   ]
  },
  {
   "cell_type": "markdown",
   "id": "abec0733",
   "metadata": {},
   "source": [
    "# Echantillon sans remise"
   ]
  },
  {
   "cell_type": "code",
   "execution_count": 35,
   "id": "795b4d61",
   "metadata": {},
   "outputs": [
    {
     "name": "stdout",
     "output_type": "stream",
     "text": [
      "['three', 'five']\n",
      "['four', 'one', 'three']\n"
     ]
    }
   ],
   "source": [
    "print(random.sample(liste, 2))\n",
    "print(random.sample(liste, 3))"
   ]
  },
  {
   "cell_type": "code",
   "execution_count": 4,
   "id": "29d9af99",
   "metadata": {},
   "outputs": [
    {
     "name": "stdout",
     "output_type": "stream",
     "text": [
      "Python\n"
     ]
    }
   ],
   "source": [
    "class Library:\n",
    "        def practice(self, language='Java'):\n",
    "                print(language)\n",
    "l = Library()\n",
    "l.practice('Python')"
   ]
  },
  {
   "cell_type": "code",
   "execution_count": 5,
   "id": "3f1b7da2",
   "metadata": {},
   "outputs": [
    {
     "ename": "SyntaxError",
     "evalue": "invalid syntax (500914815.py, line 1)",
     "output_type": "error",
     "traceback": [
      "\u001b[1;36m  File \u001b[1;32m\"C:\\Users\\ZElion\\AppData\\Local\\Temp\\ipykernel_14696\\500914815.py\"\u001b[1;36m, line \u001b[1;32m1\u001b[0m\n\u001b[1;33m    (a,b) for a in range(3) for b in range(a)\u001b[0m\n\u001b[1;37m          ^\u001b[0m\n\u001b[1;31mSyntaxError\u001b[0m\u001b[1;31m:\u001b[0m invalid syntax\n"
     ]
    }
   ],
   "source": [
    "(a,b) for a in range(3) for b in range(a)"
   ]
  },
  {
   "cell_type": "code",
   "execution_count": 6,
   "id": "116e6c20",
   "metadata": {},
   "outputs": [
    {
     "data": {
      "text/plain": [
       "[(1, 0), (2, 0), (2, 1)]"
      ]
     },
     "execution_count": 6,
     "metadata": {},
     "output_type": "execute_result"
    }
   ],
   "source": [
    "[ (a,b) for a in range(3) for b in range(a) ]"
   ]
  },
  {
   "cell_type": "code",
   "execution_count": 7,
   "id": "4b5a1989",
   "metadata": {},
   "outputs": [
    {
     "name": "stdout",
     "output_type": "stream",
     "text": [
      "5\n"
     ]
    }
   ],
   "source": [
    "count = 1\n",
    "def calculate():\n",
    "\tglobal count\n",
    "\tfor i in (1, 2, 3, 4):\n",
    "\t\tcount += 1\n",
    "\n",
    "calculate()\n",
    "print(count)"
   ]
  },
  {
   "cell_type": "code",
   "execution_count": 8,
   "id": "cc1375f3",
   "metadata": {},
   "outputs": [
    {
     "name": "stdout",
     "output_type": "stream",
     "text": [
      "5\n"
     ]
    }
   ],
   "source": [
    "n = 0\n",
    "for i in range(5) :\n",
    "\tn = n + 1\n",
    "print(n)"
   ]
  },
  {
   "cell_type": "markdown",
   "id": "5151d8e3",
   "metadata": {},
   "source": [
    "\n",
    "if not exists(select name from sysobjects where type='U' and name = 'nomtable') \n",
    "CREATE TABLE nomTable\n"
   ]
  },
  {
   "cell_type": "code",
   "execution_count": 6,
   "id": "a3a11019",
   "metadata": {},
   "outputs": [
    {
     "name": "stdout",
     "output_type": "stream",
     "text": [
      "Pomme\n"
     ]
    }
   ],
   "source": [
    "import random\n",
    "\n",
    "\n",
    "panier = [\"Pomme\", \"Poire\", \"Banane\", \"Ananas\", \"Orange\"]\n",
    "\n",
    "resultat = panier[random.randint(0, 4)]\n",
    "\n",
    "print(resultat)"
   ]
  },
  {
   "cell_type": "code",
   "execution_count": 7,
   "id": "4f341905",
   "metadata": {},
   "outputs": [
    {
     "name": "stdout",
     "output_type": "stream",
     "text": [
      "Pomme\n"
     ]
    }
   ],
   "source": [
    "import random\n",
    "\n",
    "\n",
    "panier = [\"Pomme\", \"Poire\", \"Banane\", \"Ananas\", \"Orange\"]\n",
    "\n",
    "resultat = random.choice(panier)\n",
    "\n",
    "print(resultat)"
   ]
  },
  {
   "cell_type": "code",
   "execution_count": 8,
   "id": "d69f83df",
   "metadata": {},
   "outputs": [
    {
     "ename": "TypeError",
     "evalue": "Random.random() takes no arguments (1 given)",
     "output_type": "error",
     "traceback": [
      "\u001b[1;31m---------------------------------------------------------------------------\u001b[0m",
      "\u001b[1;31mTypeError\u001b[0m                                 Traceback (most recent call last)",
      "\u001b[1;32m~\\AppData\\Local\\Temp\\ipykernel_8304\\3387905530.py\u001b[0m in \u001b[0;36m<module>\u001b[1;34m\u001b[0m\n\u001b[0;32m      4\u001b[0m \u001b[0mpanier\u001b[0m \u001b[1;33m=\u001b[0m \u001b[1;33m[\u001b[0m\u001b[1;34m\"Pomme\"\u001b[0m\u001b[1;33m,\u001b[0m \u001b[1;34m\"Poire\"\u001b[0m\u001b[1;33m,\u001b[0m \u001b[1;34m\"Banane\"\u001b[0m\u001b[1;33m,\u001b[0m \u001b[1;34m\"Ananas\"\u001b[0m\u001b[1;33m,\u001b[0m \u001b[1;34m\"Orange\"\u001b[0m\u001b[1;33m]\u001b[0m\u001b[1;33m\u001b[0m\u001b[1;33m\u001b[0m\u001b[0m\n\u001b[0;32m      5\u001b[0m \u001b[1;33m\u001b[0m\u001b[0m\n\u001b[1;32m----> 6\u001b[1;33m \u001b[0mresultat\u001b[0m \u001b[1;33m=\u001b[0m \u001b[0mrandom\u001b[0m\u001b[1;33m.\u001b[0m\u001b[0mrandom\u001b[0m\u001b[1;33m(\u001b[0m\u001b[0mpanier\u001b[0m\u001b[1;33m)\u001b[0m\u001b[1;33m\u001b[0m\u001b[1;33m\u001b[0m\u001b[0m\n\u001b[0m\u001b[0;32m      7\u001b[0m \u001b[1;33m\u001b[0m\u001b[0m\n\u001b[0;32m      8\u001b[0m \u001b[0mprint\u001b[0m\u001b[1;33m(\u001b[0m\u001b[0mresultat\u001b[0m\u001b[1;33m)\u001b[0m\u001b[1;33m\u001b[0m\u001b[1;33m\u001b[0m\u001b[0m\n",
      "\u001b[1;31mTypeError\u001b[0m: Random.random() takes no arguments (1 given)"
     ]
    }
   ],
   "source": [
    "import random\n",
    "\n",
    "\n",
    "panier = [\"Pomme\", \"Poire\", \"Banane\", \"Ananas\", \"Orange\"]\n",
    "\n",
    "resultat = random.random(panier)\n",
    "\n",
    "print(resultat)"
   ]
  },
  {
   "cell_type": "code",
   "execution_count": 9,
   "id": "6340e40a",
   "metadata": {},
   "outputs": [
    {
     "name": "stdout",
     "output_type": "stream",
     "text": [
      "None\n"
     ]
    }
   ],
   "source": [
    "import random\n",
    "\n",
    "\n",
    "panier = [\"Pomme\", \"Poire\", \"Banane\", \"Ananas\", \"Orange\"]\n",
    "\n",
    "resultat = random.shuffle(panier)\n",
    "\n",
    "print(resultat)"
   ]
  },
  {
   "cell_type": "code",
   "execution_count": 11,
   "id": "2d338fd2",
   "metadata": {},
   "outputs": [
    {
     "name": "stdout",
     "output_type": "stream",
     "text": [
      "Help on method shuffle in module random:\n",
      "\n",
      "shuffle(x, random=None) method of random.Random instance\n",
      "    Shuffle list x in place, and return None.\n",
      "    \n",
      "    Optional argument random is a 0-argument function returning a\n",
      "    random float in [0.0, 1.0); if it is the default None, the\n",
      "    standard random.random will be used.\n",
      "\n"
     ]
    }
   ],
   "source": [
    "help(random.shuffle)"
   ]
  },
  {
   "cell_type": "code",
   "execution_count": null,
   "id": "b8989e07",
   "metadata": {},
   "outputs": [],
   "source": [
    "help(random.shuffle)"
   ]
  }
 ],
 "metadata": {
  "celltoolbar": "Format de la Cellule Texte Brut",
  "kernelspec": {
   "display_name": "Python 3 (ipykernel)",
   "language": "python",
   "name": "python3"
  },
  "language_info": {
   "codemirror_mode": {
    "name": "ipython",
    "version": 3
   },
   "file_extension": ".py",
   "mimetype": "text/x-python",
   "name": "python",
   "nbconvert_exporter": "python",
   "pygments_lexer": "ipython3",
   "version": "3.9.16"
  }
 },
 "nbformat": 4,
 "nbformat_minor": 5
}
