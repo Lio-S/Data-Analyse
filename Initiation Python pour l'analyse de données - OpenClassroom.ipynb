{
 "cells": [
  {
   "cell_type": "code",
   "execution_count": 1,
   "id": "2c5cb6ac",
   "metadata": {},
   "outputs": [
    {
     "name": "stdout",
     "output_type": "stream",
     "text": [
      "Bijour!\n"
     ]
    }
   ],
   "source": [
    "print('Bijour!')"
   ]
  },
  {
   "cell_type": "markdown",
   "id": "8476e5cb",
   "metadata": {},
   "source": [
    "#**Première Journée** ***Python***\n",
    "\n",
    "Jeudi 22/12/2022 "
   ]
  },
  {
   "cell_type": "markdown",
   "id": "6955c15b",
   "metadata": {},
   "source": [
    "##**Premiers exercices**"
   ]
  },
  {
   "cell_type": "code",
   "execution_count": 2,
   "id": "7fd4529e",
   "metadata": {},
   "outputs": [],
   "source": [
    "compteCourant = 500"
   ]
  },
  {
   "cell_type": "code",
   "execution_count": 3,
   "id": "ea3fba0e",
   "metadata": {},
   "outputs": [],
   "source": [
    "compteEpargne = 1000"
   ]
  },
  {
   "cell_type": "code",
   "execution_count": 2,
   "id": "6ff34f6a",
   "metadata": {},
   "outputs": [],
   "source": [
    "Division = 0"
   ]
  },
  {
   "cell_type": "code",
   "execution_count": 3,
   "id": "be1f918e",
   "metadata": {},
   "outputs": [
    {
     "name": "stdout",
     "output_type": "stream",
     "text": [
      "0\n"
     ]
    }
   ],
   "source": [
    "print(Division)"
   ]
  },
  {
   "cell_type": "code",
   "execution_count": 4,
   "id": "5d992ecd",
   "metadata": {},
   "outputs": [],
   "source": [
    "Division = compteEpargne/compteCourant"
   ]
  },
  {
   "cell_type": "code",
   "execution_count": 5,
   "id": "dc78743d",
   "metadata": {},
   "outputs": [
    {
     "name": "stdout",
     "output_type": "stream",
     "text": [
      "2.0\n"
     ]
    }
   ],
   "source": [
    "print(Division)"
   ]
  },
  {
   "cell_type": "markdown",
   "id": "1ae9bce2",
   "metadata": {},
   "source": [
    "# Première Journée Python\n",
    "\n",
    "## Jeudi 22/12/2022\n",
    "\n",
    "## Premiers exercices\n"
   ]
  },
  {
   "cell_type": "markdown",
   "id": "c5ace822",
   "metadata": {},
   "source": [
    "# Première Journée Python\n",
    "\n",
    "**Deuxième**\n",
    "\n",
    "## Jeudi 22/12/2022\n",
    "\n",
    "*Vendredi 06/01/2023*\n",
    "## Premiers exercices\n",
    "14h"
   ]
  },
  {
   "cell_type": "markdown",
   "id": "5a079651",
   "metadata": {},
   "source": [
    "# Test Modulo décimal"
   ]
  },
  {
   "cell_type": "code",
   "execution_count": 7,
   "id": "0f446939",
   "metadata": {},
   "outputs": [],
   "source": [
    "moduloDec = 25%2.2"
   ]
  },
  {
   "cell_type": "code",
   "execution_count": 8,
   "id": "c0aab64c",
   "metadata": {},
   "outputs": [
    {
     "name": "stdout",
     "output_type": "stream",
     "text": [
      "0.799999999999998\n"
     ]
    }
   ],
   "source": [
    "print(moduloDec)"
   ]
  },
  {
   "cell_type": "code",
   "execution_count": 9,
   "id": "fe87067f",
   "metadata": {},
   "outputs": [
    {
     "name": "stdout",
     "output_type": "stream",
     "text": [
      "<class 'float'>\n"
     ]
    }
   ],
   "source": [
    "print(type(moduloDec))"
   ]
  },
  {
   "cell_type": "code",
   "execution_count": 12,
   "id": "b4044ec0",
   "metadata": {
    "scrolled": true
   },
   "outputs": [
    {
     "name": "stdout",
     "output_type": "stream",
     "text": [
      "2.0000000000000018\n"
     ]
    }
   ],
   "source": [
    "print(25%2.3)"
   ]
  },
  {
   "cell_type": "code",
   "execution_count": 11,
   "id": "172e2469",
   "metadata": {},
   "outputs": [
    {
     "name": "stdout",
     "output_type": "stream",
     "text": [
      "10.0\n"
     ]
    }
   ],
   "source": [
    "print(25//2.3)"
   ]
  },
  {
   "cell_type": "code",
   "execution_count": 12,
   "id": "23c88a00",
   "metadata": {},
   "outputs": [
    {
     "data": {
      "text/plain": [
       "4"
      ]
     },
     "execution_count": 12,
     "metadata": {},
     "output_type": "execute_result"
    }
   ],
   "source": [
    "2**2"
   ]
  },
  {
   "cell_type": "code",
   "execution_count": 14,
   "id": "43bdd814",
   "metadata": {
    "scrolled": true
   },
   "outputs": [],
   "source": [
    "c=25%2.3"
   ]
  },
  {
   "cell_type": "code",
   "execution_count": 15,
   "id": "009e119f",
   "metadata": {},
   "outputs": [
    {
     "name": "stdout",
     "output_type": "stream",
     "text": [
      "0.799999999999998\n",
      "2.0000000000000018\n"
     ]
    }
   ],
   "source": [
    "print(moduloDec)\n",
    "print(c)"
   ]
  },
  {
   "cell_type": "code",
   "execution_count": 16,
   "id": "9fa2f1fd",
   "metadata": {},
   "outputs": [
    {
     "name": "stdout",
     "output_type": "stream",
     "text": [
      "0.799999999999998\n",
      "0\n"
     ]
    }
   ],
   "source": [
    "print(moduloDec)\n",
    "moduloDec = int(moduloDec)\n",
    "print(moduloDec)"
   ]
  },
  {
   "cell_type": "code",
   "execution_count": 10,
   "id": "aabfc940",
   "metadata": {},
   "outputs": [
    {
     "name": "stdout",
     "output_type": "stream",
     "text": [
      "Hello world !\n"
     ]
    }
   ],
   "source": [
    "a = \"Hello World !\"\n",
    "print(a.capitalize())"
   ]
  },
  {
   "cell_type": "code",
   "execution_count": 11,
   "id": "69c2a544",
   "metadata": {},
   "outputs": [
    {
     "name": "stdout",
     "output_type": "stream",
     "text": [
      "Hello World !\n"
     ]
    }
   ],
   "source": [
    "print(a)"
   ]
  },
  {
   "cell_type": "code",
   "execution_count": 9,
   "id": "c02a1e3f",
   "metadata": {},
   "outputs": [
    {
     "data": {
      "text/plain": [
       "'hello world !'"
      ]
     },
     "execution_count": 9,
     "metadata": {},
     "output_type": "execute_result"
    }
   ],
   "source": [
    "a.lower()"
   ]
  },
  {
   "cell_type": "code",
   "execution_count": 10,
   "id": "aadcb96b",
   "metadata": {},
   "outputs": [
    {
     "data": {
      "text/plain": [
       "2"
      ]
     },
     "execution_count": 10,
     "metadata": {},
     "output_type": "execute_result"
    }
   ],
   "source": [
    "a.find(\"l\")"
   ]
  },
  {
   "cell_type": "code",
   "execution_count": 3,
   "id": "a9900b69",
   "metadata": {},
   "outputs": [],
   "source": [
    "b=5"
   ]
  },
  {
   "cell_type": "code",
   "execution_count": 4,
   "id": "1a30df7d",
   "metadata": {},
   "outputs": [],
   "source": [
    "b*=10"
   ]
  },
  {
   "cell_type": "code",
   "execution_count": 31,
   "id": "76431cec",
   "metadata": {},
   "outputs": [
    {
     "name": "stdout",
     "output_type": "stream",
     "text": [
      "50\n"
     ]
    }
   ],
   "source": [
    "print(b)"
   ]
  },
  {
   "cell_type": "code",
   "execution_count": 2,
   "id": "665a9749",
   "metadata": {},
   "outputs": [],
   "source": [
    "def calculPerimetre(cote1, cote2, cote3):\n",
    "    perimetre = cote1 + cote2 + cote3\n",
    "    return perimetre"
   ]
  },
  {
   "cell_type": "code",
   "execution_count": 5,
   "id": "7687d0de",
   "metadata": {},
   "outputs": [
    {
     "name": "stdout",
     "output_type": "stream",
     "text": [
      "Le périmetre de mon premier triangle est :13 :et celle de mon second est :24\n"
     ]
    }
   ],
   "source": [
    "perimetre1 = calculPerimetre(6, 4, 3)\n",
    "perimetre2 = calculPerimetre(10, 3, 11)\n",
    "\n",
    "print(\"Le périmetre de mon premier triangle est\",perimetre1,\"et celle de mon second est\",perimetre2,sep=' :')"
   ]
  },
  {
   "cell_type": "code",
   "execution_count": 11,
   "id": "94e04ed9",
   "metadata": {},
   "outputs": [
    {
     "name": "stdout",
     "output_type": "stream",
     "text": [
      "Help on built-in function print in module builtins:\n",
      "\n",
      "print(...)\n",
      "    print(value, ..., sep=' ', end='\\n', file=sys.stdout, flush=False)\n",
      "    \n",
      "    Prints the values to a stream, or to sys.stdout by default.\n",
      "    Optional keyword arguments:\n",
      "    file:  a file-like object (stream); defaults to the current sys.stdout.\n",
      "    sep:   string inserted between values, default a space.\n",
      "    end:   string appended after the last value, default a newline.\n",
      "    flush: whether to forcibly flush the stream.\n",
      "\n"
     ]
    }
   ],
   "source": [
    "help(print)"
   ]
  },
  {
   "cell_type": "code",
   "execution_count": 6,
   "id": "da5f7315",
   "metadata": {},
   "outputs": [
    {
     "name": "stdout",
     "output_type": "stream",
     "text": [
      "['Luc Martin', 'Lucas Anderson']\n"
     ]
    }
   ],
   "source": [
    "nomClient = ['Georges Dupont', 'Luc Martin', 'Lucas Anderson', 'Alexandre Petit']\n",
    "\n",
    "print(nomClient[1:3])"
   ]
  },
  {
   "cell_type": "code",
   "execution_count": 13,
   "id": "3e02c801",
   "metadata": {},
   "outputs": [
    {
     "name": "stdout",
     "output_type": "stream",
     "text": [
      "['Luc Martin', 'Lucas Anderson']\n"
     ]
    }
   ],
   "source": [
    "nomClient = ['Georges Dupont', 'Luc Martin', 'Lucas Anderson', 'Alexandre Petit']\n",
    "\n",
    "print(nomClient[-3:-1])"
   ]
  },
  {
   "cell_type": "code",
   "execution_count": 23,
   "id": "436c498d",
   "metadata": {},
   "outputs": [
    {
     "name": "stdout",
     "output_type": "stream",
     "text": [
      "Help on list object:\n",
      "\n",
      "class list(object)\n",
      " |  list(iterable=(), /)\n",
      " |  \n",
      " |  Built-in mutable sequence.\n",
      " |  \n",
      " |  If no argument is given, the constructor creates a new empty list.\n",
      " |  The argument must be an iterable if specified.\n",
      " |  \n",
      " |  Methods defined here:\n",
      " |  \n",
      " |  __add__(self, value, /)\n",
      " |      Return self+value.\n",
      " |  \n",
      " |  __contains__(self, key, /)\n",
      " |      Return key in self.\n",
      " |  \n",
      " |  __delitem__(self, key, /)\n",
      " |      Delete self[key].\n",
      " |  \n",
      " |  __eq__(self, value, /)\n",
      " |      Return self==value.\n",
      " |  \n",
      " |  __ge__(self, value, /)\n",
      " |      Return self>=value.\n",
      " |  \n",
      " |  __getattribute__(self, name, /)\n",
      " |      Return getattr(self, name).\n",
      " |  \n",
      " |  __getitem__(...)\n",
      " |      x.__getitem__(y) <==> x[y]\n",
      " |  \n",
      " |  __gt__(self, value, /)\n",
      " |      Return self>value.\n",
      " |  \n",
      " |  __iadd__(self, value, /)\n",
      " |      Implement self+=value.\n",
      " |  \n",
      " |  __imul__(self, value, /)\n",
      " |      Implement self*=value.\n",
      " |  \n",
      " |  __init__(self, /, *args, **kwargs)\n",
      " |      Initialize self.  See help(type(self)) for accurate signature.\n",
      " |  \n",
      " |  __iter__(self, /)\n",
      " |      Implement iter(self).\n",
      " |  \n",
      " |  __le__(self, value, /)\n",
      " |      Return self<=value.\n",
      " |  \n",
      " |  __len__(self, /)\n",
      " |      Return len(self).\n",
      " |  \n",
      " |  __lt__(self, value, /)\n",
      " |      Return self<value.\n",
      " |  \n",
      " |  __mul__(self, value, /)\n",
      " |      Return self*value.\n",
      " |  \n",
      " |  __ne__(self, value, /)\n",
      " |      Return self!=value.\n",
      " |  \n",
      " |  __repr__(self, /)\n",
      " |      Return repr(self).\n",
      " |  \n",
      " |  __reversed__(self, /)\n",
      " |      Return a reverse iterator over the list.\n",
      " |  \n",
      " |  __rmul__(self, value, /)\n",
      " |      Return value*self.\n",
      " |  \n",
      " |  __setitem__(self, key, value, /)\n",
      " |      Set self[key] to value.\n",
      " |  \n",
      " |  __sizeof__(self, /)\n",
      " |      Return the size of the list in memory, in bytes.\n",
      " |  \n",
      " |  append(self, object, /)\n",
      " |      Append object to the end of the list.\n",
      " |  \n",
      " |  clear(self, /)\n",
      " |      Remove all items from list.\n",
      " |  \n",
      " |  copy(self, /)\n",
      " |      Return a shallow copy of the list.\n",
      " |  \n",
      " |  count(self, value, /)\n",
      " |      Return number of occurrences of value.\n",
      " |  \n",
      " |  extend(self, iterable, /)\n",
      " |      Extend list by appending elements from the iterable.\n",
      " |  \n",
      " |  index(self, value, start=0, stop=9223372036854775807, /)\n",
      " |      Return first index of value.\n",
      " |      \n",
      " |      Raises ValueError if the value is not present.\n",
      " |  \n",
      " |  insert(self, index, object, /)\n",
      " |      Insert object before index.\n",
      " |  \n",
      " |  pop(self, index=-1, /)\n",
      " |      Remove and return item at index (default last).\n",
      " |      \n",
      " |      Raises IndexError if list is empty or index is out of range.\n",
      " |  \n",
      " |  remove(self, value, /)\n",
      " |      Remove first occurrence of value.\n",
      " |      \n",
      " |      Raises ValueError if the value is not present.\n",
      " |  \n",
      " |  reverse(self, /)\n",
      " |      Reverse *IN PLACE*.\n",
      " |  \n",
      " |  sort(self, /, *, key=None, reverse=False)\n",
      " |      Sort the list in ascending order and return None.\n",
      " |      \n",
      " |      The sort is in-place (i.e. the list itself is modified) and stable (i.e. the\n",
      " |      order of two equal elements is maintained).\n",
      " |      \n",
      " |      If a key function is given, apply it once to each list item and sort them,\n",
      " |      ascending or descending, according to their function values.\n",
      " |      \n",
      " |      The reverse flag can be set to sort in descending order.\n",
      " |  \n",
      " |  ----------------------------------------------------------------------\n",
      " |  Class methods defined here:\n",
      " |  \n",
      " |  __class_getitem__(...) from builtins.type\n",
      " |      See PEP 585\n",
      " |  \n",
      " |  ----------------------------------------------------------------------\n",
      " |  Static methods defined here:\n",
      " |  \n",
      " |  __new__(*args, **kwargs) from builtins.type\n",
      " |      Create and return a new object.  See help(type) for accurate signature.\n",
      " |  \n",
      " |  ----------------------------------------------------------------------\n",
      " |  Data and other attributes defined here:\n",
      " |  \n",
      " |  __hash__ = None\n",
      "\n"
     ]
    }
   ],
   "source": [
    "help(nomClient)"
   ]
  },
  {
   "cell_type": "code",
   "execution_count": 38,
   "id": "e23a2432",
   "metadata": {},
   "outputs": [
    {
     "name": "stdout",
     "output_type": "stream",
     "text": [
      "['Lucas Anderson']\n",
      "Alexandre Petit\n",
      "Alexandre Petit\n"
     ]
    }
   ],
   "source": [
    "nomClient = ['Georges Dupont', 'Luc Martin', 'Lucas Anderson', 'Alexandre Petit']\n",
    "\n",
    "print(nomClient[-2:-1])\n",
    "print(nomClient[len(nomClient)-1])\n",
    "print(nomClient[-1])"
   ]
  },
  {
   "cell_type": "markdown",
   "id": "c67c56b0",
   "metadata": {},
   "source": [
    "# Commentaires:\n",
    "#### liste = []\n",
    "#### liste.append(7) # -> [7]\n",
    "#### liste.append(5) # -> [7, 5]\n",
    "#### liste.insert(1,12) # [7, 12, 5]\n",
    "#### liste[0] = 4 # -> [4, 12, 5]\n",
    "#### liste.remove(12) # [4, 5]\n",
    "#### liste.index(5) # affiche 1\n",
    "#### liste.extend([1, 2, 3]) # [4, 5, 1, 2, 3]\n",
    "#### del liste[3] # [4, 5, 1, 3]"
   ]
  },
  {
   "cell_type": "code",
   "execution_count": 38,
   "id": "a44b37e5",
   "metadata": {},
   "outputs": [
    {
     "name": "stdout",
     "output_type": "stream",
     "text": [
      "Quel est votre nom ?\n",
      "J ai demandé quel est votre nom ?\n"
     ]
    }
   ],
   "source": [
    "nom = input('Quel est votre nom ?')\n",
    "if len(nom)>0 :\n",
    "    print('Salut '+ nom+ '!' )\n",
    "else:\n",
    "    print('J ai demandé quel est votre nom', '',sep=' !')"
   ]
  },
  {
   "cell_type": "markdown",
   "id": "a07df5cc",
   "metadata": {},
   "source": [
    "# Dictionnaires"
   ]
  },
  {
   "cell_type": "code",
   "execution_count": 17,
   "id": "5bcb7e0c",
   "metadata": {
    "scrolled": false
   },
   "outputs": [
    {
     "name": "stdout",
     "output_type": "stream",
     "text": [
      "150\n",
      "1000\n"
     ]
    },
    {
     "data": {
      "text/plain": [
       "150"
      ]
     },
     "execution_count": 17,
     "metadata": {},
     "output_type": "execute_result"
    }
   ],
   "source": [
    "\n",
    "comptes = {\"Georges Dupont\": 10000, \"Luc Martin\": 150, \"Lucas Anderson\": 300, \"Alexandre Petit\": 1800.74}\n",
    "print(comptes[\"Luc Martin\"]) # -> 150\n",
    "comptes['Georges Dupont'] -= 2000 # je soustrais 2000 au compte de Georges\n",
    "comptes['Cyril Andreje'] = 1000 # j'ajoute un nouvel individu dans mon dictionnaire\n",
    "print(comptes['Cyril Andreje']) # j'affiche la valeur du compte de Cyril\n",
    "comptes.pop('Luc Martin') # supprime Luc Martin de notre dictionnaire"
   ]
  },
  {
   "cell_type": "code",
   "execution_count": 19,
   "id": "376fa863",
   "metadata": {},
   "outputs": [
    {
     "name": "stdout",
     "output_type": "stream",
     "text": [
      "Help on built-in function pop:\n",
      "\n",
      "pop(...) method of builtins.dict instance\n",
      "    D.pop(k[,d]) -> v, remove specified key and return the corresponding value.\n",
      "    \n",
      "    If key is not found, default is returned if given, otherwise KeyError is raised\n",
      "\n"
     ]
    }
   ],
   "source": [
    "help (comptes.pop)"
   ]
  },
  {
   "cell_type": "markdown",
   "id": "adf3cc1f",
   "metadata": {},
   "source": [
    "# Tuple\n",
    "## On peut accéder à une valeur ou la modifier via la même notation qu’avec les listes."
   ]
  },
  {
   "cell_type": "code",
   "execution_count": 41,
   "id": "3ce0ffa6",
   "metadata": {},
   "outputs": [
    {
     "name": "stdout",
     "output_type": "stream",
     "text": [
      "2\n",
      "b\n",
      "1\n",
      "pomme\n"
     ]
    }
   ],
   "source": [
    "mon_tuple = (1, 2, 3, 'a', 'b')\n",
    "## ils peuvent servir :\n",
    "  #  lorsque l'on veut s'assurer que les données ne soient pas modifiées au sein du programme ;\n",
    "  #  à retourner plusieurs valeurs au sein d'une fonction. En effet, nous n'avons pas abordé ce point lorsque nous avons parlé des fonctions, mais il est possible de retourner plusieurs valeurs... avec un tuple ! ;\n",
    "  #  à déclarer plusieurs variables en une ligne.\n",
    "print(mon_tuple[1]) # -> 2\n",
    "print(mon_tuple[4]) # -> 'b'\n",
    "\n",
    "a, b = (1, 'pomme')\n",
    "print(a) # -> 1\n",
    "print(b) # -> 'pomme'"
   ]
  },
  {
   "cell_type": "markdown",
   "id": "285ee22d",
   "metadata": {},
   "source": [
    "## Opérateur **In**"
   ]
  },
  {
   "cell_type": "code",
   "execution_count": 42,
   "id": "3001eb4d",
   "metadata": {},
   "outputs": [
    {
     "data": {
      "text/plain": [
       "False"
      ]
     },
     "execution_count": 42,
     "metadata": {},
     "output_type": "execute_result"
    }
   ],
   "source": [
    "maListe = [4, 2, 3, 2, 10]\n",
    "maListeDeString = [\"a\", \"b\", \"c\", \"d\"]\n",
    "monString = \"La météo est vraiment bien aujourd'hui !\"\n",
    "\n",
    "4 in maListe # True\n",
    "0 in maListe # False\n",
    "0 in maListeDeString # False\n",
    "\"c\" in maListeDeString # True\n",
    "\"e\" in maListeDeString # False\n",
    "\"météo\" in monString # True\n",
    "\"vraiment\" in monString # True\n",
    "\"pluie ?\" in monString # False"
   ]
  },
  {
   "cell_type": "code",
   "execution_count": 43,
   "id": "5d25a1bd",
   "metadata": {},
   "outputs": [
    {
     "ename": "IndentationError",
     "evalue": "expected an indented block (460224434.py, line 3)",
     "output_type": "error",
     "traceback": [
      "\u001b[1;36m  File \u001b[1;32m\"C:\\Users\\ZElion\\AppData\\Local\\Temp\\ipykernel_14112\\460224434.py\"\u001b[1;36m, line \u001b[1;32m3\u001b[0m\n\u001b[1;33m    elif condition2:\u001b[0m\n\u001b[1;37m    ^\u001b[0m\n\u001b[1;31mIndentationError\u001b[0m\u001b[1;31m:\u001b[0m expected an indented block\n"
     ]
    }
   ],
   "source": [
    "if condition1: \n",
    "    # instructions\n",
    "elif condition2:\n",
    "    # instructions\n",
    "else:\n",
    "    # instructions"
   ]
  },
  {
   "cell_type": "code",
   "execution_count": 48,
   "id": "ab3d1ab6",
   "metadata": {},
   "outputs": [
    {
     "name": "stdout",
     "output_type": "stream",
     "text": [
      "E\n",
      "l\n",
      "é\n",
      "m\n",
      "e\n",
      "n\n",
      "t\n",
      "s\n"
     ]
    }
   ],
   "source": [
    "monString = \"Eléments\"\n",
    "\n",
    "for i in monString:\n",
    "    print(i)"
   ]
  },
  {
   "cell_type": "markdown",
   "id": "e625aac8",
   "metadata": {},
   "source": [
    "## range(début, fin, pas), qui va générer une liste de nombres selon trois paramètres :\n",
    "\n",
    "    début  : le premier nombre de la  séquence;\n",
    "\n",
    "    fin  : correspond au dernier nombre de la séquence non inclus. La fonction va générer des nombres de  début  à  fin- 1;\n",
    "\n",
    "    pas  : le pas entre chaque nombre généré."
   ]
  },
  {
   "cell_type": "code",
   "execution_count": 49,
   "id": "7270c346",
   "metadata": {},
   "outputs": [
    {
     "name": "stdout",
     "output_type": "stream",
     "text": [
      "0\n",
      "1\n",
      "2\n",
      "3\n",
      "4\n",
      "0\n",
      "1\n",
      "2\n",
      "3\n",
      "4\n",
      "0\n",
      "1\n",
      "2\n",
      "3\n",
      "4\n",
      "0\n",
      "2\n",
      "4\n"
     ]
    }
   ],
   "source": [
    "for i in range(0, 5, 1):\n",
    "    print(i) # -> affiche de 0 à 4 par pas de 1 (fin - 1)\n",
    "    \n",
    "for i in range(0, 5):\n",
    "    print(i) # -> affiche de 0 à 4 également (le pas par défaut est 1)\n",
    "    \n",
    "for i in range(5):\n",
    "    print(i) # -> affiche de 0 à 4 également (le début par défaut est 0)\n",
    "\n",
    "for i in range(0, 5, 2):\n",
    "    print(i) # -> affiche 0, 2 puis 4"
   ]
  },
  {
   "cell_type": "code",
   "execution_count": 52,
   "id": "91368248",
   "metadata": {},
   "outputs": [
    {
     "name": "stdout",
     "output_type": "stream",
     "text": [
      "0\n",
      "i != 2 & i != 5\n",
      "1\n",
      "i != 2 & i != 5\n",
      "2\n",
      "Cas spécial\n",
      "3\n",
      "i != 2 & i != 5\n",
      "4\n",
      "i != 2 & i != 5\n",
      "5\n",
      "Cas spécial\n",
      "6\n",
      "i != 2 & i != 5\n",
      "7\n",
      "i != 2 & i != 5\n",
      "8\n",
      "i != 2 & i != 5\n",
      "9\n",
      "i != 2 & i != 5\n"
     ]
    }
   ],
   "source": [
    "for i in range(10):\n",
    "    # instructions réalisées à chaque itération\n",
    "    print(i)\n",
    "    if (i == 2) or (i == 5):\n",
    "        print(\"Cas spécial\")\n",
    "        continue \n",
    "    # instructions non exécutées si i == 2 or 5 \n",
    "    print(\"i != 2 & i != 5\")\n"
   ]
  },
  {
   "cell_type": "code",
   "execution_count": 55,
   "id": "f3bca284",
   "metadata": {},
   "outputs": [
    {
     "name": "stdout",
     "output_type": "stream",
     "text": [
      "yeah !\n"
     ]
    }
   ],
   "source": [
    "d = {'a': 0, 'b': 1, 'c': 0}\n",
    "\n",
    "\n",
    "if d['a'] > 0:\n",
    "\n",
    "    print('yeah !')\n",
    "\n",
    "elif d['b'] > 0:\n",
    "\n",
    "    print('yeah !')\n",
    "\n",
    "elif d['c'] > 0:\n",
    "\n",
    "    print('ok')\n",
    "\n",
    "elif d['d'] > 0:\n",
    "\n",
    "    print('ok')\n",
    "\n",
    "else:\n",
    "\n",
    "    print('not ok')"
   ]
  },
  {
   "cell_type": "code",
   "execution_count": 56,
   "id": "e0e562e4",
   "metadata": {},
   "outputs": [
    {
     "name": "stdout",
     "output_type": "stream",
     "text": [
      "corge\n",
      "qux\n",
      "baz\n",
      "Done.\n"
     ]
    }
   ],
   "source": [
    "a = ['foo', 'bar', 'baz', 'qux', 'corge']\n",
    "\n",
    "\n",
    "while a:\n",
    "\n",
    "    if len(a) < 3:\n",
    "\n",
    "        break\n",
    "\n",
    "    print(a.pop())\n",
    "\n",
    "print('Done.')"
   ]
  },
  {
   "cell_type": "code",
   "execution_count": 25,
   "id": "29fdbf9d",
   "metadata": {},
   "outputs": [
    {
     "name": "stdout",
     "output_type": "stream",
     "text": [
      "1\n",
      "2\n",
      "4\n"
     ]
    }
   ],
   "source": [
    "if 'bar' in {'foo': 1, 'bar': 2, 'baz': 3}:\n",
    "\n",
    "    print(1)\n",
    "\n",
    "    print(2)\n",
    "\n",
    "    if 'a' in 'qux':\n",
    "\n",
    "        print(3)\n",
    "\n",
    "print(4)"
   ]
  },
  {
   "cell_type": "markdown",
   "id": "cad3498f",
   "metadata": {},
   "source": [
    "# ***Modules***"
   ]
  },
  {
   "cell_type": "code",
   "execution_count": 18,
   "id": "8e047435",
   "metadata": {},
   "outputs": [
    {
     "name": "stdout",
     "output_type": "stream",
     "text": [
      "Help on package math2:\n",
      "\n",
      "NAME\n",
      "    math2\n",
      "\n",
      "PACKAGE CONTENTS\n",
      "    analysis (package)\n",
      "    calc\n",
      "    consts\n",
      "    econ (package)\n",
      "    enums\n",
      "    linalg (package)\n",
      "    misc\n",
      "    ntheory (package)\n",
      "    stats (package)\n",
      "    tests (package)\n",
      "    typing\n",
      "    utils\n",
      "\n",
      "FILE\n",
      "    c:\\users\\zelion\\anaconda3\\lib\\site-packages\\math2\\__init__.py\n",
      "\n",
      "\n"
     ]
    }
   ],
   "source": [
    "import math2\n",
    "math=math2\n",
    "help(math)"
   ]
  },
  {
   "cell_type": "code",
   "execution_count": 11,
   "id": "15a94788",
   "metadata": {},
   "outputs": [
    {
     "ename": "TypeError",
     "evalue": "'module' object is not callable",
     "output_type": "error",
     "traceback": [
      "\u001b[1;31m---------------------------------------------------------------------------\u001b[0m",
      "\u001b[1;31mTypeError\u001b[0m                                 Traceback (most recent call last)",
      "\u001b[1;32m~\\AppData\\Local\\Temp\\ipykernel_880\\1249818828.py\u001b[0m in \u001b[0;36m<module>\u001b[1;34m\u001b[0m\n\u001b[0;32m      1\u001b[0m \u001b[1;31m#car = geometry.rectangle(4)\u001b[0m\u001b[1;33m\u001b[0m\u001b[1;33m\u001b[0m\u001b[0m\n\u001b[1;32m----> 2\u001b[1;33m \u001b[0mtri\u001b[0m \u001b[1;33m=\u001b[0m \u001b[0mgeometry\u001b[0m\u001b[1;33m.\u001b[0m\u001b[0mtriangle\u001b[0m\u001b[1;33m(\u001b[0m\u001b[1;36m3\u001b[0m\u001b[1;33m,\u001b[0m \u001b[1;36m6\u001b[0m\u001b[1;33m,\u001b[0m \u001b[1;36m5\u001b[0m\u001b[1;33m)\u001b[0m\u001b[1;33m\u001b[0m\u001b[1;33m\u001b[0m\u001b[0m\n\u001b[0m\u001b[0;32m      3\u001b[0m \u001b[1;33m\u001b[0m\u001b[0m\n\u001b[0;32m      4\u001b[0m \u001b[0mprint\u001b[0m\u001b[1;33m(\u001b[0m\u001b[0mgeometry\u001b[0m\u001b[1;33m.\u001b[0m\u001b[0mpi\u001b[0m\u001b[1;33m)\u001b[0m \u001b[1;31m# -> 3.14159265359\u001b[0m\u001b[1;33m\u001b[0m\u001b[1;33m\u001b[0m\u001b[0m\n\u001b[0;32m      5\u001b[0m \u001b[1;33m\u001b[0m\u001b[0m\n",
      "\u001b[1;31mTypeError\u001b[0m: 'module' object is not callable"
     ]
    }
   ],
   "source": [
    "#car = geometry.rectangle(4)\n",
    "tri = geometry.triangle(3, 6, 5)\n",
    "\n",
    "print(geometry.pi) # -> 3.14159265359\n",
    "\n",
    "geometry.aire(car) # -> 16"
   ]
  },
  {
   "cell_type": "code",
   "execution_count": 5,
   "id": "093c698b",
   "metadata": {},
   "outputs": [],
   "source": [
    "import geometry as geo # on peut maintenant accéder à geo.aire() ou geo.pi"
   ]
  },
  {
   "cell_type": "code",
   "execution_count": 8,
   "id": "b432f9d9",
   "metadata": {},
   "outputs": [
    {
     "ename": "ImportError",
     "evalue": "cannot import name 'pi' from 'geometry' (C:\\Users\\ZElion\\anaconda3\\lib\\site-packages\\geometry\\__init__.py)",
     "output_type": "error",
     "traceback": [
      "\u001b[1;31m---------------------------------------------------------------------------\u001b[0m",
      "\u001b[1;31mImportError\u001b[0m                               Traceback (most recent call last)",
      "\u001b[1;32m~\\AppData\\Local\\Temp\\ipykernel_880\\4087771124.py\u001b[0m in \u001b[0;36m<module>\u001b[1;34m\u001b[0m\n\u001b[1;32m----> 1\u001b[1;33m \u001b[1;32mfrom\u001b[0m \u001b[0mgeometry\u001b[0m \u001b[1;32mimport\u001b[0m \u001b[0mpi\u001b[0m\u001b[1;33m\u001b[0m\u001b[1;33m\u001b[0m\u001b[0m\n\u001b[0m\u001b[0;32m      2\u001b[0m \u001b[0mprint\u001b[0m\u001b[1;33m(\u001b[0m\u001b[0mpi\u001b[0m\u001b[1;33m)\u001b[0m \u001b[1;31m# -> 3.14159265359\u001b[0m\u001b[1;33m\u001b[0m\u001b[1;33m\u001b[0m\u001b[0m\n",
      "\u001b[1;31mImportError\u001b[0m: cannot import name 'pi' from 'geometry' (C:\\Users\\ZElion\\anaconda3\\lib\\site-packages\\geometry\\__init__.py)"
     ]
    }
   ],
   "source": [
    "from geometry import pi\n",
    "print(pi) # -> 3.14159265359"
   ]
  },
  {
   "cell_type": "markdown",
   "id": "f7f7c8df",
   "metadata": {},
   "source": [
    "# Installation package"
   ]
  },
  {
   "cell_type": "markdown",
   "id": "292fb4c6",
   "metadata": {},
   "source": [
    "## C:\\Users\\ZElion>python -m pip install geometry\n",
    " Collecting geometry\n",
    " \n",
    "  Downloading Geometry-0.0.23-py3-none-any.whl (36 kB)\n",
    "  \n",
    " Installing collected packages: geometry\n",
    " \n",
    " Successfully installed geometry-0.0.23"
   ]
  },
  {
   "cell_type": "code",
   "execution_count": 12,
   "id": "03c5c357",
   "metadata": {
    "scrolled": false
   },
   "outputs": [
    {
     "ename": "ModuleNotFoundError",
     "evalue": "No module named 'geometry.variables'",
     "output_type": "error",
     "traceback": [
      "\u001b[1;31m---------------------------------------------------------------------------\u001b[0m",
      "\u001b[1;31mModuleNotFoundError\u001b[0m                       Traceback (most recent call last)",
      "\u001b[1;32m~\\AppData\\Local\\Temp\\ipykernel_880\\807402433.py\u001b[0m in \u001b[0;36m<module>\u001b[1;34m\u001b[0m\n\u001b[1;32m----> 1\u001b[1;33m \u001b[1;32mimport\u001b[0m \u001b[0mgeometry\u001b[0m\u001b[1;33m.\u001b[0m\u001b[0mvariables\u001b[0m \u001b[1;32mas\u001b[0m \u001b[0mvar\u001b[0m \u001b[1;31m# importer uniquement ce qui est défini dans variables.py\u001b[0m\u001b[1;33m\u001b[0m\u001b[1;33m\u001b[0m\u001b[0m\n\u001b[0m\u001b[0;32m      2\u001b[0m \u001b[1;33m\u001b[0m\u001b[0m\n\u001b[0;32m      3\u001b[0m \u001b[0mprint\u001b[0m\u001b[1;33m(\u001b[0m\u001b[0mvar\u001b[0m\u001b[1;33m.\u001b[0m\u001b[0mpi\u001b[0m\u001b[1;33m)\u001b[0m \u001b[1;31m# -> 3.1415...\u001b[0m\u001b[1;33m\u001b[0m\u001b[1;33m\u001b[0m\u001b[0m\n",
      "\u001b[1;31mModuleNotFoundError\u001b[0m: No module named 'geometry.variables'"
     ]
    }
   ],
   "source": [
    "import geometry.variables as var # importer uniquement ce qui est défini dans variables.py\n",
    "\n",
    "print(var.pi) # -> 3.1415..."
   ]
  },
  {
   "cell_type": "code",
   "execution_count": 3,
   "id": "3c49371c",
   "metadata": {},
   "outputs": [],
   "source": [
    "import random"
   ]
  },
  {
   "cell_type": "code",
   "execution_count": 14,
   "id": "bc24e54d",
   "metadata": {},
   "outputs": [
    {
     "data": {
      "text/plain": [
       "4.0"
      ]
     },
     "execution_count": 14,
     "metadata": {},
     "output_type": "execute_result"
    }
   ],
   "source": [
    "import numpy as np #Package très utile !\n",
    "np.sqrt(16) # -> 4.0"
   ]
  },
  {
   "cell_type": "markdown",
   "id": "c2208228",
   "metadata": {},
   "source": [
    "## random.random: génère entre 0 et 1 exclu"
   ]
  },
  {
   "cell_type": "code",
   "execution_count": 21,
   "id": "d3d7bbbf",
   "metadata": {
    "scrolled": true
   },
   "outputs": [
    {
     "name": "stdout",
     "output_type": "stream",
     "text": [
      "0.07829523237217462\n",
      "0.24152205931820103\n",
      "0.8393659875928269\n"
     ]
    }
   ],
   "source": [
    "for i in range(3):\n",
    "    print(random.random())"
   ]
  },
  {
   "cell_type": "code",
   "execution_count": 30,
   "id": "b238ca37",
   "metadata": {},
   "outputs": [
    {
     "name": "stdout",
     "output_type": "stream",
     "text": [
      "Exemple de la fonction uniform :\n",
      "6.7777869444188195\n",
      "5.28500663609562\n",
      "6.864352571341495\n",
      "_______________\n",
      "Exemple de la fonction randint :\n",
      "10\n",
      "9\n",
      "7\n"
     ]
    }
   ],
   "source": [
    "print('Exemple de la fonction uniform :')\n",
    "for i in range(3):\n",
    "    print(random.uniform(5,10))\n",
    "print('_______________')\n",
    "print('Exemple de la fonction randint :')\n",
    "for i in range(3):\n",
    "    print(random.randint(5,10))"
   ]
  },
  {
   "cell_type": "markdown",
   "id": "a0852f1f",
   "metadata": {},
   "source": [
    "# Générez un nombre aléatoire selon une distribution donnée\n",
    "## Loi normale (est l’une des lois de probabilité les plus adaptées pour modéliser des phénomènes naturels issus de plusieurs événements aléatoires)\n",
    "    gauss(moyenne, écart-type)"
   ]
  },
  {
   "cell_type": "code",
   "execution_count": 32,
   "id": "0caf2c10",
   "metadata": {},
   "outputs": [
    {
     "name": "stdout",
     "output_type": "stream",
     "text": [
      "6.213081908391138\n",
      "5.607890004449989\n",
      "5.046867227797086\n",
      "3.5873543027457124\n",
      "6.664850793985598\n",
      "5.215814136496228\n",
      "5.64301598607329\n",
      "6.463421135234521\n",
      "6.404252359482513\n",
      "5.799858570247702\n"
     ]
    }
   ],
   "source": [
    "for i in range(10):\n",
    "    print(random.gauss(5,1))"
   ]
  },
  {
   "cell_type": "markdown",
   "id": "a66e8625",
   "metadata": {},
   "source": [
    "# Choisir aléatoirement dans une liste : sous-échantillonnage"
   ]
  },
  {
   "cell_type": "markdown",
   "id": "5be39908",
   "metadata": {},
   "source": [
    "# Echantillon avec remise"
   ]
  },
  {
   "cell_type": "code",
   "execution_count": 4,
   "id": "cc26a3df",
   "metadata": {
    "scrolled": true
   },
   "outputs": [
    {
     "name": "stdout",
     "output_type": "stream",
     "text": [
      "three\n",
      "one\n",
      "five\n"
     ]
    }
   ],
   "source": [
    "liste=['one','two','three','four','five']\n",
    "for i in range(3):\n",
    "    print(random.choice(liste))"
   ]
  },
  {
   "cell_type": "code",
   "execution_count": 5,
   "id": "fab1ebb2",
   "metadata": {},
   "outputs": [
    {
     "name": "stdout",
     "output_type": "stream",
     "text": [
      "['five', 'two']\n",
      "['five', 'two', 'three']\n"
     ]
    }
   ],
   "source": [
    "print(random.choices(liste, k=2))\n",
    "print(random.choices(liste, k=3))"
   ]
  },
  {
   "cell_type": "markdown",
   "id": "abec0733",
   "metadata": {},
   "source": [
    "# Echantillon sans remise"
   ]
  },
  {
   "cell_type": "code",
   "execution_count": 35,
   "id": "795b4d61",
   "metadata": {},
   "outputs": [
    {
     "name": "stdout",
     "output_type": "stream",
     "text": [
      "['three', 'five']\n",
      "['four', 'one', 'three']\n"
     ]
    }
   ],
   "source": [
    "print(random.sample(liste, 2))\n",
    "print(random.sample(liste, 3))"
   ]
  },
  {
   "cell_type": "code",
   "execution_count": 4,
   "id": "29d9af99",
   "metadata": {},
   "outputs": [
    {
     "name": "stdout",
     "output_type": "stream",
     "text": [
      "Python\n"
     ]
    }
   ],
   "source": [
    "class Library:\n",
    "        def practice(self, language='Java'):\n",
    "                print(language)\n",
    "l = Library()\n",
    "l.practice('Python')"
   ]
  },
  {
   "cell_type": "code",
   "execution_count": 5,
   "id": "3f1b7da2",
   "metadata": {},
   "outputs": [
    {
     "ename": "SyntaxError",
     "evalue": "invalid syntax (500914815.py, line 1)",
     "output_type": "error",
     "traceback": [
      "\u001b[1;36m  File \u001b[1;32m\"C:\\Users\\ZElion\\AppData\\Local\\Temp\\ipykernel_14696\\500914815.py\"\u001b[1;36m, line \u001b[1;32m1\u001b[0m\n\u001b[1;33m    (a,b) for a in range(3) for b in range(a)\u001b[0m\n\u001b[1;37m          ^\u001b[0m\n\u001b[1;31mSyntaxError\u001b[0m\u001b[1;31m:\u001b[0m invalid syntax\n"
     ]
    }
   ],
   "source": [
    "(a,b) for a in range(3) for b in range(a)"
   ]
  },
  {
   "cell_type": "code",
   "execution_count": 6,
   "id": "116e6c20",
   "metadata": {},
   "outputs": [
    {
     "data": {
      "text/plain": [
       "[(1, 0), (2, 0), (2, 1)]"
      ]
     },
     "execution_count": 6,
     "metadata": {},
     "output_type": "execute_result"
    }
   ],
   "source": [
    "[ (a,b) for a in range(3) for b in range(a) ]"
   ]
  },
  {
   "cell_type": "code",
   "execution_count": 7,
   "id": "4b5a1989",
   "metadata": {},
   "outputs": [
    {
     "name": "stdout",
     "output_type": "stream",
     "text": [
      "5\n"
     ]
    }
   ],
   "source": [
    "count = 1\n",
    "def calculate():\n",
    "\tglobal count\n",
    "\tfor i in (1, 2, 3, 4):\n",
    "\t\tcount += 1\n",
    "\n",
    "calculate()\n",
    "print(count)"
   ]
  },
  {
   "cell_type": "code",
   "execution_count": 8,
   "id": "cc1375f3",
   "metadata": {},
   "outputs": [
    {
     "name": "stdout",
     "output_type": "stream",
     "text": [
      "5\n"
     ]
    }
   ],
   "source": [
    "n = 0\n",
    "for i in range(5) :\n",
    "\tn = n + 1\n",
    "print(n)"
   ]
  },
  {
   "cell_type": "markdown",
   "id": "5151d8e3",
   "metadata": {},
   "source": [
    "\n",
    "if not exists(select name from sysobjects where type='U' and name = 'nomtable') \n",
    "CREATE TABLE nomTable\n"
   ]
  },
  {
   "cell_type": "code",
   "execution_count": 6,
   "id": "a3a11019",
   "metadata": {},
   "outputs": [
    {
     "name": "stdout",
     "output_type": "stream",
     "text": [
      "Pomme\n"
     ]
    }
   ],
   "source": [
    "import random\n",
    "\n",
    "\n",
    "panier = [\"Pomme\", \"Poire\", \"Banane\", \"Ananas\", \"Orange\"]\n",
    "\n",
    "resultat = panier[random.randint(0, 4)]\n",
    "\n",
    "print(resultat)"
   ]
  },
  {
   "cell_type": "code",
   "execution_count": 7,
   "id": "4f341905",
   "metadata": {},
   "outputs": [
    {
     "name": "stdout",
     "output_type": "stream",
     "text": [
      "Pomme\n"
     ]
    }
   ],
   "source": [
    "import random\n",
    "\n",
    "\n",
    "panier = [\"Pomme\", \"Poire\", \"Banane\", \"Ananas\", \"Orange\"]\n",
    "\n",
    "resultat = random.choice(panier)\n",
    "\n",
    "print(resultat)"
   ]
  },
  {
   "cell_type": "code",
   "execution_count": 8,
   "id": "d69f83df",
   "metadata": {},
   "outputs": [
    {
     "ename": "TypeError",
     "evalue": "Random.random() takes no arguments (1 given)",
     "output_type": "error",
     "traceback": [
      "\u001b[1;31m---------------------------------------------------------------------------\u001b[0m",
      "\u001b[1;31mTypeError\u001b[0m                                 Traceback (most recent call last)",
      "\u001b[1;32m~\\AppData\\Local\\Temp\\ipykernel_8304\\3387905530.py\u001b[0m in \u001b[0;36m<module>\u001b[1;34m\u001b[0m\n\u001b[0;32m      4\u001b[0m \u001b[0mpanier\u001b[0m \u001b[1;33m=\u001b[0m \u001b[1;33m[\u001b[0m\u001b[1;34m\"Pomme\"\u001b[0m\u001b[1;33m,\u001b[0m \u001b[1;34m\"Poire\"\u001b[0m\u001b[1;33m,\u001b[0m \u001b[1;34m\"Banane\"\u001b[0m\u001b[1;33m,\u001b[0m \u001b[1;34m\"Ananas\"\u001b[0m\u001b[1;33m,\u001b[0m \u001b[1;34m\"Orange\"\u001b[0m\u001b[1;33m]\u001b[0m\u001b[1;33m\u001b[0m\u001b[1;33m\u001b[0m\u001b[0m\n\u001b[0;32m      5\u001b[0m \u001b[1;33m\u001b[0m\u001b[0m\n\u001b[1;32m----> 6\u001b[1;33m \u001b[0mresultat\u001b[0m \u001b[1;33m=\u001b[0m \u001b[0mrandom\u001b[0m\u001b[1;33m.\u001b[0m\u001b[0mrandom\u001b[0m\u001b[1;33m(\u001b[0m\u001b[0mpanier\u001b[0m\u001b[1;33m)\u001b[0m\u001b[1;33m\u001b[0m\u001b[1;33m\u001b[0m\u001b[0m\n\u001b[0m\u001b[0;32m      7\u001b[0m \u001b[1;33m\u001b[0m\u001b[0m\n\u001b[0;32m      8\u001b[0m \u001b[0mprint\u001b[0m\u001b[1;33m(\u001b[0m\u001b[0mresultat\u001b[0m\u001b[1;33m)\u001b[0m\u001b[1;33m\u001b[0m\u001b[1;33m\u001b[0m\u001b[0m\n",
      "\u001b[1;31mTypeError\u001b[0m: Random.random() takes no arguments (1 given)"
     ]
    }
   ],
   "source": [
    "import random\n",
    "\n",
    "\n",
    "panier = [\"Pomme\", \"Poire\", \"Banane\", \"Ananas\", \"Orange\"]\n",
    "\n",
    "resultat = random.random(panier)\n",
    "\n",
    "print(resultat)"
   ]
  },
  {
   "cell_type": "code",
   "execution_count": 9,
   "id": "6340e40a",
   "metadata": {},
   "outputs": [
    {
     "name": "stdout",
     "output_type": "stream",
     "text": [
      "None\n"
     ]
    }
   ],
   "source": [
    "import random\n",
    "\n",
    "\n",
    "panier = [\"Pomme\", \"Poire\", \"Banane\", \"Ananas\", \"Orange\"]\n",
    "\n",
    "resultat = random.shuffle(panier)\n",
    "\n",
    "print(resultat)"
   ]
  },
  {
   "cell_type": "code",
   "execution_count": 11,
   "id": "2d338fd2",
   "metadata": {},
   "outputs": [
    {
     "name": "stdout",
     "output_type": "stream",
     "text": [
      "Help on method shuffle in module random:\n",
      "\n",
      "shuffle(x, random=None) method of random.Random instance\n",
      "    Shuffle list x in place, and return None.\n",
      "    \n",
      "    Optional argument random is a 0-argument function returning a\n",
      "    random float in [0.0, 1.0); if it is the default None, the\n",
      "    standard random.random will be used.\n",
      "\n"
     ]
    }
   ],
   "source": [
    "help(random.shuffle)"
   ]
  },
  {
   "cell_type": "code",
   "execution_count": null,
   "id": "b8989e07",
   "metadata": {},
   "outputs": [],
   "source": [
    "help(random.shuffle)"
   ]
  }
 ],
 "metadata": {
  "celltoolbar": "Format de la Cellule Texte Brut",
  "kernelspec": {
   "display_name": "Python 3 (ipykernel)",
   "language": "python",
   "name": "python3"
  },
  "language_info": {
   "codemirror_mode": {
    "name": "ipython",
    "version": 3
   },
   "file_extension": ".py",
   "mimetype": "text/x-python",
   "name": "python",
   "nbconvert_exporter": "python",
   "pygments_lexer": "ipython3",
   "version": "3.9.16"
  }
 },
 "nbformat": 4,
 "nbformat_minor": 5
}
